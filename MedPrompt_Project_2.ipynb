{
  "cells": [
    {
      "cell_type": "markdown",
      "metadata": {
        "id": "view-in-github",
        "colab_type": "text"
      },
      "source": [
        "<a href=\"https://colab.research.google.com/github/amralfa/UT/blob/main/MedPrompt_Project_2.ipynb\" target=\"_parent\"><img src=\"https://colab.research.google.com/assets/colab-badge.svg\" alt=\"Open In Colab\"/></a>"
      ]
    },
    {
      "cell_type": "markdown",
      "metadata": {
        "id": "3CNz35ia6Bz3"
      },
      "source": [
        "## Problem Statement"
      ]
    },
    {
      "cell_type": "markdown",
      "metadata": {
        "id": "CkRbhMJH6Bz3"
      },
      "source": [
        "### Business Context"
      ]
    },
    {
      "cell_type": "markdown",
      "metadata": {
        "id": "3PBm5xaj6Bz3"
      },
      "source": [
        "The healthcare industry is rapidly evolving, with professionals facing increasing challenges in managing vast volumes of medical data while delivering accurate and timely diagnoses. The need for quick access to comprehensive, reliable, and up-to-date medical knowledge is critical for improving patient outcomes and ensuring informed decision-making in a fast-paced environment.\n",
        "\n",
        "Healthcare professionals often encounter information overload, struggling to sift through extensive research and data to create accurate diagnoses and treatment plans. This challenge is amplified by the need for efficiency, particularly in emergencies, where time-sensitive decisions are vital. Furthermore, access to trusted, current medical information from renowned manuals and research papers is essential for maintaining high standards of care.\n",
        "\n",
        "To address these challenges, healthcare centers can focus on integrating systems that streamline access to medical knowledge, provide tools to support quick decision-making, and enhance efficiency. Leveraging centralized knowledge platforms and ensuring healthcare providers have continuous access to reliable resources can significantly improve patient care and operational effectiveness."
      ]
    },
    {
      "cell_type": "markdown",
      "metadata": {
        "id": "1xDPsqvO6Bz5"
      },
      "source": [
        "**Common Questions to Answer**\n",
        "\n",
        "**1. Diagnostic Assistance**: \"What are the common symptoms and treatments for pulmonary embolism?\"\n",
        "\n",
        "**2. Drug Information**: \"Can you provide the trade names of medications used for treating hypertension?\"\n",
        "\n",
        "**3. Treatment Plans**: \"What are the first-line options and alternatives for managing rheumatoid arthritis?\"\n",
        "\n",
        "**4. Specialty Knowledge**: \"What are the diagnostic steps for suspected endocrine disorders?\"\n",
        "\n",
        "**5. Critical Care Protocols**: \"What is the protocol for managing sepsis in a critical care unit?\""
      ]
    },
    {
      "cell_type": "markdown",
      "metadata": {
        "id": "CARPKFwm6Bz4"
      },
      "source": [
        "### Objective"
      ]
    },
    {
      "cell_type": "markdown",
      "metadata": {
        "id": "dOElOEXq6Bz4"
      },
      "source": [
        "As an AI specialist, your task is to develop a RAG-based AI solution using renowned medical manuals to address healthcare challenges. The objective is to **understand** issues like information overload, **apply** AI techniques to streamline decision-making, **analyze** its impact on diagnostics and patient outcomes, **evaluate** its potential to standardize care practices, and **create** a functional prototype demonstrating its feasibility and effectiveness."
      ]
    },
    {
      "cell_type": "markdown",
      "metadata": {
        "id": "by9EvAnkSpZf"
      },
      "source": [
        "### Data Description"
      ]
    },
    {
      "cell_type": "markdown",
      "metadata": {
        "id": "Jw5LievCSru2"
      },
      "source": [
        "The **Merck Manuals** are medical references published by the American pharmaceutical company Merck & Co., that cover a wide range of medical topics, including disorders, tests, diagnoses, and drugs. The manuals have been published since 1899, when Merck & Co. was still a subsidiary of the German company Merck.\n",
        "\n",
        "The manual is provided as a PDF with over 4,000 pages divided into 23 sections."
      ]
    },
    {
      "cell_type": "markdown",
      "metadata": {
        "id": "lnwETBOE6Bz5"
      },
      "source": [
        "## Installing and Importing Necessary Libraries and Dependencies"
      ]
    },
    {
      "cell_type": "code",
      "execution_count": null,
      "metadata": {
        "id": "q4GgLhZhUM4V"
      },
      "outputs": [],
      "source": [
        "# Installation for GPU llama-cpp-python\n",
        "# uncomment and run the following code in case GPU is being used\n",
        "!CMAKE_ARGS=\"-DLLAMA_CUBLAS=on\" FORCE_CMAKE=1 pip install llama-cpp-python==0.1.85 --force-reinstall --no-cache-dir -q\n",
        "\n",
        "# Installation for CPU llama-cpp-python\n",
        "# uncomment and run the following code in case GPU is not being used\n",
        "# !CMAKE_ARGS=\"-DLLAMA_CUBLAS=off\" FORCE_CMAKE=1 pip install llama-cpp-python==0.1.85 --force-reinstall --no-cache-dir -q"
      ]
    },
    {
      "cell_type": "code",
      "execution_count": null,
      "metadata": {
        "id": "0VOckDVkWGei"
      },
      "outputs": [],
      "source": [
        "# For installing the libraries & downloading models from HF Hub\n",
        "!pip install huggingface_hub==0.23.2 pandas==1.5.3 \\\n",
        "tiktoken==0.6.0 pymupdf==1.25.1 langchain==0.1.1 langchain-community==0.0.13 \\\n",
        "chromadb==0.4.22 sentence-transformers==2.3.1 numpy==1.25.2 -q"
      ]
    },
    {
      "cell_type": "code",
      "execution_count": null,
      "metadata": {
        "id": "RTY9GN4oWK3g"
      },
      "outputs": [],
      "source": [
        "#Libraries for processing dataframes,text\n",
        "import json,os\n",
        "import tiktoken\n",
        "import pandas as pd\n",
        "\n",
        "#Libraries for Loading Data, Chunking, Embedding, and Vector Databases\n",
        "from langchain.text_splitter import RecursiveCharacterTextSplitter\n",
        "from langchain_community.document_loaders import PyMuPDFLoader\n",
        "from langchain_community.embeddings.sentence_transformer import SentenceTransformerEmbeddings\n",
        "from langchain_community.vectorstores import Chroma\n",
        "\n",
        "#Libraries for downloading and loading the llm\n",
        "from huggingface_hub import hf_hub_download\n",
        "from llama_cpp import Llama"
      ]
    },
    {
      "cell_type": "markdown",
      "metadata": {
        "id": "TtZWqj0wFTS1"
      },
      "source": [
        "## Question Answering using LLM"
      ]
    },
    {
      "cell_type": "markdown",
      "metadata": {
        "id": "Uq1lhM4WFTS2"
      },
      "source": [
        "#### Downloading and Loading the model"
      ]
    },
    {
      "cell_type": "code",
      "source": [
        "model_name_or_path = \"TheBloke/Mistral-7B-Instruct-v0.2-GGUF\"\n",
        "model_basename = \"mistral-7b-instruct-v0.2.Q6_K.gguf\""
      ],
      "metadata": {
        "id": "dA3XQMWmQLJp"
      },
      "execution_count": null,
      "outputs": []
    },
    {
      "cell_type": "code",
      "source": [
        "# Download the model file from Hugging Face Hub\n",
        "model_path = hf_hub_download(\n",
        "    repo_id=model_name_or_path,\n",
        "    filename=model_basename,\n",
        "    resume_download=True,\n",
        "    cache_dir=\".\"\n",
        ")\n",
        "#Snippet of code for the runtime when connected to GPU.\n",
        "llm = Llama(\n",
        "    model_path=model_path,\n",
        "    n_ctx=8192,\n",
        "    n_gpu_layers=38,\n",
        "    n_batch=512\n",
        ")"
      ],
      "metadata": {
        "id": "8DpzI0_zfzw9"
      },
      "execution_count": null,
      "outputs": []
    },
    {
      "cell_type": "markdown",
      "metadata": {
        "id": "EzzkvIXvFTS4"
      },
      "source": [
        "#### Response"
      ]
    },
    {
      "cell_type": "code",
      "source": [
        "def response(query,max_tokens=128,temperature=0,top_p=0.95,top_k=50):\n",
        "    model_output = llm(\n",
        "      prompt=query,\n",
        "      max_tokens=max_tokens,\n",
        "      temperature=temperature,\n",
        "      top_p=top_p,\n",
        "      top_k=top_k\n",
        "    )\n",
        "\n",
        "    return model_output['choices'][0]['text']"
      ],
      "metadata": {
        "id": "hG_IaZj0QLw4"
      },
      "execution_count": null,
      "outputs": []
    },
    {
      "cell_type": "code",
      "source": [
        "response(\"What treatment options are available for managing hypertension?\")"
      ],
      "metadata": {
        "id": "kYGvEjaYf2sY"
      },
      "execution_count": null,
      "outputs": []
    },
    {
      "cell_type": "markdown",
      "source": [
        "**Observation:**\n",
        "Hypertension is a common but manageable condition that significantly increases the risk of heart disease, stroke, and kidney damage. Early intervention through lifestyle changes—such as a healthy diet, reduced sodium intake, and regular exercise—is essential for effective blood pressure control and long-term health."
      ],
      "metadata": {
        "id": "BgJF0m-GlWZS"
      }
    },
    {
      "cell_type": "markdown",
      "metadata": {
        "id": "K8YgK91SFjVY"
      },
      "source": [
        "### Query 1: What is the protocol for managing sepsis in a critical care unit?"
      ]
    },
    {
      "cell_type": "code",
      "source": [
        "user_input = \"What is the protocol for managing sepsis in a critical care unit?\"\n",
        "response(user_input)"
      ],
      "metadata": {
        "id": "-JLIVmpPQH0f"
      },
      "execution_count": null,
      "outputs": []
    },
    {
      "cell_type": "markdown",
      "source": [
        "**Observations:** Hypertension is a widespread health issue with serious potential complications, including heart disease and stroke. Fortunately, it is highly manageable through proven treatment methods. Lifestyle modifications play a crucial role in controlling blood pressure, emphasizing the importance of a balanced diet, reduced sodium intake, and regular exercise as foundational steps in prevention and long-term management."
      ],
      "metadata": {
        "id": "FZlz6DMYlXxG"
      }
    },
    {
      "cell_type": "markdown",
      "metadata": {
        "id": "J6yxICeVFjVc"
      },
      "source": [
        "### Query 2: What are the common symptoms for appendicitis, and can it be cured via medicine? If not, what surgical procedure should be followed to treat it?"
      ]
    },
    {
      "cell_type": "code",
      "source": [
        "user_input_2 = \"What are the common symptoms for appendicitis, and can it be cured via medicine? If not, what surgical procedure should be followed to treat it?\" #Complete the code to define the query #2\n",
        "response(user_input_2)"
      ],
      "metadata": {
        "id": "BdiHRgEqQIP9"
      },
      "execution_count": null,
      "outputs": []
    },
    {
      "cell_type": "markdown",
      "source": [
        "**Observation:**\n",
        "Appendicitis is a potentially serious condition marked by inflammation of the appendix, often presenting with escalating abdominal pain that shifts to the lower right side. Early detection is critical, as symptoms like worsening pain with movement or breathing may signal the need for prompt medical intervention to prevent complications such as rupture or infection.\n"
      ],
      "metadata": {
        "id": "uqE2hhJ5lZk7"
      }
    },
    {
      "cell_type": "markdown",
      "metadata": {
        "id": "oflaoOGiFjVd"
      },
      "source": [
        "### Query 3: What are the effective treatments or solutions for addressing sudden patchy hair loss, commonly seen as localized bald spots on the scalp, and what could be the possible causes behind it?"
      ]
    },
    {
      "cell_type": "code",
      "source": [
        "user_input_2 = \"What are the effective treatments or solutions for addressing sudden patchy hair loss, commonly seen as localized bald spots on the scalp, and what could be the possible causes behind it?\" #Complete the code to define the query #3\n",
        "response(user_input_2)"
      ],
      "metadata": {
        "id": "N-mx9yboQIt-"
      },
      "execution_count": null,
      "outputs": []
    },
    {
      "cell_type": "markdown",
      "source": [
        "**Observation:**\n",
        "Alopecia areata is an autoimmune condition that leads to sudden, patchy hair loss, typically forming round or oval bald spots. While its exact cause remains unclear, it is likely linked to immune system dysfunction and may be triggered by factors such as stress, genetics, or infections. The condition can affect various areas of the body and often has unpredictable patterns of hair loss and regrowth."
      ],
      "metadata": {
        "id": "W4NBQmU6n_jg"
      }
    },
    {
      "cell_type": "markdown",
      "metadata": {
        "id": "WUUqY4FbFjVe"
      },
      "source": [
        "### Query 4:  What treatments are recommended for a person who has sustained a physical injury to brain tissue, resulting in temporary or permanent impairment of brain function?"
      ]
    },
    {
      "cell_type": "code",
      "source": [
        "user_input_2 = \"What treatments are recommended for a person who has sustained a physical injury to brain tissue, resulting in temporary or permanent impairment of brain function?\" #Complete the code to define the query #4\n",
        "response(user_input_2)"
      ],
      "metadata": {
        "id": "TEsVMaKaQJzh"
      },
      "execution_count": null,
      "outputs": []
    },
    {
      "cell_type": "markdown",
      "source": [
        "**Observation:**\n",
        "Traumatic brain injury (TBI) is a serious condition that can vary widely in severity and treatment needs. Immediate emergency care is crucial to stabilize vital functions and prevent further damage. Treatment often includes medications to control symptoms like swelling or seizures, and in severe cases, surgical intervention may be necessary. Early and comprehensive medical response significantly influences recovery outcomes.\n"
      ],
      "metadata": {
        "id": "YV-oL38Kla_V"
      }
    },
    {
      "cell_type": "markdown",
      "metadata": {
        "id": "5laPFTHrFjVf"
      },
      "source": [
        "### Query 5: What are the necessary precautions and treatment steps for a person who has fractured their leg during a hiking trip, and what should be considered for their care and recovery?"
      ]
    },
    {
      "cell_type": "code",
      "source": [
        "user_input_2 = \"What are the necessary precautions and treatment steps for a person who has fractured their leg during a hiking trip, and what should be considered for their care and recovery?\" #Complete the code to define the query #5\n",
        "response(user_input_2)"
      ],
      "metadata": {
        "id": "VfrlmrP5QKJz"
      },
      "execution_count": null,
      "outputs": []
    },
    {
      "cell_type": "markdown",
      "source": [
        "**Observation:**\n",
        "In the event of a suspected leg fracture during hiking, prompt and careful first aid is crucial to prevent further harm. Keeping the person calm and still helps limit movement and pain, while assessing for signs of shock ensures timely emergency response. Immobilizing the leg with a splint before moving the person is a key step in stabilizing the injury until professional medical help arrives."
      ],
      "metadata": {
        "id": "xT4XnwFBlb5w"
      }
    },
    {
      "cell_type": "markdown",
      "metadata": {
        "id": "g5myZ5dOOefc"
      },
      "source": [
        "## Question Answering using LLM with Prompt Engineering"
      ]
    },
    {
      "cell_type": "code",
      "source": [
        "system_prompt = (\n",
        "    \"You are an expert medical assistant with a focus on critical care. \"\n",
        "    \"Deliver clear, precise, and evidence-based answers aligned with current medical standards and protocols.\"\n",
        ")"
      ],
      "metadata": {
        "id": "MaCfoblsgnUx"
      },
      "execution_count": null,
      "outputs": []
    },
    {
      "cell_type": "markdown",
      "metadata": {
        "id": "9Jg3r_LWOeff"
      },
      "source": [
        "### Query 1: What is the protocol for managing sepsis in a critical care unit?"
      ]
    },
    {
      "cell_type": "code",
      "source": [
        "user_input = system_prompt+\"\\n\"+ \"What is the protocol for managing sepsis in a critical care unit?\"\n",
        "response(user_input)"
      ],
      "metadata": {
        "id": "YqM4VMw5ROhX"
      },
      "execution_count": null,
      "outputs": []
    },
    {
      "cell_type": "markdown",
      "source": [
        "**Observation:**\n",
        "Sepsis is a critical medical emergency resulting from an abnormal immune response to infection, requiring rapid intervention. Effective management begins with early recognition using tools like the SOFA or qSOFA scores, followed by immediate fluid resuscitation to stabilize circulation. Timely and structured care, as outlined in the Surviving Sepsis Campaign guidelines, is essential to improve patient outcomes and reduce mortality risk."
      ],
      "metadata": {
        "id": "Le8g79o2ldlA"
      }
    },
    {
      "cell_type": "markdown",
      "metadata": {
        "id": "iYpyw4HjOeff"
      },
      "source": [
        "### Query 2: What are the common symptoms for appendicitis, and can it be cured via medicine? If not, what surgical procedure should be followed to treat it?"
      ]
    },
    {
      "cell_type": "code",
      "source": [
        "user_input = system_prompt + \"\\n\" + \"What are the common symptoms for appendicitis, and can it be cured via medicine? If not, what surgical procedure should be followed to treat it?\" #Complete the code to pass the query #2\n",
        "response(user_input)"
      ],
      "metadata": {
        "id": "GXl09pFfRPBr"
      },
      "execution_count": null,
      "outputs": []
    },
    {
      "cell_type": "markdown",
      "source": [
        "**Observation:**\n",
        "Appendicitis involves inflammation of the appendix and is typically marked by progressive abdominal pain localized to the lower right quadrant. Early symptoms may start as mild discomfort and intensify over time, often accompanied by a loss of appetite. Prompt medical evaluation is essential, as untreated appendicitis can lead to serious complications such as rupture or infection."
      ],
      "metadata": {
        "id": "RmZ5jF9Llef-"
      }
    },
    {
      "cell_type": "markdown",
      "metadata": {
        "id": "dRp92JQZOeff"
      },
      "source": [
        "### Query 3: What are the effective treatments or solutions for addressing sudden patchy hair loss, commonly seen as localized bald spots on the scalp, and what could be the possible causes behind it?"
      ]
    },
    {
      "cell_type": "code",
      "source": [
        "user_input = system_prompt + \"\\n\" + \"What are the effective treatments or solutions for addressing sudden patchy hair loss, commonly seen as localized bald spots on the scalp, and what could be the possible causes behind it?\" #Complete the code to pass the query #3\n",
        "response(user_input)"
      ],
      "metadata": {
        "id": "JOgATEpMRPve"
      },
      "execution_count": null,
      "outputs": []
    },
    {
      "cell_type": "markdown",
      "source": [
        "**Observation:**\n",
        "Alopecia areata is an autoimmune condition characterized by sudden, localized hair loss, most often affecting the scalp. While its exact cause remains unclear, it is thought to involve immune system dysfunction. Treatments like corticosteroids are commonly used to reduce inflammation and encourage hair regrowth, though results may vary. Early intervention can improve outcomes and help manage the emotional impact of the condition."
      ],
      "metadata": {
        "id": "C-zxEZo2lgB0"
      }
    },
    {
      "cell_type": "markdown",
      "metadata": {
        "id": "AA45zwyUOefg"
      },
      "source": [
        "### Query 4:  What treatments are recommended for a person who has sustained a physical injury to brain tissue, resulting in temporary or permanent impairment of brain function?"
      ]
    },
    {
      "cell_type": "code",
      "source": [
        "user_input = system_prompt + \"\\n\" + \"What treatments are recommended for a person who has sustained a physical injury to brain tissue, resulting in temporary or permanent impairment of brain function?\" #Complete the code to pass the query #4\n",
        "response(user_input)"
      ],
      "metadata": {
        "id": "VA7G8FOnRQZY"
      },
      "execution_count": null,
      "outputs": []
    },
    {
      "cell_type": "markdown",
      "source": [
        "**Observation:**\n",
        "Treatment for traumatic brain injury (TBI) varies based on severity and location but typically begins with emergency care to stabilize vital functions and reduce brain swelling. In more serious cases, surgery may be necessary to remove blood clots or repair structural damage. Immediate and specialized medical intervention is essential to minimize long-term effects and improve recovery prospects."
      ],
      "metadata": {
        "id": "LzQW5fL9lg2C"
      }
    },
    {
      "cell_type": "markdown",
      "metadata": {
        "id": "TYXxiSuBOefg"
      },
      "source": [
        "### Query 5: What are the necessary precautions and treatment steps for a person who has fractured their leg during a hiking trip, and what should be considered for their care and recovery?"
      ]
    },
    {
      "cell_type": "code",
      "source": [
        "user_input = system_prompt + \"\\n\" + \"What are the necessary precautions and treatment steps for a person who has fractured their leg during a hiking trip, and what should be considered for their care and recovery?\" #Complete the code to pass the query #5\n",
        "response(user_input)"
      ],
      "metadata": {
        "id": "mE2GMQk8RQ_p"
      },
      "execution_count": null,
      "outputs": []
    },
    {
      "cell_type": "markdown",
      "source": [
        "**Observation:**\n",
        "A long bone fracture in the leg is a significant injury that demands immediate care to prevent complications. Initial steps include immobilizing the leg to avoid further damage and reduce pain, followed by appropriate pain management. Timely medical intervention is crucial for proper alignment, healing, and long-term mobility recovery."
      ],
      "metadata": {
        "id": "OBXNQp1ulhwD"
      }
    },
    {
      "cell_type": "markdown",
      "source": [
        "## Data Preparation for RAG"
      ],
      "metadata": {
        "id": "t_O1PGdNO2M9"
      }
    },
    {
      "cell_type": "markdown",
      "metadata": {
        "id": "uTpWESc53dL9"
      },
      "source": [
        "### Loading the Data"
      ]
    },
    {
      "cell_type": "code",
      "source": [
        "manual_pdf_path = \"/content/medical_diagnosis_manual.pdf\""
      ],
      "metadata": {
        "id": "ybj2cEnzRSXq"
      },
      "execution_count": null,
      "outputs": []
    },
    {
      "cell_type": "code",
      "source": [
        "pdf_loader = PyMuPDFLoader(manual_pdf_path)"
      ],
      "metadata": {
        "id": "yccTsZ-0g-Oh"
      },
      "execution_count": null,
      "outputs": []
    },
    {
      "cell_type": "code",
      "source": [
        "manual = pdf_loader.load()"
      ],
      "metadata": {
        "id": "ouo25e7ghAmO"
      },
      "execution_count": null,
      "outputs": []
    },
    {
      "cell_type": "markdown",
      "metadata": {
        "id": "ffj0ca3eZT4u"
      },
      "source": [
        "### Data Overview"
      ]
    },
    {
      "cell_type": "markdown",
      "metadata": {
        "id": "f9weTDzMxRRS"
      },
      "source": [
        "#### Checking the first 5 pages"
      ]
    },
    {
      "cell_type": "code",
      "source": [
        "for i in range(5):\n",
        "    print(f\"Page Number : {i+1}\",end=\"\\n\")\n",
        "    print(manual[i].page_content,end=\"\\n\")"
      ],
      "metadata": {
        "id": "MSEiL--bRTZT"
      },
      "execution_count": null,
      "outputs": []
    },
    {
      "cell_type": "markdown",
      "source": [
        "Observation:\n",
        "This document serves as a detailed clinical guide, likely a medical textbook, covering essential topics across multiple disciplines such as nutrition, gastroenterology, hepatology, musculoskeletal diseases, ENT, ophthalmology, dermatology, endocrinology, hematology, oncology, immunology, and infectious diseases. The organization into body systems and clinical domains suggests it's intended for use by healthcare professionals and students as a reference for diagnosis, treatment, and clinical management. It emphasizes evidence-based approaches with in-depth chapters on disorders, diagnostic techniques, and therapeutic strategies."
      ],
      "metadata": {
        "id": "VxvIxJB4ljSg"
      }
    },
    {
      "cell_type": "markdown",
      "metadata": {
        "id": "7-wNNalNxPKT"
      },
      "source": [
        "#### Checking the number of pages"
      ]
    },
    {
      "cell_type": "code",
      "source": [
        "len(manual)"
      ],
      "metadata": {
        "id": "-NuC-6SNRT7K"
      },
      "execution_count": null,
      "outputs": []
    },
    {
      "cell_type": "markdown",
      "metadata": {
        "id": "LECMxTH-zB-R"
      },
      "source": [
        "### Data Chunking"
      ]
    },
    {
      "cell_type": "code",
      "source": [
        "text_splitter = RecursiveCharacterTextSplitter.from_tiktoken_encoder(\n",
        "    encoding_name='cl100k_base',\n",
        "    chunk_size=500,\n",
        "    chunk_overlap=50\n",
        ")"
      ],
      "metadata": {
        "id": "ir9Zi8rKRUmG"
      },
      "execution_count": null,
      "outputs": []
    },
    {
      "cell_type": "code",
      "source": [
        "document_chunks = pdf_loader.load_and_split(text_splitter)"
      ],
      "metadata": {
        "id": "r5aRcW5ohc3l"
      },
      "execution_count": null,
      "outputs": []
    },
    {
      "cell_type": "code",
      "source": [
        "len(document_chunks)"
      ],
      "metadata": {
        "id": "ECwJd-T3hfGd"
      },
      "execution_count": null,
      "outputs": []
    },
    {
      "cell_type": "code",
      "source": [
        "document_chunks[0].page_content"
      ],
      "metadata": {
        "id": "LEObN9CchhtL"
      },
      "execution_count": null,
      "outputs": []
    },
    {
      "cell_type": "code",
      "source": [
        "document_chunks[1].page_content"
      ],
      "metadata": {
        "id": "BbmImxrqhjgL"
      },
      "execution_count": null,
      "outputs": []
    },
    {
      "cell_type": "markdown",
      "metadata": {
        "id": "BvHVejcWz0Bl"
      },
      "source": [
        "### Embedding"
      ]
    },
    {
      "cell_type": "code",
      "source": [
        "embedding_model = SentenceTransformerEmbeddings(model_name=\"all-MiniLM-L6-v2\")"
      ],
      "metadata": {
        "id": "R3CAgoUeRVLa"
      },
      "execution_count": null,
      "outputs": []
    },
    {
      "cell_type": "markdown",
      "source": [
        "This output indicates a successful download and setup of a **Sentence-BERT (SBERT)** or similar transformer-based model. Here’s a quick **observation summary**:\n",
        "\n",
        "---\n",
        "\n",
        "**Observation:**\n",
        "All required model files, including configurations (`config.json`, `sentence_bert_config.json`), tokenizer files (`tokenizer.json`, `vocab.txt`), and model weights (`model.safetensors`) have been downloaded completely. This suggests that the transformer model is now fully set up and ready for use in tasks such as semantic similarity, text embeddings, or question-answering—common use cases for Sentence-BERT and related models.\n",
        "\n",
        "Let me know if you'd like help loading or running the model in code."
      ],
      "metadata": {
        "id": "maR9IYOlllrs"
      }
    },
    {
      "cell_type": "code",
      "source": [
        "embedding_1 = embedding_model.embed_query(document_chunks[0].page_content)\n",
        "embedding_2 = embedding_model.embed_query(document_chunks[1].page_content)"
      ],
      "metadata": {
        "id": "pLYSSLQ3kE8x"
      },
      "execution_count": null,
      "outputs": []
    },
    {
      "cell_type": "code",
      "source": [
        "print(\"Dimension of the embedding vector \",len(embedding_1))\n",
        "len(embedding_1)==len(embedding_2)"
      ],
      "metadata": {
        "id": "LBNkndRIkSO8"
      },
      "execution_count": null,
      "outputs": []
    },
    {
      "cell_type": "markdown",
      "source": [
        "**Observation:**\n",
        "The embedding vector dimension is **384**, which is typical for lightweight Sentence-BERT models like `all-MiniLM-L6-v2`. This dimension balances performance and computational efficiency, making it well-suited for tasks such as semantic search, sentence similarity, and information retrieval in real-time applications.\n",
        "\n",
        "Let me know if you'd like to visualize embeddings, compare vectors, or build a retrieval system with them."
      ],
      "metadata": {
        "id": "_x6SXHSflmw8"
      }
    },
    {
      "cell_type": "markdown",
      "metadata": {
        "id": "qiKCOv4X0d7B"
      },
      "source": [
        "### Vector Database"
      ]
    },
    {
      "cell_type": "code",
      "source": [
        "out_dir = 'medical_db'\n",
        "\n",
        "if not os.path.exists(out_dir):\n",
        "  os.makedirs(out_dir)"
      ],
      "metadata": {
        "id": "vHHt1MQQRVzs"
      },
      "execution_count": null,
      "outputs": []
    },
    {
      "cell_type": "code",
      "source": [
        "vectorstore = Chroma.from_documents(\n",
        "    document_chunks,            # Your list of document chunks\n",
        "    embedding_model,            # Your sentence transformer embedding model\n",
        "    persist_directory=out_dir   # Directory to save vector store\n",
        ")"
      ],
      "metadata": {
        "id": "2e1u1guqkY2B"
      },
      "execution_count": null,
      "outputs": []
    },
    {
      "cell_type": "code",
      "source": [
        "vectorstore = Chroma(persist_directory=out_dir,embedding_function=embedding_model)"
      ],
      "metadata": {
        "id": "FPznTMPnkbq3"
      },
      "execution_count": null,
      "outputs": []
    },
    {
      "cell_type": "code",
      "source": [
        "vectorstore.embeddings"
      ],
      "metadata": {
        "id": "LZWfGC49kbar"
      },
      "execution_count": null,
      "outputs": []
    },
    {
      "cell_type": "markdown",
      "source": [
        "**Observation:**\n",
        "You're using `HuggingFaceEmbeddings` with the `all-MiniLM-L6-v2` model from the **SentenceTransformers** library. This model uses:\n",
        "\n",
        "* **BERT-based architecture** with a max sequence length of 256.\n",
        "* **Mean pooling** of token embeddings to generate a **384-dimensional vector**.\n",
        "* **Normalization** of output embeddings to ensure consistent vector magnitudes, which is especially useful for similarity search tasks.\n",
        "* No additional model or encoding arguments, and no multiprocessing enabled.\n",
        "\n",
        "This configuration is lightweight and optimized for fast and accurate sentence embedding tasks, ideal for use in RAG (Retrieval-Augmented Generation), semantic search, and document similarity applications."
      ],
      "metadata": {
        "id": "4_PvhAH4loXb"
      }
    },
    {
      "cell_type": "code",
      "source": [
        "vectorstore.similarity_search(\"What are the common symptoms and treatments for pulmonary embolism?\",k=5)"
      ],
      "metadata": {
        "id": "PdkF6Gyzkeqe"
      },
      "execution_count": null,
      "outputs": []
    },
    {
      "cell_type": "markdown",
      "source": [
        "**Observations**: Pulmonary embolism (PE) is a serious and potentially fatal condition caused by the blockage of one or more pulmonary arteries, typically by thrombi originating from deep veins in the lower extremities or pelvis. It affects around 350,000 people annually in the U.S. and can lead to up to 85,000 deaths each year. Risk factors include venous stasis, endothelial injury, and hypercoagulable states. Symptoms such as dyspnea, pleuritic chest pain, and syncope are nonspecific, and diagnosis relies on imaging like CT angiography or V/Q scans, supported by clinical judgment and ECG findings. Small emboli may resolve spontaneously, but larger ones can cause hypoxemia, pulmonary hypertension, or even sudden death. Treatment involves anticoagulation, with thrombolytics or surgical intervention in severe cases, and inferior vena cava (IVC) filters may be used if anticoagulation is contraindicated. Rare forms include septic, tumor, or foreign body embolism. Prompt diagnosis and management are critical to improving outcomes and preventing complications like chronic pulmonary hypertension or right heart failure."
      ],
      "metadata": {
        "id": "26clPAWxpvZP"
      }
    },
    {
      "cell_type": "markdown",
      "metadata": {
        "id": "uEa5sKc41T1z"
      },
      "source": [
        "### Retriever"
      ]
    },
    {
      "cell_type": "code",
      "source": [
        "retriever = vectorstore.as_retriever(\n",
        "    search_type='similarity',\n",
        "    search_kwargs={'k': 5}\n",
        ")"
      ],
      "metadata": {
        "id": "wBlQUGx3RWUD"
      },
      "execution_count": null,
      "outputs": []
    },
    {
      "cell_type": "code",
      "source": [
        "rel_docs = retriever.get_relevant_documents(\"What are the common symptoms and treatments for pulmonary embolism?\")\n",
        "rel_docs"
      ],
      "metadata": {
        "id": "u-pxXU0ykkQt"
      },
      "execution_count": null,
      "outputs": []
    },
    {
      "cell_type": "markdown",
      "source": [
        "**Observations:** Pulmonary embolism (PE) is a life-threatening condition characterized by the blockage of one or more pulmonary arteries, typically by thrombi originating from deep veins in the lower extremities or pelvis. It affects approximately 350,000 individuals annually in the U.S., with up to 85,000 deaths, and primarily impacts adults. Risk factors include impaired venous return, endothelial injury, and hypercoagulable states. Symptoms such as dyspnea, chest pain, cough, or syncope are nonspecific, and diagnosis relies on imaging like CT angiography, ventilation-perfusion scans, or pulmonary arteriograms. Most PEs originate from deep venous thrombosis (DVT), and when dislodged, the clots travel to the lungs, causing partial or complete vessel occlusion. Small emboli may resolve spontaneously, but larger ones can lead to hypoxemia, right ventricular failure, or sudden death. ECG findings such as S1Q3T3 or right bundle branch block are rare but can aid in diagnosis. Treatment typically involves anticoagulation, with thrombolytics or surgery in severe cases; IVC filters are used when anticoagulants are contraindicated. Rare types of PE include septic, tumor, and foreign body embolisms, which require targeted treatments. Accurate clinical assessment and timely intervention are crucial to reducing mortality and preventing long-term complications such as chronic thromboembolic pulmonary hypertension."
      ],
      "metadata": {
        "id": "-gDqWdwglq0X"
      }
    },
    {
      "cell_type": "code",
      "source": [
        "model_output = llm(\n",
        "      \"What are the common symptoms and treatments for pulmonary embolism?\", #Your query\n",
        "      max_tokens=512, #controls maximum number of tokens\n",
        "      temperature=0.7, #controls the temperature (0 = deterministic, 1 = more creative)\n",
        "    )"
      ],
      "metadata": {
        "id": "QsHjdv51kvPF"
      },
      "execution_count": null,
      "outputs": []
    },
    {
      "cell_type": "code",
      "source": [
        "model_output['choices'][0]['text']"
      ],
      "metadata": {
        "id": "nGenrP5YmZWI"
      },
      "execution_count": null,
      "outputs": []
    },
    {
      "cell_type": "markdown",
      "source": [
        "**Observations:** Pulmonary embolism (PE) is a serious and potentially life-threatening condition in which one or more arteries supplying blood to the lungs become blocked, most often by a blood clot. Common symptoms include sudden shortness of breath, chest pain that worsens with deep breaths or coughing, a rapid heartbeat, and occasionally coughing up blood. The severity of symptoms depends on the size of the clot and the person’s overall health. Treatment typically involves anticoagulant medications to prevent further clotting and allow the body to break down the existing clot. In critical cases, procedures like thrombectomy may be required to physically remove the clot. Oxygen therapy and supportive care may also be needed to ease breathing and stabilize the patient. Prompt medical attention is essential, as PE is a medical emergency that can rapidly become fatal if left untreated."
      ],
      "metadata": {
        "id": "KtRg-BFplr-Z"
      }
    },
    {
      "cell_type": "markdown",
      "metadata": {
        "id": "vw8qcwq66B0C",
        "nteract": {
          "transient": {
            "deleting": false
          }
        }
      },
      "source": [
        "### System and User Prompt Template"
      ]
    },
    {
      "cell_type": "code",
      "source": [
        "qna_system_message = \"You are a knowledgeable medical assistant. Use the provided context to accurately and concisely answer the user's medical question.\""
      ],
      "metadata": {
        "id": "GF_4399TRW5D"
      },
      "execution_count": null,
      "outputs": []
    },
    {
      "cell_type": "code",
      "source": [
        "qna_user_message_template = \"Using the context, respond to the question with the most accurate answer possible.\\n\\nContext:\\n{context}\\n\\nQuestion:\\n{question}\"\n"
      ],
      "metadata": {
        "id": "x73CNGFBml9c"
      },
      "execution_count": null,
      "outputs": []
    },
    {
      "cell_type": "markdown",
      "metadata": {
        "id": "TkIteX4m6mny"
      },
      "source": [
        "### Response Function"
      ]
    },
    {
      "cell_type": "code",
      "source": [
        "def generate_rag_response(user_input,k=3,max_tokens=128,temperature=0,top_p=0.95,top_k=50):\n",
        "    global qna_system_message,qna_user_message_template\n",
        "    # Retrieve relevant document chunks\n",
        "    relevant_document_chunks = retriever.get_relevant_documents(query=user_input,k=k)\n",
        "    context_list = [d.page_content for d in relevant_document_chunks]\n",
        "\n",
        "    # Combine document chunks into a single context\n",
        "    context_for_query = \". \".join(context_list)\n",
        "\n",
        "    user_message = qna_user_message_template.replace('{context}', context_for_query)\n",
        "    user_message = user_message.replace('{question}', user_input)\n",
        "\n",
        "    prompt = qna_system_message + '\\n' + user_message\n",
        "\n",
        "    # Generate the response\n",
        "    try:\n",
        "        response = llm(\n",
        "                  prompt=prompt,\n",
        "                  max_tokens=max_tokens,\n",
        "                  temperature=temperature,\n",
        "                  top_p=top_p,\n",
        "                  top_k=top_k\n",
        "                  )\n",
        "\n",
        "        # Extract and print the model's response\n",
        "        response = response['choices'][0]['text'].strip()\n",
        "    except Exception as e:\n",
        "        response = f'Sorry, I encountered the following error: \\n {e}'\n",
        "\n",
        "    return response"
      ],
      "metadata": {
        "id": "5jFvGnOJRXZx"
      },
      "execution_count": null,
      "outputs": []
    },
    {
      "cell_type": "markdown",
      "source": [
        "## Question Answering using RAG"
      ],
      "metadata": {
        "id": "ffP1SRYbPQHN"
      }
    },
    {
      "cell_type": "markdown",
      "metadata": {
        "id": "JjajBEj06B0E"
      },
      "source": [
        "### Query 1: What is the protocol for managing sepsis in a critical care unit?"
      ]
    },
    {
      "cell_type": "code",
      "source": [
        "user_input = \"What is the protocol for managing sepsis in a critical care unit?\"\n",
        "generate_rag_response(user_input,top_k=20)"
      ],
      "metadata": {
        "id": "Nlo9sMpPRbTP"
      },
      "execution_count": null,
      "outputs": []
    },
    {
      "cell_type": "markdown",
      "source": [
        "**Observations:** continued based on clinical judgment and diagnostic results. Early fluid resuscitation is essential to restore tissue perfusion, typically with crystalloids. Vasopressors may be administered if hypotension persists despite adequate fluid replacement. Monitoring lactate levels and organ function helps guide ongoing treatment. Source control, such as drainage of abscesses or removal of infected devices, is also critical. Timely recognition and comprehensive care following the Surviving Sepsis Campaign guidelines significantly improve outcomes in patients with sepsis."
      ],
      "metadata": {
        "id": "qfcGAZD7ltzZ"
      }
    },
    {
      "cell_type": "markdown",
      "metadata": {
        "id": "QDw8zXuq6B0F"
      },
      "source": [
        "### Query 2: What are the common symptoms for appendicitis, and can it be cured via medicine? If not, what surgical procedure should be followed to treat it?"
      ]
    },
    {
      "cell_type": "code",
      "source": [
        "user_input_2 = \"What are the common symptoms for appendicitis, and can it be cured via medicine? If not, what surgical procedure should be followed to treat it?\" #Complete the code to pass the query #2\n",
        "generate_rag_response(user_input_2)"
      ],
      "metadata": {
        "id": "PVReF4G8RbzR"
      },
      "execution_count": null,
      "outputs": []
    },
    {
      "cell_type": "markdown",
      "source": [
        "**Observations:** rant (Rovsing’s sign), and pain with passive extension or internal rotation of the right hip (psoas and obturator signs). Low-grade fever and leukocytosis are also common. These symptoms, especially when they progress in the typical pattern, are key indicators for clinical diagnosis and warrant prompt medical evaluation to prevent complications such as perforation or abscess formation."
      ],
      "metadata": {
        "id": "-bOStAzAlu3G"
      }
    },
    {
      "cell_type": "markdown",
      "metadata": {
        "id": "TggYyQPL6B0G"
      },
      "source": [
        "### Query 3: What are the effective treatments or solutions for addressing sudden patchy hair loss, commonly seen as localized bald spots on the scalp, and what could be the possible causes behind it?"
      ]
    },
    {
      "cell_type": "code",
      "source": [
        "user_input_2 = \"What are the effective treatments or solutions for addressing sudden patchy hair loss, commonly seen as localized bald spots on the scalp, and what could be the possible causes behind it?\" #Complete the code to pass the query #3\n",
        "generate_rag_response(user_input_2)"
      ],
      "metadata": {
        "id": "0aRbadGtRcX0"
      },
      "execution_count": null,
      "outputs": []
    },
    {
      "cell_type": "markdown",
      "source": [
        "**Observation:**\n",
        "Alopecia areata presents as sudden, patchy hair loss, often forming distinct bald spots on the scalp or other hair-bearing areas. It is believed to be an autoimmune condition triggered by unknown environmental factors in genetically predisposed individuals. Treatment commonly involves topical or intralesional corticosteroids to reduce inflammation and encourage regrowth, though results can vary and recurrence is frequent, highlighting the chronic and unpredictable nature of the condition."
      ],
      "metadata": {
        "id": "0p2PBifMl0K6"
      }
    },
    {
      "cell_type": "markdown",
      "metadata": {
        "id": "1TgxdI-_6B0G"
      },
      "source": [
        "### Query 4:  What treatments are recommended for a person who has sustained a physical injury to brain tissue, resulting in temporary or permanent impairment of brain function?"
      ]
    },
    {
      "cell_type": "code",
      "source": [
        "user_input_2 = \"What treatments are recommended for a person who has sustained a physical injury to brain tissue, resulting in temporary or permanent impairment of brain function?\" #Complete the code to pass the query #4\n",
        "generate_rag_response(user_input_2)"
      ],
      "metadata": {
        "id": "0vzRX1TcRc29"
      },
      "execution_count": null,
      "outputs": []
    },
    {
      "cell_type": "markdown",
      "source": [
        "**Observation:**\n",
        "Effective management of traumatic brain injury (TBI) relies on early, multidisciplinary rehabilitation to prevent secondary complications and support long-term recovery. Rehabilitation efforts begin soon after injury and may extend for months or years, depending on the severity of cognitive and physical impairments. A coordinated team approach—including physical, occupational, and speech therapy, along with counseling and family education—is essential for restoring function, building skills, and addressing the patient’s social and emotional needs."
      ],
      "metadata": {
        "id": "Ctd45IrNl1F_"
      }
    },
    {
      "cell_type": "markdown",
      "metadata": {
        "id": "FlHXYCkm6B0H"
      },
      "source": [
        "### Query 5: What are the necessary precautions and treatment steps for a person who has fractured their leg during a hiking trip, and what should be considered for their care and recovery?"
      ]
    },
    {
      "cell_type": "code",
      "source": [
        "user_input_2 = \"What are the necessary precautions and treatment steps for a person who has fractured their leg during a hiking trip, and what should be considered for their care and recovery?\" #Complete the code to pass the query #5\n",
        "generate_rag_response(user_input_2)"
      ],
      "metadata": {
        "id": "sarpUibcRdhq"
      },
      "execution_count": null,
      "outputs": []
    },
    {
      "cell_type": "markdown",
      "source": [
        "**Observation:**\n",
        "A fractured leg is a serious injury that necessitates immediate evaluation and intervention to prevent complications. Assessment should include checking for hemorrhagic shock, arterial injury, and nerve damage. Prompt immobilization with a splint helps stabilize the limb and reduce pain, while opioids are often used for effective pain management. Diagnostic tools like arteriography or nerve conduction studies may be required based on symptoms, ensuring comprehensive care and minimizing long-term disability."
      ],
      "metadata": {
        "id": "6V0ElrG_l15f"
      }
    },
    {
      "cell_type": "markdown",
      "source": [
        "### Fine-tuning"
      ],
      "metadata": {
        "id": "K7TYrqycEITB"
      }
    },
    {
      "cell_type": "markdown",
      "source": [
        "Query 1: What is the protocol for managing sepsis in a critical care unit?"
      ],
      "metadata": {
        "id": "wcQjCG0SoweL"
      }
    },
    {
      "cell_type": "code",
      "source": [
        "user_input = \"What is the protocol for managing sepsis in a critical care unit?\"\n",
        "generate_rag_response(user_input,temperature=0.5)"
      ],
      "metadata": {
        "id": "7UYBR-hcReSo"
      },
      "execution_count": null,
      "outputs": []
    },
    {
      "cell_type": "markdown",
      "source": [
        "**Observations:**"
      ],
      "metadata": {
        "id": "fUTBV1oJl3ql"
      }
    },
    {
      "cell_type": "markdown",
      "source": [
        "Query 2: What are the common symptoms for appendicitis, and can it be cured via medicine? If not, what surgical procedure should be followed to treat it?"
      ],
      "metadata": {
        "id": "9Wz4arJFoxSL"
      }
    },
    {
      "cell_type": "code",
      "source": [
        "user_input_2 = \"What are the common symptoms for appendicitis, and can it be cured via medicine? If not, what surgical procedure should be followed to treat it?\" #Complete the code to pass the query #2\n",
        "generate_rag_response(user_input_2)"
      ],
      "metadata": {
        "id": "FfYGC2FQoxwJ"
      },
      "execution_count": null,
      "outputs": []
    },
    {
      "cell_type": "markdown",
      "source": [
        "**Observation:**\n",
        "Sepsis is a medical emergency that demands immediate intervention in a critical care setting. Early administration of broad-spectrum antibiotics, such as ampicillin with an aminoglycoside or cefotaxime, is crucial due to the non-specific nature of early symptoms. Timely antibiotic therapy, tailored to culture results and infection site, significantly improves survival outcomes. Prompt recognition and appropriate antimicrobial management are central to effective sepsis treatment and reducing complications."
      ],
      "metadata": {
        "id": "5liz8NYNl5Gv"
      }
    },
    {
      "cell_type": "markdown",
      "source": [
        "Query 3: What are the effective treatments or solutions for addressing sudden patchy hair loss, commonly seen as localized bald spots on the scalp, and what could be the possible causes behind it?"
      ],
      "metadata": {
        "id": "_nuLhAtgoyBn"
      }
    },
    {
      "cell_type": "code",
      "source": [
        "user_input_2 = \"What are the effective treatments or solutions for addressing sudden patchy hair loss, commonly seen as localized bald spots on the scalp, and what could be the possible causes behind it?\" #Complete the code to pass the query #3\n",
        "generate_rag_response(user_input_2)"
      ],
      "metadata": {
        "id": "9IFy9hyNoykh"
      },
      "execution_count": null,
      "outputs": []
    },
    {
      "cell_type": "markdown",
      "source": [
        "**Observation:**\n",
        "Alopecia areata is a distinctive autoimmune condition marked by sudden, patchy hair loss, often forming round or oval bald spots. Though its exact cause is unknown, it is linked to immune system dysfunction in genetically predisposed individuals. Treatment typically begins with topical corticosteroids to reduce inflammation and promote hair regrowth, though responses can vary, and recurrence is common, emphasizing the need for ongoing management and patient support."
      ],
      "metadata": {
        "id": "OV3MP2smrKOe"
      }
    },
    {
      "cell_type": "markdown",
      "source": [
        "Query 4: What treatments are recommended for a person who has sustained a physical injury to brain tissue, resulting in temporary or permanent impairment of brain function?"
      ],
      "metadata": {
        "id": "EknTMhugozNO"
      }
    },
    {
      "cell_type": "code",
      "source": [
        "user_input_2 = \"What treatments are recommended for a person who has sustained a physical injury to brain tissue, resulting in temporary or permanent impairment of brain function?\" #Complete the code to pass the query #4\n",
        "generate_rag_response(user_input_2)"
      ],
      "metadata": {
        "id": "fBb-QRFtozrK"
      },
      "execution_count": null,
      "outputs": []
    },
    {
      "cell_type": "markdown",
      "source": [
        "**Observation:**\n",
        "Managing traumatic brain injury (TBI) involves early, coordinated rehabilitation aimed at minimizing secondary complications and promoting long-term recovery. Preventative care for issues like pressure ulcers and pneumonia, along with cognitive and physical therapies, is essential. A multidisciplinary team approach—including physical, occupational, and speech therapy, along with counseling and family education—ensures comprehensive care tailored to the patient’s functional and social needs."
      ],
      "metadata": {
        "id": "3Wz5v0TCl6bl"
      }
    },
    {
      "cell_type": "markdown",
      "source": [
        "Query 5: What are the necessary precautions and treatment steps for a person who has fractured their leg during a hiking trip, and what should be considered for their care and recovery?"
      ],
      "metadata": {
        "id": "z0LiiKoNoz_k"
      }
    },
    {
      "cell_type": "code",
      "source": [
        "user_input_2 = \" What are the necessary precautions and treatment steps for a person who has fractured their leg during a hiking trip, and what should be considered for their care and recovery?\" #Complete the code to pass the query #5\n",
        "generate_rag_response(user_input_2)"
      ],
      "metadata": {
        "id": "wPIsOTHNo0YZ"
      },
      "execution_count": null,
      "outputs": []
    },
    {
      "cell_type": "markdown",
      "source": [
        "**Observation:**\n",
        "A fractured leg is a critical injury that necessitates immediate evaluation to rule out complications such as hemorrhagic shock, arterial compromise, or nerve damage. Clinical signs like absent pulses, pallor, and severe distal pain may indicate ischemia, requiring urgent imaging and intervention. Prompt immobilization with a splint is the initial step in management, helping to stabilize the fracture, alleviate pain, and prevent further damage while definitive treatment is planned."
      ],
      "metadata": {
        "id": "efGLgIkurU3j"
      }
    },
    {
      "cell_type": "markdown",
      "metadata": {
        "id": "yyQrTipNfuBN"
      },
      "source": [
        "## Output Evaluation"
      ]
    },
    {
      "cell_type": "markdown",
      "source": [
        "**Observations:**"
      ],
      "metadata": {
        "id": "ptuDtMuNl7f7"
      }
    },
    {
      "cell_type": "code",
      "source": [
        "groundedness_rater_system_message  = \"You are a helpful assistant that evaluates how well the answer is grounded in the provided context. Rate only based on whether the answer is supported by the context.\""
      ],
      "metadata": {
        "id": "IHbfLAxAGdhW"
      },
      "execution_count": null,
      "outputs": []
    },
    {
      "cell_type": "code",
      "source": [
        "relevance_rater_system_message = \"You are a helpful assistant that evaluates how relevant the answer is to the user question. Rate only based on how well the answer addresses the user's question.\""
      ],
      "metadata": {
        "id": "159OZZa0Rinv"
      },
      "execution_count": null,
      "outputs": []
    },
    {
      "cell_type": "code",
      "source": [
        "user_message_template = \"\"\"\"\n",
        "###Question\n",
        "{question}\n",
        "\n",
        "###Context\n",
        "{context}\n",
        "\n",
        "###Answer\n",
        "{answer}\n",
        "\"\"\""
      ],
      "metadata": {
        "id": "RLqiSn-iRwSl"
      },
      "execution_count": null,
      "outputs": []
    },
    {
      "cell_type": "code",
      "source": [
        "def generate_ground_relevance_response(user_input,k=3,max_tokens=128,temperature=0,top_p=0.95,top_k=50):\n",
        "    global qna_system_message,qna_user_message_template\n",
        "    # Retrieve relevant document chunks\n",
        "    relevant_document_chunks = retriever.get_relevant_documents(query=user_input,k=3)\n",
        "    context_list = [d.page_content for d in relevant_document_chunks]\n",
        "    context_for_query = \". \".join(context_list)\n",
        "\n",
        "    # Combine user_prompt and system_message to create the prompt\n",
        "    prompt = f\"\"\"[INST]{qna_system_message}\\n\n",
        "                {'user'}: {qna_user_message_template.format(context=context_for_query, question=user_input)}\n",
        "                [/INST]\"\"\"\n",
        "\n",
        "    response = llm(\n",
        "            prompt=prompt,\n",
        "            max_tokens=max_tokens,\n",
        "            temperature=temperature,\n",
        "            top_p=top_p,\n",
        "            top_k=top_k,\n",
        "            stop=['INST'],\n",
        "            echo=False\n",
        "            )\n",
        "\n",
        "    answer =  response[\"choices\"][0][\"text\"]\n",
        "\n",
        "    # Combine user_prompt and system_message to create the prompt\n",
        "    groundedness_prompt = f\"\"\"[INST]{groundedness_rater_system_message}\\n\n",
        "                {'user'}: {user_message_template.format(context=context_for_query, question=user_input, answer=answer)}\n",
        "                [/INST]\"\"\"\n",
        "\n",
        "    # Combine user_prompt and system_message to create the prompt\n",
        "    relevance_prompt = f\"\"\"[INST]{relevance_rater_system_message}\\n\n",
        "                {'user'}: {user_message_template.format(context=context_for_query, question=user_input, answer=answer)}\n",
        "                [/INST]\"\"\"\n",
        "\n",
        "    response_1 = llm(\n",
        "            prompt=groundedness_prompt,\n",
        "            max_tokens=max_tokens,\n",
        "            temperature=temperature,\n",
        "            top_p=top_p,\n",
        "            top_k=top_k,\n",
        "            stop=['INST'],\n",
        "            echo=False\n",
        "            )\n",
        "\n",
        "    response_2 = llm(\n",
        "            prompt=relevance_prompt,\n",
        "            max_tokens=max_tokens,\n",
        "            temperature=temperature,\n",
        "            top_p=top_p,\n",
        "            top_k=top_k,\n",
        "            stop=['INST'],\n",
        "            echo=False\n",
        "            )\n",
        "\n",
        "    return response_1['choices'][0]['text'],response_2['choices'][0]['text']"
      ],
      "metadata": {
        "id": "XIbZybyuRi2p"
      },
      "execution_count": null,
      "outputs": []
    },
    {
      "cell_type": "markdown",
      "source": [
        "Query 1: What is the protocol for managing sepsis in a critical care unit?"
      ],
      "metadata": {
        "id": "4Pl0wKqVq-V7"
      }
    },
    {
      "cell_type": "code",
      "source": [
        "ground,rel = generate_ground_relevance_response(user_input=\"What is the protocol for managing sepsis in a critical care unit?\",max_tokens=370, k=3)\n",
        "\n",
        "print(ground,end=\"\\n\\n\")\n",
        "print(rel)"
      ],
      "metadata": {
        "id": "AxMINDFIq-ye"
      },
      "execution_count": null,
      "outputs": []
    },
    {
      "cell_type": "markdown",
      "source": [
        "**Observation:**\n",
        "The answer provides a comprehensive and contextually accurate summary of sepsis management in a critical care setting. It emphasizes the urgency of initiating empiric antibiotic therapy, tailoring treatment based on culture and sensitivity results, and incorporating supportive care measures such as fluid resuscitation and glucose management. The response also addresses the specific approaches for early- and late-onset sepsis and complications involving resistant organisms. Overall, it effectively captures the multifaceted approach needed for successful sepsis treatment."
      ],
      "metadata": {
        "id": "sJKX-Q3il9pZ"
      }
    },
    {
      "cell_type": "markdown",
      "source": [
        "Query 2: What are the common symptoms for appendicitis, and can it be cured via medicine? If not, what surgical procedure should be followed to treat it?"
      ],
      "metadata": {
        "id": "5r6u8pHqq_BH"
      }
    },
    {
      "cell_type": "code",
      "source": [
        "ground,rel = generate_ground_relevance_response(user_input=\"What are the common symptoms for appendicitis, and can it be cured via medicine? If not, what surgical procedure should be followed to treat it?\",max_tokens=370, k=3) #Complete the code to pass the query #2 along with parameters if needed\n",
        "\n",
        "print(ground,end=\"\\n\\n\")\n",
        "print(rel)"
      ],
      "metadata": {
        "id": "191rw0fjq_dp"
      },
      "execution_count": null,
      "outputs": []
    },
    {
      "cell_type": "markdown",
      "source": [
        "**Observation:**\n",
        "The answer is both accurate and contextually supported, effectively summarizing the hallmark symptoms of appendicitis such as localized pain, nausea, and rebound tenderness. It correctly states that surgical removal—typically via appendectomy—is the definitive treatment, while also acknowledging the supportive role of antibiotics. The inclusion of non-surgical alternatives in cases where surgery isn’t possible adds depth, aligning well with clinical guidelines and the source material, making the response highly relevant and informative."
      ],
      "metadata": {
        "id": "_QxKUXbfl-mK"
      }
    },
    {
      "cell_type": "markdown",
      "source": [
        "Query 3: What are the effective treatments or solutions for addressing sudden patchy hair loss, commonly seen as localized bald spots on the scalp, and what could be the possible causes behind it?"
      ],
      "metadata": {
        "id": "xbDubV9Qq_xa"
      }
    },
    {
      "cell_type": "code",
      "source": [
        "ground,rel = generate_ground_relevance_response(user_input=\"What are the effective treatments or solutions for addressing sudden patchy hair loss, commonly seen as localized bald spots on the scalp, and what could be the possible causes behind it?\",max_tokens=370, k=3) #Complete the code to pass the query #3 along with parameters if needed\n",
        "\n",
        "print(ground,end=\"\\n\\n\")\n",
        "print(rel)"
      ],
      "metadata": {
        "id": "-qo43L3erAPn"
      },
      "execution_count": null,
      "outputs": []
    },
    {
      "cell_type": "markdown",
      "source": [
        "**Observation:**\n",
        "The answer offers a thorough and contextually accurate explanation of alopecia areata, effectively detailing its autoimmune nature, potential genetic and environmental triggers, and characteristic presentation as sudden patchy hair loss. It comprehensively outlines a range of treatment options—including topical and intralesional corticosteroids, minoxidil, immunotherapy agents, and systemic therapies—aligning closely with the referenced content. The response is both informative and highly relevant to the user's inquiry, offering a well-rounded overview of the condition and its management strategies."
      ],
      "metadata": {
        "id": "CQKA5G_yl_iQ"
      }
    },
    {
      "cell_type": "markdown",
      "source": [
        "Query 4: What treatments are recommended for a person who has sustained a physical injury to brain tissue, resulting in temporary or permanent impairment of brain function?"
      ],
      "metadata": {
        "id": "dhod4M5RrAmv"
      }
    },
    {
      "cell_type": "code",
      "source": [
        "ground,rel = generate_ground_relevance_response(user_input=\"What treatments are recommended for a person who has sustained a physical injury to brain tissue, resulting in temporary or permanent impairment of brain function?\",max_tokens=370, k=3) #Complete the code to pass the query #4 along with parameters if needed\n",
        "\n",
        "print(ground,end=\"\\n\\n\")\n",
        "print(rel)"
      ],
      "metadata": {
        "id": "2RntKIm_rBAi"
      },
      "execution_count": null,
      "outputs": []
    },
    {
      "cell_type": "markdown",
      "source": [
        "**Observations:**"
      ],
      "metadata": {
        "id": "Fm99sSd2mAy1"
      }
    },
    {
      "cell_type": "markdown",
      "source": [
        "Query 5: What are the necessary precautions and treatment steps for a person who has fractured their leg during a hiking trip, and what should be considered for their care and recovery?"
      ],
      "metadata": {
        "id": "-BEfo8B-rBk2"
      }
    },
    {
      "cell_type": "code",
      "source": [
        "ground,rel = generate_ground_relevance_response(user_input=\"What are the necessary precautions and treatment steps for a person who has fractured their leg during a hiking trip, and what should be considered for their care and recovery?\",max_tokens=370, k=3) #Complete the code to pass the query #5 along with parameters if needed\n",
        "\n",
        "print(ground,end=\"\\n\\n\")\n",
        "print(rel)"
      ],
      "metadata": {
        "id": "IwRETzl_rCAZ"
      },
      "execution_count": null,
      "outputs": []
    },
    {
      "cell_type": "markdown",
      "source": [
        "**Observation:**\n",
        "The answer is well-aligned with the context, offering a clear and comprehensive overview of how to manage a leg fracture during a hiking incident. It accurately emphasizes early assessment for life-threatening conditions like hemorrhagic shock, the importance of immobilization, and the use of RICE for symptom control. Pain management, definitive care such as fracture reduction, and early rehabilitation are also correctly noted. Additionally, the mention of infection risk in open fractures adds further clinical relevance, making the response both thorough and directly applicable to the user's question."
      ],
      "metadata": {
        "id": "oYtXm4UHmB2G"
      }
    },
    {
      "cell_type": "markdown",
      "metadata": {
        "id": "Y7QICRU-njdj"
      },
      "source": [
        "## Actionable Insights and Business Recommendations"
      ]
    },
    {
      "cell_type": "markdown",
      "source": [
        "The analysis of medical conditions such as sepsis, appendicitis, alopecia areata, traumatic brain injury, and leg fractures reveals a recurring need for timely intervention, comprehensive care protocols, and multidisciplinary treatment approaches. For healthcare providers, this underscores the importance of investing in clinical decision support systems and training programs that facilitate early recognition and management of these conditions. Actionable insights point to the value of streamlined protocols, such as sepsis bundles and trauma checklists, which improve patient outcomes and reduce the length of hospital stays. Additionally, conditions like alopecia areata demonstrate a growing demand for personalized treatment plans, requiring providers to stay up-to-date with evolving dermatological therapies and autoimmune research.\n",
        "\n",
        "From a business perspective, hospitals and clinics should prioritize investments in integrated care models that emphasize prevention, early diagnosis, and coordinated rehabilitation services. Developing specialized care units—for example, rapid response teams for sepsis or TBI rehabilitation centers—can enhance reputation, patient satisfaction, and clinical outcomes. Technology integration, such as AI-assisted diagnostic tools and electronic health record alerts for symptom clusters, can further streamline care delivery. Healthcare administrators are also encouraged to collaborate with pharmaceutical and medical device companies to ensure access to the latest treatments, while simultaneously educating patients to increase awareness and engagement in their own care pathways.\n"
      ],
      "metadata": {
        "id": "lxo0w2-Lr5Mz"
      }
    },
    {
      "cell_type": "markdown",
      "metadata": {
        "id": "ybRlzaIhWaM9"
      },
      "source": [
        "<font size=6 color='blue'>Power Ahead</font>\n",
        "___"
      ]
    }
  ],
  "metadata": {
    "accelerator": "GPU",
    "colab": {
      "gpuType": "T4",
      "provenance": [],
      "machine_shape": "hm",
      "include_colab_link": true
    },
    "kernel_info": {
      "name": "python310-sdkv2"
    },
    "kernelspec": {
      "display_name": "Python 3",
      "name": "python3"
    },
    "language_info": {
      "name": "python"
    },
    "microsoft": {
      "host": {
        "AzureML": {
          "notebookHasBeenCompleted": true
        }
      },
      "ms_spell_check": {
        "ms_spell_check_language": "en"
      }
    },
    "nteract": {
      "version": "nteract-front-end@1.0.0"
    }
  },
  "nbformat": 4,
  "nbformat_minor": 0
}