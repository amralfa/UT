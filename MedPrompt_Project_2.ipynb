{
  "cells": [
    {
      "cell_type": "markdown",
      "metadata": {
        "id": "view-in-github",
        "colab_type": "text"
      },
      "source": [
        "<a href=\"https://colab.research.google.com/github/amralfa/UT/blob/main/MedPrompt_Project_2.ipynb\" target=\"_parent\"><img src=\"https://colab.research.google.com/assets/colab-badge.svg\" alt=\"Open In Colab\"/></a>"
      ]
    },
    {
      "cell_type": "markdown",
      "metadata": {
        "id": "3CNz35ia6Bz3"
      },
      "source": [
        "## Problem Statement"
      ]
    },
    {
      "cell_type": "markdown",
      "metadata": {
        "id": "CkRbhMJH6Bz3"
      },
      "source": [
        "### Business Context"
      ]
    },
    {
      "cell_type": "markdown",
      "metadata": {
        "id": "3PBm5xaj6Bz3"
      },
      "source": [
        "The healthcare industry is rapidly evolving, with professionals facing increasing challenges in managing vast volumes of medical data while delivering accurate and timely diagnoses. The need for quick access to comprehensive, reliable, and up-to-date medical knowledge is critical for improving patient outcomes and ensuring informed decision-making in a fast-paced environment.\n",
        "\n",
        "Healthcare professionals often encounter information overload, struggling to sift through extensive research and data to create accurate diagnoses and treatment plans. This challenge is amplified by the need for efficiency, particularly in emergencies, where time-sensitive decisions are vital. Furthermore, access to trusted, current medical information from renowned manuals and research papers is essential for maintaining high standards of care.\n",
        "\n",
        "To address these challenges, healthcare centers can focus on integrating systems that streamline access to medical knowledge, provide tools to support quick decision-making, and enhance efficiency. Leveraging centralized knowledge platforms and ensuring healthcare providers have continuous access to reliable resources can significantly improve patient care and operational effectiveness."
      ]
    },
    {
      "cell_type": "markdown",
      "metadata": {
        "id": "1xDPsqvO6Bz5"
      },
      "source": [
        "**Common Questions to Answer**\n",
        "\n",
        "**1. Diagnostic Assistance**: \"What are the common symptoms and treatments for pulmonary embolism?\"\n",
        "\n",
        "**2. Drug Information**: \"Can you provide the trade names of medications used for treating hypertension?\"\n",
        "\n",
        "**3. Treatment Plans**: \"What are the first-line options and alternatives for managing rheumatoid arthritis?\"\n",
        "\n",
        "**4. Specialty Knowledge**: \"What are the diagnostic steps for suspected endocrine disorders?\"\n",
        "\n",
        "**5. Critical Care Protocols**: \"What is the protocol for managing sepsis in a critical care unit?\""
      ]
    },
    {
      "cell_type": "markdown",
      "metadata": {
        "id": "CARPKFwm6Bz4"
      },
      "source": [
        "### Objective"
      ]
    },
    {
      "cell_type": "markdown",
      "metadata": {
        "id": "dOElOEXq6Bz4"
      },
      "source": [
        "As an AI specialist, your task is to develop a RAG-based AI solution using renowned medical manuals to address healthcare challenges. The objective is to **understand** issues like information overload, **apply** AI techniques to streamline decision-making, **analyze** its impact on diagnostics and patient outcomes, **evaluate** its potential to standardize care practices, and **create** a functional prototype demonstrating its feasibility and effectiveness."
      ]
    },
    {
      "cell_type": "markdown",
      "metadata": {
        "id": "by9EvAnkSpZf"
      },
      "source": [
        "### Data Description"
      ]
    },
    {
      "cell_type": "markdown",
      "metadata": {
        "id": "Jw5LievCSru2"
      },
      "source": [
        "The **Merck Manuals** are medical references published by the American pharmaceutical company Merck & Co., that cover a wide range of medical topics, including disorders, tests, diagnoses, and drugs. The manuals have been published since 1899, when Merck & Co. was still a subsidiary of the German company Merck.\n",
        "\n",
        "The manual is provided as a PDF with over 4,000 pages divided into 23 sections."
      ]
    },
    {
      "cell_type": "markdown",
      "metadata": {
        "id": "lnwETBOE6Bz5"
      },
      "source": [
        "## Installing and Importing Necessary Libraries and Dependencies"
      ]
    },
    {
      "cell_type": "code",
      "execution_count": 1,
      "metadata": {
        "colab": {
          "base_uri": "https://localhost:8080/"
        },
        "id": "q4GgLhZhUM4V",
        "outputId": "b79cbac6-2d9f-454f-d68f-e09f780093a2"
      },
      "outputs": [
        {
          "output_type": "stream",
          "name": "stdout",
          "text": [
            "\u001b[?25l     \u001b[90m━━━━━━━━━━━━━━━━━━━━━━━━━━━━━━━━━━━━━━━━\u001b[0m \u001b[32m0.0/1.8 MB\u001b[0m \u001b[31m?\u001b[0m eta \u001b[36m-:--:--\u001b[0m\r\u001b[2K     \u001b[90m━━━━━━━━━━━━━━━━━━━━━━━━━━━━━━━━━━━━━━━━\u001b[0m \u001b[32m1.8/1.8 MB\u001b[0m \u001b[31m158.7 MB/s\u001b[0m eta \u001b[36m0:00:00\u001b[0m\n",
            "\u001b[?25h  Installing build dependencies ... \u001b[?25l\u001b[?25hdone\n",
            "  Getting requirements to build wheel ... \u001b[?25l\u001b[?25hdone\n",
            "  Preparing metadata (pyproject.toml) ... \u001b[?25l\u001b[?25hdone\n",
            "\u001b[2K     \u001b[90m━━━━━━━━━━━━━━━━━━━━━━━━━━━━━━━━━━━━━━━\u001b[0m \u001b[32m62.0/62.0 kB\u001b[0m \u001b[31m248.7 MB/s\u001b[0m eta \u001b[36m0:00:00\u001b[0m\n",
            "\u001b[2K   \u001b[90m━━━━━━━━━━━━━━━━━━━━━━━━━━━━━━━━━━━━━━━━\u001b[0m \u001b[32m45.5/45.5 kB\u001b[0m \u001b[31m123.2 MB/s\u001b[0m eta \u001b[36m0:00:00\u001b[0m\n",
            "\u001b[2K   \u001b[90m━━━━━━━━━━━━━━━━━━━━━━━━━━━━━━━━━━━━━━━━\u001b[0m \u001b[32m16.8/16.8 MB\u001b[0m \u001b[31m229.8 MB/s\u001b[0m eta \u001b[36m0:00:00\u001b[0m\n",
            "\u001b[2K   \u001b[90m━━━━━━━━━━━━━━━━━━━━━━━━━━━━━━━━━━━━━━━━\u001b[0m \u001b[32m45.8/45.8 kB\u001b[0m \u001b[31m250.5 MB/s\u001b[0m eta \u001b[36m0:00:00\u001b[0m\n",
            "\u001b[?25h  Building wheel for llama-cpp-python (pyproject.toml) ... \u001b[?25l\u001b[?25hdone\n",
            "\u001b[31mERROR: pip's dependency resolver does not currently take into account all the packages that are installed. This behaviour is the source of the following dependency conflicts.\n",
            "langchain 0.1.1 requires numpy<2,>=1, but you have numpy 2.2.6 which is incompatible.\n",
            "langchain-community 0.0.13 requires numpy<2,>=1, but you have numpy 2.2.6 which is incompatible.\n",
            "google-colab 1.0.0 requires pandas==2.2.2, but you have pandas 1.5.3 which is incompatible.\n",
            "cudf-cu12 25.2.1 requires pandas<2.2.4dev0,>=2.0, but you have pandas 1.5.3 which is incompatible.\n",
            "dask-expr 1.1.21 requires pandas>=2, but you have pandas 1.5.3 which is incompatible.\n",
            "mizani 0.13.5 requires pandas>=2.2.0, but you have pandas 1.5.3 which is incompatible.\n",
            "db-dtypes 1.4.3 requires packaging>=24.2.0, but you have packaging 23.2 which is incompatible.\n",
            "plotnine 0.14.5 requires pandas>=2.2.0, but you have pandas 1.5.3 which is incompatible.\n",
            "dask-cudf-cu12 25.2.2 requires pandas<2.2.4dev0,>=2.0, but you have pandas 1.5.3 which is incompatible.\n",
            "xarray 2025.3.1 requires pandas>=2.1, but you have pandas 1.5.3 which is incompatible.\n",
            "numba 0.60.0 requires numpy<2.1,>=1.22, but you have numpy 2.2.6 which is incompatible.\n",
            "peft 0.15.2 requires huggingface_hub>=0.25.0, but you have huggingface-hub 0.23.2 which is incompatible.\n",
            "tensorflow 2.18.0 requires numpy<2.1.0,>=1.26.0, but you have numpy 2.2.6 which is incompatible.\n",
            "diffusers 0.33.1 requires huggingface-hub>=0.27.0, but you have huggingface-hub 0.23.2 which is incompatible.\u001b[0m\u001b[31m\n",
            "\u001b[0m"
          ]
        }
      ],
      "source": [
        "# Installation for GPU llama-cpp-python\n",
        "# uncomment and run the following code in case GPU is being used\n",
        "!CMAKE_ARGS=\"-DLLAMA_CUBLAS=on\" FORCE_CMAKE=1 pip install llama-cpp-python==0.1.85 --force-reinstall --no-cache-dir -q\n",
        "\n",
        "# Installation for CPU llama-cpp-python\n",
        "# uncomment and run the following code in case GPU is not being used\n",
        "# !CMAKE_ARGS=\"-DLLAMA_CUBLAS=off\" FORCE_CMAKE=1 pip install llama-cpp-python==0.1.85 --force-reinstall --no-cache-dir -q"
      ]
    },
    {
      "cell_type": "code",
      "execution_count": 2,
      "metadata": {
        "colab": {
          "base_uri": "https://localhost:8080/"
        },
        "id": "0VOckDVkWGei",
        "outputId": "6f7f2059-b574-49bf-e47b-704e644cfd22"
      },
      "outputs": [
        {
          "output_type": "stream",
          "name": "stdout",
          "text": [
            "\u001b[31mERROR: pip's dependency resolver does not currently take into account all the packages that are installed. This behaviour is the source of the following dependency conflicts.\n",
            "google-colab 1.0.0 requires pandas==2.2.2, but you have pandas 1.5.3 which is incompatible.\n",
            "cudf-cu12 25.2.1 requires pandas<2.2.4dev0,>=2.0, but you have pandas 1.5.3 which is incompatible.\n",
            "thinc 8.3.6 requires numpy<3.0.0,>=2.0.0, but you have numpy 1.25.2 which is incompatible.\n",
            "dask-expr 1.1.21 requires pandas>=2, but you have pandas 1.5.3 which is incompatible.\n",
            "mizani 0.13.5 requires pandas>=2.2.0, but you have pandas 1.5.3 which is incompatible.\n",
            "db-dtypes 1.4.3 requires packaging>=24.2.0, but you have packaging 23.2 which is incompatible.\n",
            "plotnine 0.14.5 requires pandas>=2.2.0, but you have pandas 1.5.3 which is incompatible.\n",
            "blosc2 3.3.2 requires numpy>=1.26, but you have numpy 1.25.2 which is incompatible.\n",
            "dask-cudf-cu12 25.2.2 requires pandas<2.2.4dev0,>=2.0, but you have pandas 1.5.3 which is incompatible.\n",
            "xarray 2025.3.1 requires pandas>=2.1, but you have pandas 1.5.3 which is incompatible.\n",
            "peft 0.15.2 requires huggingface_hub>=0.25.0, but you have huggingface-hub 0.23.2 which is incompatible.\n",
            "tensorflow 2.18.0 requires numpy<2.1.0,>=1.26.0, but you have numpy 1.25.2 which is incompatible.\n",
            "diffusers 0.33.1 requires huggingface-hub>=0.27.0, but you have huggingface-hub 0.23.2 which is incompatible.\u001b[0m\u001b[31m\n",
            "\u001b[0m"
          ]
        }
      ],
      "source": [
        "# For installing the libraries & downloading models from HF Hub\n",
        "!pip install huggingface_hub==0.23.2 pandas==1.5.3 \\\n",
        "tiktoken==0.6.0 pymupdf==1.25.1 langchain==0.1.1 langchain-community==0.0.13 \\\n",
        "chromadb==0.4.22 sentence-transformers==2.3.1 numpy==1.25.2 -q"
      ]
    },
    {
      "cell_type": "code",
      "execution_count": 3,
      "metadata": {
        "id": "RTY9GN4oWK3g"
      },
      "outputs": [],
      "source": [
        "#Libraries for processing dataframes,text\n",
        "import json,os\n",
        "import tiktoken\n",
        "import pandas as pd\n",
        "\n",
        "#Libraries for Loading Data, Chunking, Embedding, and Vector Databases\n",
        "from langchain.text_splitter import RecursiveCharacterTextSplitter\n",
        "from langchain_community.document_loaders import PyMuPDFLoader\n",
        "from langchain_community.embeddings.sentence_transformer import SentenceTransformerEmbeddings\n",
        "from langchain_community.vectorstores import Chroma\n",
        "\n",
        "#Libraries for downloading and loading the llm\n",
        "from huggingface_hub import hf_hub_download\n",
        "from llama_cpp import Llama"
      ]
    },
    {
      "cell_type": "markdown",
      "metadata": {
        "id": "TtZWqj0wFTS1"
      },
      "source": [
        "## Question Answering using LLM"
      ]
    },
    {
      "cell_type": "markdown",
      "metadata": {
        "id": "Uq1lhM4WFTS2"
      },
      "source": [
        "#### Downloading and Loading the model"
      ]
    },
    {
      "cell_type": "code",
      "source": [
        "model_name_or_path = \"TheBloke/Mistral-7B-Instruct-v0.2-GGUF\"\n",
        "model_basename = \"mistral-7b-instruct-v0.2.Q6_K.gguf\""
      ],
      "metadata": {
        "id": "dA3XQMWmQLJp"
      },
      "execution_count": 4,
      "outputs": []
    },
    {
      "cell_type": "code",
      "source": [
        "# Download the model file from Hugging Face Hub\n",
        "model_path = hf_hub_download(\n",
        "    repo_id=model_name_or_path,\n",
        "    filename=model_basename,\n",
        "    resume_download=True,\n",
        "    cache_dir=\".\"\n",
        ")\n",
        "#Snippet of code for the runtime when connected to GPU.\n",
        "llm = Llama(\n",
        "    model_path=model_path,\n",
        "    n_ctx=8192,\n",
        "    n_gpu_layers=38,\n",
        "    n_batch=512\n",
        ")"
      ],
      "metadata": {
        "colab": {
          "base_uri": "https://localhost:8080/",
          "height": 235,
          "referenced_widgets": [
            "b63a25e3ecbf41259a21cbede9069b77",
            "55db420f83ae48e3a764693e106d02ce",
            "52e683ad01c84584babcc8ffa0d3c8b7",
            "3a8bce21711c4a41b85a8f928f20de13",
            "f3070404dec34904bdf0552c32cc9650",
            "b1c621254066478a8a2265d3bff1215f",
            "94dd0d887088416dae9b5000cdac3bb6",
            "14d3067c54fb432da4c56e1efac5f0ee",
            "5ef42dbed66f49ec9b4ae8c0aced99b1",
            "97452dc505b24786b3446f9854ccb604",
            "a2813e4e4476490c9c1e4f66a87c594e"
          ]
        },
        "id": "8DpzI0_zfzw9",
        "outputId": "7281b642-fc38-4b35-f8b0-7cddb5da7e49"
      },
      "execution_count": 5,
      "outputs": [
        {
          "output_type": "stream",
          "name": "stderr",
          "text": [
            "/usr/local/lib/python3.11/dist-packages/huggingface_hub/file_download.py:1132: FutureWarning: `resume_download` is deprecated and will be removed in version 1.0.0. Downloads always resume when possible. If you want to force a new download, use `force_download=True`.\n",
            "  warnings.warn(\n",
            "/usr/local/lib/python3.11/dist-packages/huggingface_hub/utils/_token.py:89: UserWarning: \n",
            "The secret `HF_TOKEN` does not exist in your Colab secrets.\n",
            "To authenticate with the Hugging Face Hub, create a token in your settings tab (https://huggingface.co/settings/tokens), set it as secret in your Google Colab and restart your session.\n",
            "You will be able to reuse this secret in all of your notebooks.\n",
            "Please note that authentication is recommended but still optional to access public models or datasets.\n",
            "  warnings.warn(\n"
          ]
        },
        {
          "output_type": "display_data",
          "data": {
            "text/plain": [
              "mistral-7b-instruct-v0.2.Q6_K.gguf:   0%|          | 0.00/5.94G [00:00<?, ?B/s]"
            ],
            "application/vnd.jupyter.widget-view+json": {
              "version_major": 2,
              "version_minor": 0,
              "model_id": "b63a25e3ecbf41259a21cbede9069b77"
            }
          },
          "metadata": {}
        },
        {
          "output_type": "stream",
          "name": "stderr",
          "text": [
            "AVX = 1 | AVX2 = 1 | AVX512 = 0 | AVX512_VBMI = 0 | AVX512_VNNI = 0 | FMA = 1 | NEON = 0 | ARM_FMA = 0 | F16C = 1 | FP16_VA = 0 | WASM_SIMD = 0 | BLAS = 1 | SSE3 = 1 | SSSE3 = 1 | VSX = 0 | \n"
          ]
        }
      ]
    },
    {
      "cell_type": "markdown",
      "metadata": {
        "id": "EzzkvIXvFTS4"
      },
      "source": [
        "#### Response"
      ]
    },
    {
      "cell_type": "code",
      "source": [
        "def response(query,max_tokens=128,temperature=0,top_p=0.95,top_k=50):\n",
        "    model_output = llm(\n",
        "      prompt=query,\n",
        "      max_tokens=max_tokens,\n",
        "      temperature=temperature,\n",
        "      top_p=top_p,\n",
        "      top_k=top_k\n",
        "    )\n",
        "\n",
        "    return model_output['choices'][0]['text']"
      ],
      "metadata": {
        "id": "hG_IaZj0QLw4"
      },
      "execution_count": 6,
      "outputs": []
    },
    {
      "cell_type": "code",
      "source": [
        "response(\"What treatment options are available for managing hypertension?\")"
      ],
      "metadata": {
        "colab": {
          "base_uri": "https://localhost:8080/",
          "height": 73
        },
        "id": "kYGvEjaYf2sY",
        "outputId": "2e92b54e-6c2c-4cf0-b9ba-52613cfc3d83"
      },
      "execution_count": 7,
      "outputs": [
        {
          "output_type": "execute_result",
          "data": {
            "text/plain": [
              "'\\n\\nHypertension, or high blood pressure, is a common condition that can increase the risk of various health problems such as heart disease, stroke, and kidney damage. The good news is that there are several effective treatment options available to help manage hypertension and reduce the risk of complications. Here are some of the most commonly used treatments:\\n\\n1. Lifestyle modifications: Making lifestyle changes is often the first line of defense against hypertension. This may include eating a healthy diet rich in fruits, vegetables, whole grains, and lean proteins; limiting sodium intake; getting regular physical activity'"
            ],
            "application/vnd.google.colaboratory.intrinsic+json": {
              "type": "string"
            }
          },
          "metadata": {},
          "execution_count": 7
        }
      ]
    },
    {
      "cell_type": "markdown",
      "source": [
        "**Observation:**\n",
        "Hypertension is a common but manageable condition that significantly increases the risk of heart disease, stroke, and kidney damage. Early intervention through lifestyle changes—such as a healthy diet, reduced sodium intake, and regular exercise—is essential for effective blood pressure control and long-term health."
      ],
      "metadata": {
        "id": "BgJF0m-GlWZS"
      }
    },
    {
      "cell_type": "markdown",
      "metadata": {
        "id": "K8YgK91SFjVY"
      },
      "source": [
        "### Query 1: What is the protocol for managing sepsis in a critical care unit?"
      ]
    },
    {
      "cell_type": "code",
      "source": [
        "user_input = \"What is the protocol for managing sepsis in a critical care unit?\"\n",
        "response(user_input)"
      ],
      "metadata": {
        "id": "-JLIVmpPQH0f",
        "colab": {
          "base_uri": "https://localhost:8080/",
          "height": 91
        },
        "outputId": "6626d559-9c3c-4a4d-9ccf-48a296a7e46c"
      },
      "execution_count": 8,
      "outputs": [
        {
          "output_type": "stream",
          "name": "stderr",
          "text": [
            "Llama.generate: prefix-match hit\n"
          ]
        },
        {
          "output_type": "execute_result",
          "data": {
            "text/plain": [
              "'\\n\\nSepsis is a life-threatening condition that can arise from an infection, and it requires prompt recognition and aggressive management in a critical care unit. The following are general steps for managing sepsis in a critical care unit:\\n\\n1. Early recognition: Recognize the signs and symptoms of sepsis early and initiate treatment as soon as possible. Sepsis can present with various clinical features, including fever or hypothermia, tachycardia or bradycardia, altered mental status, respiratory distress, and lactic acidosis.\\n2. Resusc'"
            ],
            "application/vnd.google.colaboratory.intrinsic+json": {
              "type": "string"
            }
          },
          "metadata": {},
          "execution_count": 8
        }
      ]
    },
    {
      "cell_type": "markdown",
      "source": [
        "**Observations:** Hypertension is a widespread health issue with serious potential complications, including heart disease and stroke. Fortunately, it is highly manageable through proven treatment methods. Lifestyle modifications play a crucial role in controlling blood pressure, emphasizing the importance of a balanced diet, reduced sodium intake, and regular exercise as foundational steps in prevention and long-term management."
      ],
      "metadata": {
        "id": "FZlz6DMYlXxG"
      }
    },
    {
      "cell_type": "markdown",
      "metadata": {
        "id": "J6yxICeVFjVc"
      },
      "source": [
        "### Query 2: What are the common symptoms for appendicitis, and can it be cured via medicine? If not, what surgical procedure should be followed to treat it?"
      ]
    },
    {
      "cell_type": "code",
      "source": [
        "user_input_2 = \"What are the common symptoms for appendicitis, and can it be cured via medicine? If not, what surgical procedure should be followed to treat it?\" #Complete the code to define the query #2\n",
        "response(user_input_2)"
      ],
      "metadata": {
        "id": "BdiHRgEqQIP9",
        "colab": {
          "base_uri": "https://localhost:8080/",
          "height": 91
        },
        "outputId": "ac5cdf34-d292-4a6f-d6e0-1955ecb9e5f9"
      },
      "execution_count": 9,
      "outputs": [
        {
          "output_type": "stream",
          "name": "stderr",
          "text": [
            "Llama.generate: prefix-match hit\n"
          ]
        },
        {
          "output_type": "execute_result",
          "data": {
            "text/plain": [
              "'\\n\\nAppendicitis is a medical condition characterized by inflammation of the appendix, a small tube-shaped organ located in the lower right side of the abdomen. The symptoms of appendicitis can vary from person to person, but some common signs include:\\n\\n1. Abdominal pain: The pain may start as a mild discomfort around the navel or in the lower right abdomen, which then gradually moves to the right lower quadrant and becomes more severe over time. The pain may be constant or intermittent and is often worsened by movement, coughing, or deep breathing'"
            ],
            "application/vnd.google.colaboratory.intrinsic+json": {
              "type": "string"
            }
          },
          "metadata": {},
          "execution_count": 9
        }
      ]
    },
    {
      "cell_type": "markdown",
      "source": [
        "**Observation:**\n",
        "Appendicitis is a potentially serious condition marked by inflammation of the appendix, often presenting with escalating abdominal pain that shifts to the lower right side. Early detection is critical, as symptoms like worsening pain with movement or breathing may signal the need for prompt medical intervention to prevent complications such as rupture or infection.\n"
      ],
      "metadata": {
        "id": "uqE2hhJ5lZk7"
      }
    },
    {
      "cell_type": "markdown",
      "metadata": {
        "id": "oflaoOGiFjVd"
      },
      "source": [
        "### Query 3: What are the effective treatments or solutions for addressing sudden patchy hair loss, commonly seen as localized bald spots on the scalp, and what could be the possible causes behind it?"
      ]
    },
    {
      "cell_type": "code",
      "source": [
        "user_input_2 = \"What are the effective treatments or solutions for addressing sudden patchy hair loss, commonly seen as localized bald spots on the scalp, and what could be the possible causes behind it?\" #Complete the code to define the query #3\n",
        "response(user_input_2)"
      ],
      "metadata": {
        "id": "N-mx9yboQIt-",
        "colab": {
          "base_uri": "https://localhost:8080/",
          "height": 91
        },
        "outputId": "e82bef9f-da12-47cf-ea19-c9c131d6bdbb"
      },
      "execution_count": 10,
      "outputs": [
        {
          "output_type": "stream",
          "name": "stderr",
          "text": [
            "Llama.generate: prefix-match hit\n"
          ]
        },
        {
          "output_type": "execute_result",
          "data": {
            "text/plain": [
              "\"\\n\\nSudden patchy hair loss, also known as alopecia areata, is a common autoimmune disorder that affects the hair follicles. It can result in round or oval bald patches on the scalp, but it can also occur on other parts of the body such as the beard area, eyebrows, or eyelashes.\\n\\nThe exact cause of alopecia areata is not known, but it's believed to be related to a problem with the immune system. Some possible triggers for this condition include stress, genetics, viral infections, and certain medications.\""
            ],
            "application/vnd.google.colaboratory.intrinsic+json": {
              "type": "string"
            }
          },
          "metadata": {},
          "execution_count": 10
        }
      ]
    },
    {
      "cell_type": "markdown",
      "source": [
        "**Observation:**\n",
        "Alopecia areata is an autoimmune condition that leads to sudden, patchy hair loss, typically forming round or oval bald spots. While its exact cause remains unclear, it is likely linked to immune system dysfunction and may be triggered by factors such as stress, genetics, or infections. The condition can affect various areas of the body and often has unpredictable patterns of hair loss and regrowth."
      ],
      "metadata": {
        "id": "W4NBQmU6n_jg"
      }
    },
    {
      "cell_type": "markdown",
      "metadata": {
        "id": "WUUqY4FbFjVe"
      },
      "source": [
        "### Query 4:  What treatments are recommended for a person who has sustained a physical injury to brain tissue, resulting in temporary or permanent impairment of brain function?"
      ]
    },
    {
      "cell_type": "code",
      "source": [
        "user_input_2 = \"What treatments are recommended for a person who has sustained a physical injury to brain tissue, resulting in temporary or permanent impairment of brain function?\" #Complete the code to define the query #4\n",
        "response(user_input_2)"
      ],
      "metadata": {
        "id": "TEsVMaKaQJzh",
        "colab": {
          "base_uri": "https://localhost:8080/",
          "height": 91
        },
        "outputId": "0c47c3b7-0b36-4c69-f654-3831f716c661"
      },
      "execution_count": 11,
      "outputs": [
        {
          "output_type": "stream",
          "name": "stderr",
          "text": [
            "Llama.generate: prefix-match hit\n"
          ]
        },
        {
          "output_type": "execute_result",
          "data": {
            "text/plain": [
              "\"\\n\\nA person who has sustained a physical injury to brain tissue, also known as a traumatic brain injury (TBI), may require various treatments depending on the severity and location of the injury. Here are some common treatments recommended for TBIs:\\n\\n1. Emergency care: The first priority is to ensure the person's airway is clear, they are breathing, and their heart is beating normally. In severe cases, emergency surgery may be required to remove hematomas or other obstructions.\\n2. Medications: Depending on the symptoms, medications may be prescribed to manage conditions such as\""
            ],
            "application/vnd.google.colaboratory.intrinsic+json": {
              "type": "string"
            }
          },
          "metadata": {},
          "execution_count": 11
        }
      ]
    },
    {
      "cell_type": "markdown",
      "source": [
        "**Observation:**\n",
        "Traumatic brain injury (TBI) is a serious condition that can vary widely in severity and treatment needs. Immediate emergency care is crucial to stabilize vital functions and prevent further damage. Treatment often includes medications to control symptoms like swelling or seizures, and in severe cases, surgical intervention may be necessary. Early and comprehensive medical response significantly influences recovery outcomes.\n"
      ],
      "metadata": {
        "id": "YV-oL38Kla_V"
      }
    },
    {
      "cell_type": "markdown",
      "metadata": {
        "id": "5laPFTHrFjVf"
      },
      "source": [
        "### Query 5: What are the necessary precautions and treatment steps for a person who has fractured their leg during a hiking trip, and what should be considered for their care and recovery?"
      ]
    },
    {
      "cell_type": "code",
      "source": [
        "user_input_2 = \"What are the necessary precautions and treatment steps for a person who has fractured their leg during a hiking trip, and what should be considered for their care and recovery?\" #Complete the code to define the query #5\n",
        "response(user_input_2)"
      ],
      "metadata": {
        "id": "VfrlmrP5QKJz",
        "colab": {
          "base_uri": "https://localhost:8080/",
          "height": 91
        },
        "outputId": "a9bd71fa-5a32-4f0d-a837-9d2add758275"
      },
      "execution_count": 12,
      "outputs": [
        {
          "output_type": "stream",
          "name": "stderr",
          "text": [
            "Llama.generate: prefix-match hit\n"
          ]
        },
        {
          "output_type": "execute_result",
          "data": {
            "text/plain": [
              "\"\\n\\nFirst and foremost, if you suspect that someone has fractured their leg while hiking, it's essential to ensure their safety and prevent further injury. Here are some necessary precautions:\\n\\n1. Keep the person calm and still: Encourage them to remain as still as possible to minimize pain and prevent worsening the injury.\\n2. Assess the situation: Check for any signs of shock, such as pale skin, rapid heartbeat, or shallow breathing. If you notice these symptoms, seek medical help immediately.\\n3. Immobilize the leg: Use a splint, sl\""
            ],
            "application/vnd.google.colaboratory.intrinsic+json": {
              "type": "string"
            }
          },
          "metadata": {},
          "execution_count": 12
        }
      ]
    },
    {
      "cell_type": "markdown",
      "source": [
        "**Observation:**\n",
        "In the event of a suspected leg fracture during hiking, prompt and careful first aid is crucial to prevent further harm. Keeping the person calm and still helps limit movement and pain, while assessing for signs of shock ensures timely emergency response. Immobilizing the leg with a splint before moving the person is a key step in stabilizing the injury until professional medical help arrives."
      ],
      "metadata": {
        "id": "xT4XnwFBlb5w"
      }
    },
    {
      "cell_type": "markdown",
      "metadata": {
        "id": "g5myZ5dOOefc"
      },
      "source": [
        "## Question Answering using LLM with Prompt Engineering"
      ]
    },
    {
      "cell_type": "code",
      "source": [
        "system_prompt = (\n",
        "    \"You are an expert medical assistant with a focus on critical care. \"\n",
        "    \"Deliver clear, precise, and evidence-based answers aligned with current medical standards and protocols.\"\n",
        ")"
      ],
      "metadata": {
        "id": "MaCfoblsgnUx"
      },
      "execution_count": 13,
      "outputs": []
    },
    {
      "cell_type": "markdown",
      "metadata": {
        "id": "9Jg3r_LWOeff"
      },
      "source": [
        "### Query 1: What is the protocol for managing sepsis in a critical care unit?"
      ]
    },
    {
      "cell_type": "code",
      "source": [
        "user_input = system_prompt+\"\\n\"+ \"What is the protocol for managing sepsis in a critical care unit?\"\n",
        "response(user_input)"
      ],
      "metadata": {
        "id": "YqM4VMw5ROhX",
        "colab": {
          "base_uri": "https://localhost:8080/",
          "height": 91
        },
        "outputId": "7581d792-50c9-436b-eb7c-920d86344d63"
      },
      "execution_count": 14,
      "outputs": [
        {
          "output_type": "stream",
          "name": "stderr",
          "text": [
            "Llama.generate: prefix-match hit\n"
          ]
        },
        {
          "output_type": "execute_result",
          "data": {
            "text/plain": [
              "'\\nSepsis is a life-threatening condition caused by a dysregulated response to infection. The following are general steps for managing sepsis in a critical care unit based on current guidelines from the Surviving Sepsis Campaign:\\n1. Early recognition and assessment: Identify sepsis suspects using clinical criteria such as Sequential Organ Failure Assessment (SOFA) score, Quick Sequential Organ Failure Assessment (qSOFA), or other recognized scoring systems. Initiate sepsis evaluation promptly if suspected.\\n2. Immediate fluid resuscitation: Administer intraven'"
            ],
            "application/vnd.google.colaboratory.intrinsic+json": {
              "type": "string"
            }
          },
          "metadata": {},
          "execution_count": 14
        }
      ]
    },
    {
      "cell_type": "markdown",
      "source": [
        "**Observation:**\n",
        "Sepsis is a critical medical emergency resulting from an abnormal immune response to infection, requiring rapid intervention. Effective management begins with early recognition using tools like the SOFA or qSOFA scores, followed by immediate fluid resuscitation to stabilize circulation. Timely and structured care, as outlined in the Surviving Sepsis Campaign guidelines, is essential to improve patient outcomes and reduce mortality risk."
      ],
      "metadata": {
        "id": "Le8g79o2ldlA"
      }
    },
    {
      "cell_type": "markdown",
      "metadata": {
        "id": "iYpyw4HjOeff"
      },
      "source": [
        "### Query 2: What are the common symptoms for appendicitis, and can it be cured via medicine? If not, what surgical procedure should be followed to treat it?"
      ]
    },
    {
      "cell_type": "code",
      "source": [
        "user_input = system_prompt + \"\\n\" + \"What are the common symptoms for appendicitis, and can it be cured via medicine? If not, what surgical procedure should be followed to treat it?\" #Complete the code to pass the query #2\n",
        "response(user_input)"
      ],
      "metadata": {
        "id": "GXl09pFfRPBr",
        "colab": {
          "base_uri": "https://localhost:8080/",
          "height": 91
        },
        "outputId": "9dad6e54-80a7-42eb-8de3-06a9215f6ce0"
      },
      "execution_count": 15,
      "outputs": [
        {
          "output_type": "stream",
          "name": "stderr",
          "text": [
            "Llama.generate: prefix-match hit\n"
          ]
        },
        {
          "output_type": "execute_result",
          "data": {
            "text/plain": [
              "'\\n\\nAppendicitis is a medical condition characterized by inflammation of the appendix, a small pouch-like structure that extends from the cecum (the beginning of the large intestine). The following are common symptoms of appendicitis:\\n\\n1. Abdominal pain: This is usually located in the lower right quadrant of the abdomen and may be constant or intermittent. The pain may start as a mild discomfort that progresses to sharp, localized pain over several hours.\\n2. Loss of appetite: People with appendicitis often lose their appetite due to abdom'"
            ],
            "application/vnd.google.colaboratory.intrinsic+json": {
              "type": "string"
            }
          },
          "metadata": {},
          "execution_count": 15
        }
      ]
    },
    {
      "cell_type": "markdown",
      "source": [
        "**Observation:**\n",
        "Appendicitis involves inflammation of the appendix and is typically marked by progressive abdominal pain localized to the lower right quadrant. Early symptoms may start as mild discomfort and intensify over time, often accompanied by a loss of appetite. Prompt medical evaluation is essential, as untreated appendicitis can lead to serious complications such as rupture or infection."
      ],
      "metadata": {
        "id": "RmZ5jF9Llef-"
      }
    },
    {
      "cell_type": "markdown",
      "metadata": {
        "id": "dRp92JQZOeff"
      },
      "source": [
        "### Query 3: What are the effective treatments or solutions for addressing sudden patchy hair loss, commonly seen as localized bald spots on the scalp, and what could be the possible causes behind it?"
      ]
    },
    {
      "cell_type": "code",
      "source": [
        "user_input = system_prompt + \"\\n\" + \"What are the effective treatments or solutions for addressing sudden patchy hair loss, commonly seen as localized bald spots on the scalp, and what could be the possible causes behind it?\" #Complete the code to pass the query #3\n",
        "response(user_input)"
      ],
      "metadata": {
        "id": "JOgATEpMRPve",
        "colab": {
          "base_uri": "https://localhost:8080/",
          "height": 91
        },
        "outputId": "952c4e74-ed60-4f3b-da2f-c123176bada8"
      },
      "execution_count": 16,
      "outputs": [
        {
          "output_type": "stream",
          "name": "stderr",
          "text": [
            "Llama.generate: prefix-match hit\n"
          ]
        },
        {
          "output_type": "execute_result",
          "data": {
            "text/plain": [
              "\"\\n\\nSudden patchy hair loss, also known as alopecia areata, is an autoimmune disorder that results in the sudden loss of hair from specific areas of the scalp or other parts of the body. The exact cause of alopecia areata is not fully understood, but it's believed to be related to a dysfunction of the immune system.\\n\\nThere are several treatments for addressing sudden patchy hair loss:\\n\\n1. Corticosteroids: Topical or injected corticosteroids are the most commonly used treatment for alopecia areata. They help\""
            ],
            "application/vnd.google.colaboratory.intrinsic+json": {
              "type": "string"
            }
          },
          "metadata": {},
          "execution_count": 16
        }
      ]
    },
    {
      "cell_type": "markdown",
      "source": [
        "**Observation:**\n",
        "Alopecia areata is an autoimmune condition characterized by sudden, localized hair loss, most often affecting the scalp. While its exact cause remains unclear, it is thought to involve immune system dysfunction. Treatments like corticosteroids are commonly used to reduce inflammation and encourage hair regrowth, though results may vary. Early intervention can improve outcomes and help manage the emotional impact of the condition."
      ],
      "metadata": {
        "id": "C-zxEZo2lgB0"
      }
    },
    {
      "cell_type": "markdown",
      "metadata": {
        "id": "AA45zwyUOefg"
      },
      "source": [
        "### Query 4:  What treatments are recommended for a person who has sustained a physical injury to brain tissue, resulting in temporary or permanent impairment of brain function?"
      ]
    },
    {
      "cell_type": "code",
      "source": [
        "user_input = system_prompt + \"\\n\" + \"What treatments are recommended for a person who has sustained a physical injury to brain tissue, resulting in temporary or permanent impairment of brain function?\" #Complete the code to pass the query #4\n",
        "response(user_input)"
      ],
      "metadata": {
        "id": "VA7G8FOnRQZY",
        "colab": {
          "base_uri": "https://localhost:8080/",
          "height": 91
        },
        "outputId": "22ea68b3-462e-4402-c7b8-234f55a62334"
      },
      "execution_count": 17,
      "outputs": [
        {
          "output_type": "stream",
          "name": "stderr",
          "text": [
            "Llama.generate: prefix-match hit\n"
          ]
        },
        {
          "output_type": "execute_result",
          "data": {
            "text/plain": [
              "'\\n\\nFor a person who has sustained a physical injury to brain tissue, the treatment recommendations depend on the severity and location of the injury. Here are some common treatments:\\n\\n1. Emergency care: For severe brain injuries, emergency care is crucial. This may include airway management, breathing support with a ventilator, fluid resuscitation, and medication to prevent or control swelling in the brain (cerebral edema).\\n2. Surgery: Depending on the location and severity of the injury, surgery may be required to remove hematomas (clots) or repair skull fractures'"
            ],
            "application/vnd.google.colaboratory.intrinsic+json": {
              "type": "string"
            }
          },
          "metadata": {},
          "execution_count": 17
        }
      ]
    },
    {
      "cell_type": "markdown",
      "source": [
        "**Observation:**\n",
        "Treatment for traumatic brain injury (TBI) varies based on severity and location but typically begins with emergency care to stabilize vital functions and reduce brain swelling. In more serious cases, surgery may be necessary to remove blood clots or repair structural damage. Immediate and specialized medical intervention is essential to minimize long-term effects and improve recovery prospects."
      ],
      "metadata": {
        "id": "LzQW5fL9lg2C"
      }
    },
    {
      "cell_type": "markdown",
      "metadata": {
        "id": "TYXxiSuBOefg"
      },
      "source": [
        "### Query 5: What are the necessary precautions and treatment steps for a person who has fractured their leg during a hiking trip, and what should be considered for their care and recovery?"
      ]
    },
    {
      "cell_type": "code",
      "source": [
        "user_input = system_prompt + \"\\n\" + \"What are the necessary precautions and treatment steps for a person who has fractured their leg during a hiking trip, and what should be considered for their care and recovery?\" #Complete the code to pass the query #5\n",
        "response(user_input)"
      ],
      "metadata": {
        "id": "mE2GMQk8RQ_p",
        "colab": {
          "base_uri": "https://localhost:8080/",
          "height": 91
        },
        "outputId": "0baa302b-7727-49fe-f572-87dad5784335"
      },
      "execution_count": 18,
      "outputs": [
        {
          "output_type": "stream",
          "name": "stderr",
          "text": [
            "Llama.generate: prefix-match hit\n"
          ]
        },
        {
          "output_type": "execute_result",
          "data": {
            "text/plain": [
              "'\\nA fractured leg, specifically a long bone fracture in the lower extremity, can be a serious injury that requires prompt medical attention. Here are the necessary precautions and treatment steps for such an individual:\\n1. Immobilization: The first step is to immobilize the affected leg using a splint or a cast to prevent further damage and promote healing. This will also help in reducing pain and swelling.\\n2. Pain management: Over-the-counter pain medications like acetaminophen or ibuprofen can be used to manage pain. However, if the pain is severe, prescription'"
            ],
            "application/vnd.google.colaboratory.intrinsic+json": {
              "type": "string"
            }
          },
          "metadata": {},
          "execution_count": 18
        }
      ]
    },
    {
      "cell_type": "markdown",
      "source": [
        "**Observation:**\n",
        "A long bone fracture in the leg is a significant injury that demands immediate care to prevent complications. Initial steps include immobilizing the leg to avoid further damage and reduce pain, followed by appropriate pain management. Timely medical intervention is crucial for proper alignment, healing, and long-term mobility recovery."
      ],
      "metadata": {
        "id": "OBXNQp1ulhwD"
      }
    },
    {
      "cell_type": "markdown",
      "source": [
        "## Data Preparation for RAG"
      ],
      "metadata": {
        "id": "t_O1PGdNO2M9"
      }
    },
    {
      "cell_type": "markdown",
      "metadata": {
        "id": "uTpWESc53dL9"
      },
      "source": [
        "### Loading the Data"
      ]
    },
    {
      "cell_type": "code",
      "source": [
        "manual_pdf_path = \"/content/medical_diagnosis_manual.pdf\""
      ],
      "metadata": {
        "id": "ybj2cEnzRSXq"
      },
      "execution_count": 19,
      "outputs": []
    },
    {
      "cell_type": "code",
      "source": [
        "pdf_loader = PyMuPDFLoader(manual_pdf_path)"
      ],
      "metadata": {
        "id": "yccTsZ-0g-Oh"
      },
      "execution_count": 20,
      "outputs": []
    },
    {
      "cell_type": "code",
      "source": [
        "manual = pdf_loader.load()"
      ],
      "metadata": {
        "id": "ouo25e7ghAmO"
      },
      "execution_count": 21,
      "outputs": []
    },
    {
      "cell_type": "markdown",
      "metadata": {
        "id": "ffj0ca3eZT4u"
      },
      "source": [
        "### Data Overview"
      ]
    },
    {
      "cell_type": "markdown",
      "metadata": {
        "id": "f9weTDzMxRRS"
      },
      "source": [
        "#### Checking the first 5 pages"
      ]
    },
    {
      "cell_type": "code",
      "source": [
        "for i in range(5):\n",
        "    print(f\"Page Number : {i+1}\",end=\"\\n\")\n",
        "    print(manual[i].page_content,end=\"\\n\")"
      ],
      "metadata": {
        "id": "MSEiL--bRTZT",
        "colab": {
          "base_uri": "https://localhost:8080/"
        },
        "outputId": "ecd1ed59-b3f8-4e90-af5c-0a4ad249b095"
      },
      "execution_count": 22,
      "outputs": [
        {
          "output_type": "stream",
          "name": "stdout",
          "text": [
            "Page Number : 1\n",
            "alfarah.amr@hotmail.com\n",
            "SUKPH4F9MQ\n",
            "ant for personal use by alfarah.amr@hot\n",
            "shing the contents in part or full is liable \n",
            "\n",
            "Page Number : 2\n",
            "alfarah.amr@hotmail.com\n",
            "SUKPH4F9MQ\n",
            "This file is meant for personal use by alfarah.amr@hotmail.com only.\n",
            "Sharing or publishing the contents in part or full is liable for legal action.\n",
            "\n",
            "Page Number : 3\n",
            "Table of Contents\n",
            "1\n",
            "Front    ................................................................................................................................................................................................................\n",
            "1\n",
            "Cover    .......................................................................................................................................................................................................\n",
            "2\n",
            "Front Matter    ...........................................................................................................................................................................................\n",
            "53\n",
            "1 - Nutritional Disorders    ...............................................................................................................................................................\n",
            "53\n",
            "Chapter 1. Nutrition: General Considerations    .....................................................................................................................\n",
            "59\n",
            "Chapter 2. Undernutrition    .............................................................................................................................................................\n",
            "69\n",
            "Chapter 3. Nutritional Support    ...................................................................................................................................................\n",
            "76\n",
            "Chapter 4. Vitamin Deficiency, Dependency & Toxicity    ..................................................................................................\n",
            "99\n",
            "Chapter 5. Mineral Deficiency & Toxicity    ..............................................................................................................................\n",
            "108\n",
            "Chapter 6. Obesity & the Metabolic Syndrome    ...............................................................................................................\n",
            "120\n",
            "2 - Gastrointestinal Disorders    ..............................................................................................................................................\n",
            "120\n",
            "Chapter 7. Approach to the Patient With Upper GI Complaints    ...............................................................................\n",
            "132\n",
            "Chapter 8. Approach to the Patient With Lower GI Complaints    ...............................................................................\n",
            "143\n",
            "Chapter 9. Diagnostic & Therapeutic GI Procedures    ....................................................................................................\n",
            "150\n",
            "Chapter 10. GI Bleeding    ............................................................................................................................................................\n",
            "158\n",
            "Chapter 11. Acute Abdomen & Surgical Gastroenterology    .........................................................................................\n",
            "172\n",
            "Chapter 12. Esophageal & Swallowing Disorders    ..........................................................................................................\n",
            "183\n",
            "Chapter 13. Gastritis & Peptic Ulcer Disease    ..................................................................................................................\n",
            "196\n",
            "Chapter 14. Bezoars & Foreign Bodies    ..............................................................................................................................\n",
            "199\n",
            "Chapter 15. Pancreatitis    ............................................................................................................................................................\n",
            "206\n",
            "Chapter 16. Gastroenteritis    ......................................................................................................................................................\n",
            "213\n",
            "Chapter 17. Malabsorption Syndromes    ..............................................................................................................................\n",
            "225\n",
            "Chapter 18. Irritable Bowel Syndrome    ................................................................................................................................\n",
            "229\n",
            "Chapter 19. Inflammatory Bowel Disease    .........................................................................................................................\n",
            "241\n",
            "Chapter 20. Diverticular Disease    ...........................................................................................................................................\n",
            "246\n",
            "Chapter 21. Anorectal Disorders    ............................................................................................................................................\n",
            "254\n",
            "Chapter 22. Tumors of the GI Tract    ......................................................................................................................................\n",
            "275\n",
            "3 - Hepatic & Biliary Disorders    ............................................................................................................................................\n",
            "275\n",
            "Chapter 23. Approach to the Patient With Liver Disease    ...........................................................................................\n",
            "294\n",
            "Chapter 24. Testing for Hepatic & Biliary Disorders    ......................................................................................................\n",
            "305\n",
            "Chapter 25. Drugs & the Liver    ................................................................................................................................................\n",
            "308\n",
            "Chapter 26. Alcoholic Liver Disease    ....................................................................................................................................\n",
            "314\n",
            "Chapter 27. Fibrosis & Cirrhosis    ............................................................................................................................................\n",
            "322\n",
            "Chapter 28. Hepatitis    ..................................................................................................................................................................\n",
            "333\n",
            "Chapter 29. Vascular Disorders of the Liver    .....................................................................................................................\n",
            "341\n",
            "Chapter 30. Liver Masses & Granulomas    ..........................................................................................................................\n",
            "348\n",
            "Chapter 31. Gallbladder & Bile Duct Disorders    ...............................................................................................................\n",
            "362\n",
            "4 - Musculoskeletal & Connective Tissue Disorders    .........................................................................................\n",
            "362\n",
            "Chapter 32. Approach to the Patient With Joint Disease    ............................................................................................\n",
            "373\n",
            "Chapter 33. Autoimmune Rheumatic Disorders    ..............................................................................................................\n",
            "391\n",
            "Chapter 34. Vasculitis    .................................................................................................................................................................\n",
            "416\n",
            "Chapter 35. Joint Disorders    .....................................................................................................................................................\n",
            "435\n",
            "Chapter 36. Crystal-Induced Arthritides    ..............................................................................................................................\n",
            "443\n",
            "Chapter 37. Osteoporosis    .........................................................................................................................................................\n",
            "448\n",
            "Chapter 38. Paget's Disease of Bone    ..................................................................................................................................\n",
            "451\n",
            "Chapter 39. Osteonecrosis    .......................................................................................................................................................\n",
            "455\n",
            "Chapter 40. Infections of Joints & Bones    ...........................................................................................................................\n",
            "463\n",
            "Chapter 41. Bursa, Muscle & Tendon Disorders    .............................................................................................................\n",
            "470\n",
            "Chapter 42. Neck & Back Pain    ...............................................................................................................................................\n",
            "481\n",
            "Chapter 43. Hand Disorders    ....................................................................................................................................................\n",
            "alfarah.amr@hotmail.com\n",
            "SUKPH4F9MQ\n",
            "This file is meant for personal use by alfarah.amr@hotmail.com only.\n",
            "Sharing or publishing the contents in part or full is liable for legal action.\n",
            "\n",
            "Page Number : 4\n",
            "491\n",
            "Chapter 44. Foot & Ankle Disorders    .....................................................................................................................................\n",
            "502\n",
            "Chapter 45. Tumors of Bones & Joints    ...............................................................................................................................\n",
            "510\n",
            "5 - Ear, Nose, Throat & Dental Disorders    ..................................................................................................................\n",
            "510\n",
            "Chapter 46. Approach to the Patient With Ear Problems    ...........................................................................................\n",
            "523\n",
            "Chapter 47. Hearing Loss    .........................................................................................................................................................\n",
            "535\n",
            "Chapter 48. Inner Ear Disorders    ............................................................................................................................................\n",
            "542\n",
            "Chapter 49. Middle Ear & Tympanic Membrane Disorders    ........................................................................................\n",
            "550\n",
            "Chapter 50. External Ear Disorders    .....................................................................................................................................\n",
            "554\n",
            "Chapter 51. Approach to the Patient With Nasal & Pharyngeal Symptoms    .......................................................\n",
            "567\n",
            "Chapter 52. Oral & Pharyngeal Disorders    .........................................................................................................................\n",
            "578\n",
            "Chapter 53. Nose & Paranasal Sinus Disorders    .............................................................................................................\n",
            "584\n",
            "Chapter 54. Laryngeal Disorders    ...........................................................................................................................................\n",
            "590\n",
            "Chapter 55. Tumors of the Head & Neck    ...........................................................................................................................\n",
            "600\n",
            "Chapter 56. Approach to Dental & Oral Symptoms    .......................................................................................................\n",
            "619\n",
            "Chapter 57. Common Dental Disorders    .............................................................................................................................\n",
            "629\n",
            "Chapter 58. Dental Emergencies    ..........................................................................................................................................\n",
            "635\n",
            "Chapter 59. Temporomandibular Disorders    ......................................................................................................................\n",
            "641\n",
            "6 - Eye Disorders    ............................................................................................................................................................................\n",
            "641\n",
            "Chapter 60. Approach to the Ophthalmologic Patient    ..................................................................................................\n",
            "669\n",
            "Chapter 61. Refractive Error    ...................................................................................................................................................\n",
            "674\n",
            "Chapter 62. Eyelid & Lacrimal Disorders    ...........................................................................................................................\n",
            "680\n",
            "Chapter 63. Conjunctival & Scleral Disorders    .................................................................................................................\n",
            "690\n",
            "Chapter 64. Corneal Disorders    ...............................................................................................................................................\n",
            "703\n",
            "Chapter 65. Glaucoma    ...............................................................................................................................................................\n",
            "710\n",
            "Chapter 66. Cataract    ...................................................................................................................................................................\n",
            "713\n",
            "Chapter 67. Uveitis    ......................................................................................................................................................................\n",
            "719\n",
            "Chapter 68. Retinal Disorders    .................................................................................................................................................\n",
            "731\n",
            "Chapter 69. Optic Nerve Disorders    ......................................................................................................................................\n",
            "737\n",
            "Chapter 70. Orbital Diseases    ..................................................................................................................................................\n",
            "742\n",
            "7 - Dermatologic Disorders    ....................................................................................................................................................\n",
            "742\n",
            "Chapter 71. Approach to the Dermatologic Patient    .......................................................................................................\n",
            "755\n",
            "Chapter 72. Principles of Topical Dermatologic Therapy    ............................................................................................\n",
            "760\n",
            "Chapter 73. Acne & Related Disorders    ...............................................................................................................................\n",
            "766\n",
            "Chapter 74. Bullous Diseases    .................................................................................................................................................\n",
            "771\n",
            "Chapter 75. Cornification Disorders    .....................................................................................................................................\n",
            "775\n",
            "Chapter 76. Dermatitis    ...............................................................................................................................................................\n",
            "786\n",
            "Chapter 77. Reactions to Sunlight    ........................................................................................................................................\n",
            "791\n",
            "Chapter 78. Psoriasis & Scaling Diseases    ........................................................................................................................\n",
            "799\n",
            "Chapter 79. Hypersensitivity & Inflammatory Disorders    .............................................................................................\n",
            "808\n",
            "Chapter 80. Sweating Disorders    ............................................................................................................................................\n",
            "811\n",
            "Chapter 81. Bacterial Skin Infections    ...................................................................................................................................\n",
            "822\n",
            "Chapter 82. Fungal Skin Infections    ......................................................................................................................................\n",
            "831\n",
            "Chapter 83. Parasitic Skin Infections    ...................................................................................................................................\n",
            "836\n",
            "Chapter 84. Viral Skin Diseases    ............................................................................................................................................\n",
            "841\n",
            "Chapter 85. Pigmentation Disorders    ....................................................................................................................................\n",
            "846\n",
            "Chapter 86. Hair Disorders    .......................................................................................................................................................\n",
            "855\n",
            "Chapter 87. Nail Disorders    .......................................................................................................................................................\n",
            "861\n",
            "Chapter 88. Pressure Ulcers    ...................................................................................................................................................\n",
            "867\n",
            "Chapter 89. Benign Tumors    .....................................................................................................................................................\n",
            "874\n",
            "Chapter 90. Cancers of the Skin    ............................................................................................................................................\n",
            "882\n",
            "8 - Endocrine & Metabolic Disorders    .............................................................................................................................\n",
            "882\n",
            "Chapter 91. Principles of Endocrinology    ............................................................................................................................\n",
            "887\n",
            "Chapter 92. Pituitary Disorders    ..............................................................................................................................................\n",
            "901\n",
            "Chapter 93. Thyroid Disorders    ................................................................................................................................................\n",
            "alfarah.amr@hotmail.com\n",
            "SUKPH4F9MQ\n",
            "This file is meant for personal use by alfarah.amr@hotmail.com only.\n",
            "Sharing or publishing the contents in part or full is liable for legal action.\n",
            "\n",
            "Page Number : 5\n",
            "921\n",
            "Chapter 94. Adrenal Disorders    ................................................................................................................................................\n",
            "936\n",
            "Chapter 95. Polyglandular Deficiency Syndromes    ........................................................................................................\n",
            "939\n",
            "Chapter 96. Porphyrias    ..............................................................................................................................................................\n",
            "949\n",
            "Chapter 97. Fluid & Electrolyte Metabolism    .....................................................................................................................\n",
            "987\n",
            "Chapter 98. Acid-Base Regulation & Disorders    ..............................................................................................................\n",
            "1001\n",
            "Chapter 99. Diabetes Mellitus & Disorders of Carbohydrate Metabolism    ........................................................\n",
            "1024\n",
            "Chapter 100. Lipid Disorders    ................................................................................................................................................\n",
            "1034\n",
            "Chapter 101. Amyloidosis    ......................................................................................................................................................\n",
            "1037\n",
            "Chapter 102. Carcinoid Tumors    ..........................................................................................................................................\n",
            "1040\n",
            "Chapter 103. Multiple Endocrine Neoplasia Syndromes    .........................................................................................\n",
            "1046\n",
            "9 - Hematology & Oncology    ...............................................................................................................................................\n",
            "1046\n",
            "Chapter 104. Approach to the Patient With Anemia    ..................................................................................................\n",
            "1050\n",
            "Chapter 105. Anemias Caused by Deficient Erythropoiesis    ...................................................................................\n",
            "1061\n",
            "Chapter 106. Anemias Caused by Hemolysis    ...............................................................................................................\n",
            "1078\n",
            "Chapter 107. Neutropenia & Lymphocytopenia    ...........................................................................................................\n",
            "1086\n",
            "Chapter 108. Thrombocytopenia & Platelet Dysfunction    .........................................................................................\n",
            "1097\n",
            "Chapter 109. Hemostasis    ......................................................................................................................................................\n",
            "1104\n",
            "Chapter 110. Thrombotic Disorders    ...................................................................................................................................\n",
            "1107\n",
            "Chapter 111. Coagulation Disorders    ..................................................................................................................................\n",
            "1113\n",
            "Chapter 112. Bleeding Due to Abnormal Blood Vessels    ...........................................................................................\n",
            "1116\n",
            "Chapter 113. Spleen Disorders    ............................................................................................................................................\n",
            "1120\n",
            "Chapter 114. Eosinophilic Disorders    .................................................................................................................................\n",
            "1126\n",
            "Chapter 115. Histiocytic Syndromes    .................................................................................................................................\n",
            "1131\n",
            "Chapter 116. Myeloproliferative Disorders    .....................................................................................................................\n",
            "1141\n",
            "Chapter 117. Leukemias    .........................................................................................................................................................\n",
            "1154\n",
            "Chapter 118. Lymphomas    ......................................................................................................................................................\n",
            "1164\n",
            "Chapter 119. Plasma Cell Disorders    .................................................................................................................................\n",
            "1172\n",
            "Chapter 120. Iron Overload    ...................................................................................................................................................\n",
            "1177\n",
            "Chapter 121. Transfusion Medicine    ...................................................................................................................................\n",
            "1186\n",
            "Chapter 122. Overview of Cancer    ......................................................................................................................................\n",
            "1198\n",
            "Chapter 123. Tumor Immunology    .......................................................................................................................................\n",
            "1204\n",
            "Chapter 124. Principles of Cancer Therapy    ...................................................................................................................\n",
            "1215\n",
            "10 - Immunology; Allergic Disorders    ...........................................................................................................................\n",
            "1215\n",
            "Chapter 125. Biology of the Immune System    ...............................................................................................................\n",
            "1227\n",
            "Chapter 126. Immunodeficiency Disorders    ....................................................................................................................\n",
            "1243\n",
            "Chapter 127. Allergic & Other Hypersensitivity Disorders    .......................................................................................\n",
            "1263\n",
            "Chapter 128. Transplantation    ...............................................................................................................................................\n",
            "1281\n",
            "11 - Infectious Diseases    ........................................................................................................................................................\n",
            "1281\n",
            "Chapter 129. Biology of Infectious Disease    ...................................................................................................................\n",
            "1300\n",
            "Chapter 130. Laboratory Diagnosis of Infectious Disease    ......................................................................................\n",
            "1306\n",
            "Chapter 131. Immunization    ...................................................................................................................................................\n",
            "1313\n",
            "Chapter 132. Bacteria & Antibacterial Drugs    .................................................................................................................\n",
            "1353\n",
            "Chapter 133. Gram-Positive Cocci    ....................................................................................................................................\n",
            "1366\n",
            "Chapter 134. Gram-Positive Bacilli    ...................................................................................................................................\n",
            "1376\n",
            "Chapter 135. Gram-Negative Bacilli    .................................................................................................................................\n",
            "1405\n",
            "Chapter 136. Spirochetes    ......................................................................................................................................................\n",
            "1413\n",
            "Chapter 137. Neisseriaceae    .................................................................................................................................................\n",
            "1419\n",
            "Chapter 138. Chlamydia & Mycoplasmas    ......................................................................................................................\n",
            "1421\n",
            "Chapter 139. Rickettsiae & Related Organisms    ..........................................................................................................\n",
            "1431\n",
            "Chapter 140. Anaerobic Bacteria    ........................................................................................................................................\n",
            "1450\n",
            "Chapter 141. Mycobacteria    ...................................................................................................................................................\n",
            "1470\n",
            "Chapter 142. Fungi    ...................................................................................................................................................................\n",
            "1493\n",
            "Chapter 143. Approach to Parasitic Infections    .............................................................................................................\n",
            "1496\n",
            "Chapter 144. Nematodes (Roundworms)    .......................................................................................................................\n",
            "alfarah.amr@hotmail.com\n",
            "SUKPH4F9MQ\n",
            "This file is meant for personal use by alfarah.amr@hotmail.com only.\n",
            "Sharing or publishing the contents in part or full is liable for legal action.\n",
            "\n"
          ]
        }
      ]
    },
    {
      "cell_type": "markdown",
      "source": [
        "Observation:\n",
        "This document serves as a detailed clinical guide, likely a medical textbook, covering essential topics across multiple disciplines such as nutrition, gastroenterology, hepatology, musculoskeletal diseases, ENT, ophthalmology, dermatology, endocrinology, hematology, oncology, immunology, and infectious diseases. The organization into body systems and clinical domains suggests it's intended for use by healthcare professionals and students as a reference for diagnosis, treatment, and clinical management. It emphasizes evidence-based approaches with in-depth chapters on disorders, diagnostic techniques, and therapeutic strategies."
      ],
      "metadata": {
        "id": "VxvIxJB4ljSg"
      }
    },
    {
      "cell_type": "markdown",
      "metadata": {
        "id": "7-wNNalNxPKT"
      },
      "source": [
        "#### Checking the number of pages"
      ]
    },
    {
      "cell_type": "code",
      "source": [
        "len(manual)"
      ],
      "metadata": {
        "id": "-NuC-6SNRT7K",
        "colab": {
          "base_uri": "https://localhost:8080/"
        },
        "outputId": "685b02c8-b3a4-4b93-e62b-d1d77d64a0f5"
      },
      "execution_count": 23,
      "outputs": [
        {
          "output_type": "execute_result",
          "data": {
            "text/plain": [
              "4114"
            ]
          },
          "metadata": {},
          "execution_count": 23
        }
      ]
    },
    {
      "cell_type": "markdown",
      "metadata": {
        "id": "LECMxTH-zB-R"
      },
      "source": [
        "### Data Chunking"
      ]
    },
    {
      "cell_type": "code",
      "source": [
        "text_splitter = RecursiveCharacterTextSplitter.from_tiktoken_encoder(\n",
        "    encoding_name='cl100k_base',\n",
        "    chunk_size=500,\n",
        "    chunk_overlap=50\n",
        ")"
      ],
      "metadata": {
        "id": "ir9Zi8rKRUmG"
      },
      "execution_count": 24,
      "outputs": []
    },
    {
      "cell_type": "code",
      "source": [
        "document_chunks = pdf_loader.load_and_split(text_splitter)"
      ],
      "metadata": {
        "id": "r5aRcW5ohc3l"
      },
      "execution_count": 25,
      "outputs": []
    },
    {
      "cell_type": "code",
      "source": [
        "len(document_chunks)"
      ],
      "metadata": {
        "colab": {
          "base_uri": "https://localhost:8080/"
        },
        "id": "ECwJd-T3hfGd",
        "outputId": "f4fe3798-eeb0-4add-e47a-46cb8b4f18ca"
      },
      "execution_count": 26,
      "outputs": [
        {
          "output_type": "execute_result",
          "data": {
            "text/plain": [
              "8883"
            ]
          },
          "metadata": {},
          "execution_count": 26
        }
      ]
    },
    {
      "cell_type": "code",
      "source": [
        "document_chunks[0].page_content"
      ],
      "metadata": {
        "colab": {
          "base_uri": "https://localhost:8080/",
          "height": 36
        },
        "id": "LEObN9CchhtL",
        "outputId": "df9ea21f-fffe-4daa-9c70-5237824e377d"
      },
      "execution_count": 27,
      "outputs": [
        {
          "output_type": "execute_result",
          "data": {
            "text/plain": [
              "'alfarah.amr@hotmail.com\\nSUKPH4F9MQ\\nant for personal use by alfarah.amr@hot\\nshing the contents in part or full is liable'"
            ],
            "application/vnd.google.colaboratory.intrinsic+json": {
              "type": "string"
            }
          },
          "metadata": {},
          "execution_count": 27
        }
      ]
    },
    {
      "cell_type": "code",
      "source": [
        "document_chunks[1].page_content"
      ],
      "metadata": {
        "colab": {
          "base_uri": "https://localhost:8080/",
          "height": 36
        },
        "id": "BbmImxrqhjgL",
        "outputId": "af2df2a2-6062-42c1-dc1c-22f954857605"
      },
      "execution_count": 28,
      "outputs": [
        {
          "output_type": "execute_result",
          "data": {
            "text/plain": [
              "'alfarah.amr@hotmail.com\\nSUKPH4F9MQ\\nThis file is meant for personal use by alfarah.amr@hotmail.com only.\\nSharing or publishing the contents in part or full is liable for legal action.'"
            ],
            "application/vnd.google.colaboratory.intrinsic+json": {
              "type": "string"
            }
          },
          "metadata": {},
          "execution_count": 28
        }
      ]
    },
    {
      "cell_type": "markdown",
      "metadata": {
        "id": "BvHVejcWz0Bl"
      },
      "source": [
        "### Embedding"
      ]
    },
    {
      "cell_type": "code",
      "source": [
        "embedding_model = SentenceTransformerEmbeddings(model_name=\"all-MiniLM-L6-v2\")"
      ],
      "metadata": {
        "id": "R3CAgoUeRVLa",
        "colab": {
          "base_uri": "https://localhost:8080/",
          "height": 369,
          "referenced_widgets": [
            "d9d519bedb4742219cb86e924ed92680",
            "e7100a2dd6bc458492fb272f9eeb3b6a",
            "e79b5b4bee484739b173ed2735b12669",
            "2ba79e60c4d145d1af9ad7c001f64014",
            "1e1c686ee144426590b88e7869dac2e7",
            "d293b6d63f144a02aab47c21baefa933",
            "6b43a12382b142978689dbb22f149b10",
            "aec4e3692a5542828099f6517db2a589",
            "200662c294b34f03b1764806254cb314",
            "403c119a760342cebd4e1c95e1289f54",
            "cc9b77e0cd484735800ddfac0a10d97f",
            "318da41c103e46a4ab10e421c747e3bc",
            "6786834744444ab788cb457195c88528",
            "1914ebf56e3e4bb780b21885a68c9ace",
            "b2e737b818c0490ebf31fbe9505b3e02",
            "82a8947d165e426f9d3642b7e2e169aa",
            "589584c64bce46069aa8998a54892cd7",
            "63ba068292cb41e580beab723d63dc5e",
            "cde13aa770214e8388339036488052e0",
            "a799221b650d475eb8d80272bc21ac0a",
            "15d2c645d2ba46e89215f659df7fa5d1",
            "8cf71b3ed4134285b844f2cd6a7157e3",
            "86eff91a46984c71aaa2ccc68ba7a6bb",
            "4aed8507def64a6880af587aaaf748bc",
            "a321ac786d0d4128a6038e49e9a04827",
            "a67c3b154691489980c1f695487f9324",
            "9781b47ec97a49d0b09db27ef565f97a",
            "e2af353bd9e648ed8e029c434771f0bc",
            "0bcf990ed96944b491257712b26bd830",
            "ca78f7ec6e5347e5ad2bb31413aeb729",
            "50ddb4f96e18491692d13c1527db4337",
            "be4ec70a0a4740afb69ac9447acbc0cd",
            "26a564b5bdfd4dfa96b259795cd743e4",
            "b04d9abb833e448a9a52756f8e3b3b8d",
            "133d8745f76e49dfa989243663efa9cc",
            "cff7f712b7f44608b29044edd7527309",
            "0643d13c5a2145c8a079225763ffdff1",
            "603b680602f9421aa125b8ca2483e375",
            "c54320fce77641b8a061f42a61f92ccb",
            "2b8e9bd4964247aa9da32f8afcaca267",
            "fad33e0f3072464080af1af586f455f7",
            "b100dccbc9414ae0a3cd0f51db5412cd",
            "6107e08e3526453f99aedb99fd139e72",
            "cf886b4104654fdf84de3c0068e22ca1",
            "05d789f9d20840578008e92930335b93",
            "985d4810e0c84aa780a532e47abd8949",
            "f26ea4867b18420485777a9d8b278899",
            "2b2db4da813e4b369650bf29a0d83913",
            "c79fcef59b8f4225a663a6bf66fde4f2",
            "3caccfefac884eb2921836fe135da327",
            "91278d71ee544f53abd1fbe145065184",
            "1f6a3431a2f34bedad7392f02cb2491f",
            "d5869e373fb7499f8938b80acf563e53",
            "3a2ac8d8f740493dbeceed75c1f350c1",
            "e7e2a17ba014465ab3ba0f8a576d91f1",
            "8c50c44e0ace4dbab7194aa8d043f0c7",
            "10f9dd151ff64c099f1e3741d506feb6",
            "e3d3414fbc314b56afc20b94a4cc8c12",
            "321addc5277c40598a4554d24ce69fd9",
            "33416161a051451cb50d0fceb78b1c67",
            "5eed9292c3d14e50a6c7bd84e8629b3f",
            "ef31f557cba74caea15e8e239da340b1",
            "7d84acc84ecd45bca68542a14ec94bef",
            "601e7122b8cc42c4abb6c1b3e70d05b8",
            "ed60886beafb4da8918b6bccfd2d959d",
            "574d4f9d2ec24e8abe275dbfd1a07a70",
            "5622ca8c02c04ee99582c1a36310bd75",
            "5ef166afe307481c940d80ba185db0f6",
            "bd1cb756a07b4744bcdc9c3584b03c9f",
            "d7d4906ada66496099765ab5ac1f15b8",
            "bebac66122fb4a79b9b2f65050d6aaf0",
            "db1a1b4d37e641b984197e0ece21d52b",
            "84babb8496c34466bc310e74fad3d0cf",
            "5973a9f8a8ab48aeb23ada0996e5705f",
            "dae159a3d94d442e9af53a2f04942658",
            "69cd92a50c0940d9ab3aae846502c7eb",
            "d133cfd2110b48f48eeb0713cf957702",
            "6468a27db61043a5844b26769b6f3fa7",
            "e6ccc0fed68c40649494fdb4afb1aa0e",
            "9fbaa8e5f83c4dc290f06c08c71caf95",
            "dc7ea5409f5c45e186b49e676860e972",
            "81ce84c1cf4745bb879d6ab3abc7dff2",
            "bfe91f48540646d5b4f7cc0bc6d038e0",
            "8fcc9873fb4a4730ab7608602da90802",
            "3af7e5629e4a497c8b016d32a1c93155",
            "9ed58c7f9c2d4758854f59ea0a7c60f6",
            "ae2b6add11374035b015822500624855",
            "dbf6a25feb43440889f8831f24e74c8f",
            "dcfb91786deb40a6be3771032592efa1",
            "5237cbe1f04642cebdb23b9c781d15ac",
            "dcc17d2dd7da493196f53edd387223c1",
            "56293e92d9654718bcc172d1198e6d6a",
            "7d1ca65838b741fc93e34f5f1f52882d",
            "ca6c7f45e3a244438978416fba739eed",
            "6ff61f6a5e64442dab8ce26aa1f5d658",
            "6d856a2d24434cd7a0b0ad993c5da0c1",
            "d5e8cb6daad04068bcb2f328111dbf55",
            "862dd8cb7560484dad70f837ca6d5357",
            "6d38c5d1fcf0447fa446bad5707b7faa",
            "791a112b40e945f0a628f1802fb0fc87",
            "8757f9c02e6246fb9cfd4c84877aa115",
            "566076eeeb4f457490e469e89f95c5b3",
            "896f8a9bbc95477da6cfbcfb014b28cf",
            "ffe6a299858a48c292915953fce1c73e",
            "ce17e26af3c848c0a7fec0e2bca8ff73",
            "64792026f9c54f99ad1be01dd9e836a3",
            "d1ffe54350c34762bdd80a599a75a968",
            "949702fd8a28468e81cdeb3ffdcccfeb",
            "6c2bbc04d2ba4460b913937dd02a00cd",
            "b7b355aa55ba452e9dbf888879f859c0",
            "b1314925f4fa4bfdaa35102e024974b3",
            "3791d2d238894744a0f76cf51a249e64",
            "45b1c6c5f50c4817a38abe3e985ceb47",
            "e5d0c93ff6cf4a4d924eb2f1b4f873df",
            "2ec2f0db4abd4ed985f1489cae0cd528",
            "57cd773b523e4fafac5e091aaa80c71a",
            "5efd7fcd9c774e659a2aa4feb75e7484",
            "a33f71e91776499dbd60d123ff8a39dd",
            "0473b74f411944029da43a9d39525cd5",
            "bebadb8850a74a96b9bb659eaa2358ee",
            "3dc01440b98a428da85ab82f06cce3a3"
          ]
        },
        "outputId": "328ebc1f-d4bb-48a1-f5ab-5fe0681eb9bd"
      },
      "execution_count": 29,
      "outputs": [
        {
          "output_type": "display_data",
          "data": {
            "text/plain": [
              "modules.json:   0%|          | 0.00/349 [00:00<?, ?B/s]"
            ],
            "application/vnd.jupyter.widget-view+json": {
              "version_major": 2,
              "version_minor": 0,
              "model_id": "d9d519bedb4742219cb86e924ed92680"
            }
          },
          "metadata": {}
        },
        {
          "output_type": "display_data",
          "data": {
            "text/plain": [
              "config_sentence_transformers.json:   0%|          | 0.00/116 [00:00<?, ?B/s]"
            ],
            "application/vnd.jupyter.widget-view+json": {
              "version_major": 2,
              "version_minor": 0,
              "model_id": "318da41c103e46a4ab10e421c747e3bc"
            }
          },
          "metadata": {}
        },
        {
          "output_type": "display_data",
          "data": {
            "text/plain": [
              "README.md:   0%|          | 0.00/10.5k [00:00<?, ?B/s]"
            ],
            "application/vnd.jupyter.widget-view+json": {
              "version_major": 2,
              "version_minor": 0,
              "model_id": "86eff91a46984c71aaa2ccc68ba7a6bb"
            }
          },
          "metadata": {}
        },
        {
          "output_type": "display_data",
          "data": {
            "text/plain": [
              "sentence_bert_config.json:   0%|          | 0.00/53.0 [00:00<?, ?B/s]"
            ],
            "application/vnd.jupyter.widget-view+json": {
              "version_major": 2,
              "version_minor": 0,
              "model_id": "b04d9abb833e448a9a52756f8e3b3b8d"
            }
          },
          "metadata": {}
        },
        {
          "output_type": "display_data",
          "data": {
            "text/plain": [
              "config.json:   0%|          | 0.00/612 [00:00<?, ?B/s]"
            ],
            "application/vnd.jupyter.widget-view+json": {
              "version_major": 2,
              "version_minor": 0,
              "model_id": "05d789f9d20840578008e92930335b93"
            }
          },
          "metadata": {}
        },
        {
          "output_type": "display_data",
          "data": {
            "text/plain": [
              "model.safetensors:   0%|          | 0.00/90.9M [00:00<?, ?B/s]"
            ],
            "application/vnd.jupyter.widget-view+json": {
              "version_major": 2,
              "version_minor": 0,
              "model_id": "8c50c44e0ace4dbab7194aa8d043f0c7"
            }
          },
          "metadata": {}
        },
        {
          "output_type": "display_data",
          "data": {
            "text/plain": [
              "tokenizer_config.json:   0%|          | 0.00/350 [00:00<?, ?B/s]"
            ],
            "application/vnd.jupyter.widget-view+json": {
              "version_major": 2,
              "version_minor": 0,
              "model_id": "5622ca8c02c04ee99582c1a36310bd75"
            }
          },
          "metadata": {}
        },
        {
          "output_type": "display_data",
          "data": {
            "text/plain": [
              "vocab.txt:   0%|          | 0.00/232k [00:00<?, ?B/s]"
            ],
            "application/vnd.jupyter.widget-view+json": {
              "version_major": 2,
              "version_minor": 0,
              "model_id": "6468a27db61043a5844b26769b6f3fa7"
            }
          },
          "metadata": {}
        },
        {
          "output_type": "display_data",
          "data": {
            "text/plain": [
              "tokenizer.json:   0%|          | 0.00/466k [00:00<?, ?B/s]"
            ],
            "application/vnd.jupyter.widget-view+json": {
              "version_major": 2,
              "version_minor": 0,
              "model_id": "dcfb91786deb40a6be3771032592efa1"
            }
          },
          "metadata": {}
        },
        {
          "output_type": "display_data",
          "data": {
            "text/plain": [
              "special_tokens_map.json:   0%|          | 0.00/112 [00:00<?, ?B/s]"
            ],
            "application/vnd.jupyter.widget-view+json": {
              "version_major": 2,
              "version_minor": 0,
              "model_id": "791a112b40e945f0a628f1802fb0fc87"
            }
          },
          "metadata": {}
        },
        {
          "output_type": "display_data",
          "data": {
            "text/plain": [
              "config.json:   0%|          | 0.00/190 [00:00<?, ?B/s]"
            ],
            "application/vnd.jupyter.widget-view+json": {
              "version_major": 2,
              "version_minor": 0,
              "model_id": "b1314925f4fa4bfdaa35102e024974b3"
            }
          },
          "metadata": {}
        }
      ]
    },
    {
      "cell_type": "markdown",
      "source": [
        "This output indicates a successful download and setup of a **Sentence-BERT (SBERT)** or similar transformer-based model. Here’s a quick **observation summary**:\n",
        "\n",
        "---\n",
        "\n",
        "**Observation:**\n",
        "All required model files, including configurations (`config.json`, `sentence_bert_config.json`), tokenizer files (`tokenizer.json`, `vocab.txt`), and model weights (`model.safetensors`) have been downloaded completely. This suggests that the transformer model is now fully set up and ready for use in tasks such as semantic similarity, text embeddings, or question-answering—common use cases for Sentence-BERT and related models.\n",
        "\n",
        "Let me know if you'd like help loading or running the model in code."
      ],
      "metadata": {
        "id": "maR9IYOlllrs"
      }
    },
    {
      "cell_type": "code",
      "source": [
        "embedding_1 = embedding_model.embed_query(document_chunks[0].page_content)\n",
        "embedding_2 = embedding_model.embed_query(document_chunks[1].page_content)"
      ],
      "metadata": {
        "id": "pLYSSLQ3kE8x"
      },
      "execution_count": 30,
      "outputs": []
    },
    {
      "cell_type": "code",
      "source": [
        "print(\"Dimension of the embedding vector \",len(embedding_1))\n",
        "len(embedding_1)==len(embedding_2)"
      ],
      "metadata": {
        "colab": {
          "base_uri": "https://localhost:8080/"
        },
        "id": "LBNkndRIkSO8",
        "outputId": "bcf49451-d7a6-48d9-9e06-cf5252ded1d2"
      },
      "execution_count": 31,
      "outputs": [
        {
          "output_type": "stream",
          "name": "stdout",
          "text": [
            "Dimension of the embedding vector  384\n"
          ]
        },
        {
          "output_type": "execute_result",
          "data": {
            "text/plain": [
              "True"
            ]
          },
          "metadata": {},
          "execution_count": 31
        }
      ]
    },
    {
      "cell_type": "markdown",
      "source": [
        "**Observation:**\n",
        "The embedding vector dimension is **384**, which is typical for lightweight Sentence-BERT models like `all-MiniLM-L6-v2`. This dimension balances performance and computational efficiency, making it well-suited for tasks such as semantic search, sentence similarity, and information retrieval in real-time applications.\n",
        "\n",
        "Let me know if you'd like to visualize embeddings, compare vectors, or build a retrieval system with them."
      ],
      "metadata": {
        "id": "_x6SXHSflmw8"
      }
    },
    {
      "cell_type": "markdown",
      "metadata": {
        "id": "qiKCOv4X0d7B"
      },
      "source": [
        "### Vector Database"
      ]
    },
    {
      "cell_type": "code",
      "source": [
        "out_dir = 'medical_db'\n",
        "\n",
        "if not os.path.exists(out_dir):\n",
        "  os.makedirs(out_dir)"
      ],
      "metadata": {
        "id": "vHHt1MQQRVzs"
      },
      "execution_count": 32,
      "outputs": []
    },
    {
      "cell_type": "code",
      "source": [
        "vectorstore = Chroma.from_documents(\n",
        "    document_chunks,            # Your list of document chunks\n",
        "    embedding_model,            # Your sentence transformer embedding model\n",
        "    persist_directory=out_dir   # Directory to save vector store\n",
        ")"
      ],
      "metadata": {
        "id": "2e1u1guqkY2B"
      },
      "execution_count": 33,
      "outputs": []
    },
    {
      "cell_type": "code",
      "source": [
        "vectorstore = Chroma(persist_directory=out_dir,embedding_function=embedding_model)"
      ],
      "metadata": {
        "id": "FPznTMPnkbq3"
      },
      "execution_count": 34,
      "outputs": []
    },
    {
      "cell_type": "code",
      "source": [
        "vectorstore.embeddings"
      ],
      "metadata": {
        "colab": {
          "base_uri": "https://localhost:8080/"
        },
        "id": "LZWfGC49kbar",
        "outputId": "aca0d312-1512-40f9-f78a-99ced47fe623"
      },
      "execution_count": 35,
      "outputs": [
        {
          "output_type": "execute_result",
          "data": {
            "text/plain": [
              "HuggingFaceEmbeddings(client=SentenceTransformer(\n",
              "  (0): Transformer({'max_seq_length': 256, 'do_lower_case': False}) with Transformer model: BertModel \n",
              "  (1): Pooling({'word_embedding_dimension': 384, 'pooling_mode_cls_token': False, 'pooling_mode_mean_tokens': True, 'pooling_mode_max_tokens': False, 'pooling_mode_mean_sqrt_len_tokens': False, 'pooling_mode_weightedmean_tokens': False, 'pooling_mode_lasttoken': False})\n",
              "  (2): Normalize()\n",
              "), model_name='all-MiniLM-L6-v2', cache_folder=None, model_kwargs={}, encode_kwargs={}, multi_process=False)"
            ]
          },
          "metadata": {},
          "execution_count": 35
        }
      ]
    },
    {
      "cell_type": "markdown",
      "source": [
        "**Observation:**\n",
        "You're using `HuggingFaceEmbeddings` with the `all-MiniLM-L6-v2` model from the **SentenceTransformers** library. This model uses:\n",
        "\n",
        "* **BERT-based architecture** with a max sequence length of 256.\n",
        "* **Mean pooling** of token embeddings to generate a **384-dimensional vector**.\n",
        "* **Normalization** of output embeddings to ensure consistent vector magnitudes, which is especially useful for similarity search tasks.\n",
        "* No additional model or encoding arguments, and no multiprocessing enabled.\n",
        "\n",
        "This configuration is lightweight and optimized for fast and accurate sentence embedding tasks, ideal for use in RAG (Retrieval-Augmented Generation), semantic search, and document similarity applications."
      ],
      "metadata": {
        "id": "4_PvhAH4loXb"
      }
    },
    {
      "cell_type": "code",
      "source": [
        "vectorstore.similarity_search(\"What are the common symptoms and treatments for pulmonary embolism?\",k=5)"
      ],
      "metadata": {
        "colab": {
          "base_uri": "https://localhost:8080/"
        },
        "id": "PdkF6Gyzkeqe",
        "outputId": "0733342c-23c9-4007-c447-9f183cca7491"
      },
      "execution_count": 36,
      "outputs": [
        {
          "output_type": "execute_result",
          "data": {
            "text/plain": [
              "[Document(page_content='Chapter 194. Pulmonary Embolism\\nIntroduction\\nPulmonary embolism (PE) is the occlusion of ≥ 1 pulmonary arteries by thrombi that originate\\nelsewhere, typically in the large veins of the lower extremities or pelvis. Risk factors are\\nconditions that impair venous return, conditions that cause endothelial injury or dysfunction,\\nand underlying hypercoagulable states. Symptoms are nonspecific and include dyspnea,\\npleuritic chest pain, cough, and, in severe cases, syncope or cardiorespiratory arrest. Signs are\\nalso nonspecific and may include tachypnea, tachycardia, hypotension, and a loud pulmonic\\ncomponent of the 2nd heart sound. Diagnosis is based on a CT angiogram, ventilation/perfusion\\nscan, or a pulmonary arteriogram. Treatment is with anticoagulants and, sometimes, clot\\ndissolution with thrombolytics or surgical removal. Preventive measures include anticoagulants\\nand sometimes insertion of an inferior vena caval filter.\\nPE affects an estimated 117 people per 100,000 person years, resulting in about 350,000 cases yearly,\\nand causes up to 85,000 deaths/yr. PE affects mainly adults.\\nEtiology\\nNearly all PEs arise from thrombi in the lower extremity or pelvic veins (deep venous thrombosis [DVT]\\n—see p. 2224). Thrombi in either the lower extremity or pelvic veins may be occult. Risk of embolization is\\nhigher with thrombi proximal to the calf veins. Thromboemboli can also originate in upper extremity veins\\n(associated with central venous catheters) or from right-sided cardiac chambers. Risk factors for DVT and\\nPE are similar in children and adults and include conditions that impair venous return, conditions that\\ncause endothelial injury or dysfunction, and underlying hypercoagulability disorders (see\\nTable 194-1). Bed rest and confinement without walking, even for a few hours, are common precipitators.\\nPathophysiology\\nOnce DVT develops, clots may dislodge and travel through the venous system and right side of the heart\\nto lodge in the pulmonary arteries, where they partially or completely occlude one or more vessels. The', metadata={'author': '', 'creationDate': 'D:20120615054440Z', 'creator': 'Atop CHM to PDF Converter', 'file_path': '/content/medical_diagnosis_manual.pdf', 'format': 'PDF 1.7', 'keywords': '', 'modDate': 'D:20250509140453Z', 'page': 2079, 'producer': 'pdf-lib (https://github.com/Hopding/pdf-lib)', 'source': '/content/medical_diagnosis_manual.pdf', 'subject': '', 'title': 'The Merck Manual of Diagnosis & Therapy, 19th Edition', 'total_pages': 4114, 'trapped': ''}),\n",
              " Document(page_content='Bleeding from a pulmonary embolism is rarely massive and almost always stops spontaneously. If emboli\\nrecur and bleeding persists, anticoagulation may be contraindicated, and placement of an inferior vena\\ncava filter is the treatment of choice.\\nBecause bleeding from bronchiectatic areas usually results from infection, treatment of the infection with\\nappropriate antibiotics and postural drainage is essential.\\nKey Points\\n• Hemoptysis needs to be distinguished from hematemesis and nasopharyngeal or oropharyngeal\\nbleeding.\\n• Bronchitis, bronchiectasis, TB, and necrotizing pneumonia or lung abscess are the most common\\ncauses in adults.\\n• Lower respiratory tract infection and foreign body aspiration are the most common causes in children.\\n• Patients with massive hemoptysis require treatment and stabilization before testing.\\n• With massive hemoptysis, if the side of bleeding is known, patients should be positioned with the\\naffected lung in the dependent position.\\n• Bronchial artery embolization is the preferred treatment for massive hemoptysis.\\nSolitary Pulmonary Nodule\\nThe Merck Manual of Diagnosis & Therapy, 19th Edition\\nChapter 188. Approach to the Patient With Pulmonary Symptoms\\n2007\\nalfarah.amr@hotmail.com\\nSUKPH4F9MQ\\nThis file is meant for personal use by alfarah.amr@hotmail.com only.\\nSharing or publishing the contents in part or full is liable for legal action.', metadata={'author': '', 'creationDate': 'D:20120615054440Z', 'creator': 'Atop CHM to PDF Converter', 'file_path': '/content/medical_diagnosis_manual.pdf', 'format': 'PDF 1.7', 'keywords': '', 'modDate': 'D:20250509140453Z', 'page': 2016, 'producer': 'pdf-lib (https://github.com/Hopding/pdf-lib)', 'source': '/content/medical_diagnosis_manual.pdf', 'subject': '', 'title': 'The Merck Manual of Diagnosis & Therapy, 19th Edition', 'total_pages': 4114, 'trapped': ''}),\n",
              " Document(page_content=\"Pathophysiology\\nOnce DVT develops, clots may dislodge and travel through the venous system and right side of the heart\\nto lodge in the pulmonary arteries, where they partially or completely occlude one or more vessels. The\\nconsequences depend on the size and number of emboli, the pulmonary reaction, the underlying\\ncondition of the lungs, and the ability of the body's intrinsic thrombolytic system to dissolve the clots.\\n[Table 194-1. Risk Factors for Deep Venous Thrombosis and Pulmonary Embolism]\\nSmall emboli may have no acute physiologic effects; many begin to lyse immediately and resolve within\\nhours or days. Larger emboli can cause a reflex increase in ventilation (tachypnea), hypoxemia due to\\nventilation/perfusion (V/Q) mismatch, shunting and low mixed venous O2 content as a result of low\\ncardiac output, atelectasis due to alveolar hypocapnia and abnormalities in surfactant, and an increase in\\npulmonary vascular resistance caused by mechanical obstruction and vasoconstriction. Endogenous lysis\\nreduces most emboli, even those of moderate size, without treatment, and physiologic alterations\\ndecrease over hours or days. Some emboli resist lysis and may organize and persist. Occasionally,\\nchronic residual obstruction leads to pulmonary hypertension (chronic thromboembolic pulmonary\\nhypertension) that may develop over years and result in chronic right heart failure. When large emboli\\nocclude major arteries, or when many small emboli occlude > 50% of the distal arterial system, right\\nventricular pressure increases, causing acute right ventricular failure, failure with shock (massive PE), or\\nsudden death in severe cases. Risk factors for death include age > 70 yr, cancer, and COPD. The risk of\\ndeath depends on the degree and rate of rise of right-sided pressures and on the patient's underlying\\ncardiopulmonary status; higher pressures more commonly occur among patients with preexisting\\ncardiopulmonary disease. Otherwise healthy patients may survive a PE that occludes > 50% of the\\npulmonary vascular bed.\\nPulmonary infarction occurs in < 10% of patients diagnosed with PE. This low rate has been attributed to\", metadata={'author': '', 'creationDate': 'D:20120615054440Z', 'creator': 'Atop CHM to PDF Converter', 'file_path': '/content/medical_diagnosis_manual.pdf', 'format': 'PDF 1.7', 'keywords': '', 'modDate': 'D:20250509140453Z', 'page': 2079, 'producer': 'pdf-lib (https://github.com/Hopding/pdf-lib)', 'source': '/content/medical_diagnosis_manual.pdf', 'subject': '', 'title': 'The Merck Manual of Diagnosis & Therapy, 19th Edition', 'total_pages': 4114, 'trapped': ''}),\n",
              " Document(page_content='pulmonary microvascular toxicity with hypoxemia and pulmonary infiltrates.\\nSeptic embolism occurs when infected material embolizes to the lung. Causes include IV drug use,\\nright-sided infective endocarditis, and septic thrombophlebitis. Septic embolism causes symptoms and\\nsigns of pneumonia or sepsis. Initially, nodular opacities appear on the chest x-ray; the appearance may\\nprogress to peripheral infiltrates, and emboli may cavitate (particularly emboli caused by Staphylococcus\\naureus). Treatment includes that of the underlying infection.\\nForeign body embolism caused by introduction of particulate matter into the pulmonary arterial system,\\nusually by IV injection of inorganic substances, such as talc by heroin users or elemental mercury by\\npatients with mental disorders. Focal pulmonary infiltrates may result.\\nTumor embolism is a rare complication of cancer (usually adenocarcinoma) in which neoplastic cells\\nfrom an organ enter the systemic venous and pulmonary arterial system, where they lodge, proliferate,\\nand obstruct flow. Patients typically present with dyspnea and pleuritic chest pain and signs of cor\\npulmonale that develop over weeks to months. Diagnosis, which is suggested by micronodules or diffuse\\npulmonary infiltrates on chest x-ray, can be confirmed by biopsy or occasionally by cytologic aspiration\\nand histologic study of pulmonary capillary blood.\\nECG most often shows tachycardia and various ST-T wave abnormalities, which are not specific for PE\\n(see\\nFig. 194-1). An S1Q3T3 or a new right bundle branch block may indicate the effect of abrupt rise in right\\nventricular pressure on right ventricular conduction; these findings are moderately specific but insensitive,\\noccurring in only about 5% of patients. Right axis deviation (R > S in V1) and P-pulmonale may be\\npresent. T-wave inversion in leads V1 to V4 also occurs.\\nClinical probability: Clinical probability of PE can be assessed by combining ECG and chest x-ray\\nfindings with findings from the history and physical examination (see\\nTable 194-2). Judgment of whether PE is more likely than an alternate diagnosis is somewhat subjective.', metadata={'author': '', 'creationDate': 'D:20120615054440Z', 'creator': 'Atop CHM to PDF Converter', 'file_path': '/content/medical_diagnosis_manual.pdf', 'format': 'PDF 1.7', 'keywords': '', 'modDate': 'D:20250509140453Z', 'page': 2081, 'producer': 'pdf-lib (https://github.com/Hopding/pdf-lib)', 'source': '/content/medical_diagnosis_manual.pdf', 'subject': '', 'title': 'The Merck Manual of Diagnosis & Therapy, 19th Edition', 'total_pages': 4114, 'trapped': ''}),\n",
              " Document(page_content='findings with findings from the history and physical examination (see\\nTable 194-2). Judgment of whether PE is more likely than an alternate diagnosis is somewhat subjective.\\nPE should probably be considered more likely if ≥ 1 of its symptoms and signs, particularly dyspnea,\\nThe Merck Manual of Diagnosis & Therapy, 19th Edition\\nChapter 194. Pulmonary Embolism\\n2072\\nalfarah.amr@hotmail.com\\nSUKPH4F9MQ\\nThis file is meant for personal use by alfarah.amr@hotmail.com only.\\nSharing or publishing the contents in part or full is liable for legal action.', metadata={'author': '', 'creationDate': 'D:20120615054440Z', 'creator': 'Atop CHM to PDF Converter', 'file_path': '/content/medical_diagnosis_manual.pdf', 'format': 'PDF 1.7', 'keywords': '', 'modDate': 'D:20250509140453Z', 'page': 2081, 'producer': 'pdf-lib (https://github.com/Hopding/pdf-lib)', 'source': '/content/medical_diagnosis_manual.pdf', 'subject': '', 'title': 'The Merck Manual of Diagnosis & Therapy, 19th Edition', 'total_pages': 4114, 'trapped': ''})]"
            ]
          },
          "metadata": {},
          "execution_count": 36
        }
      ]
    },
    {
      "cell_type": "markdown",
      "source": [
        "**Observations**: Pulmonary embolism (PE) is a serious and potentially fatal condition caused by the blockage of one or more pulmonary arteries, typically by thrombi originating from deep veins in the lower extremities or pelvis. It affects around 350,000 people annually in the U.S. and can lead to up to 85,000 deaths each year. Risk factors include venous stasis, endothelial injury, and hypercoagulable states. Symptoms such as dyspnea, pleuritic chest pain, and syncope are nonspecific, and diagnosis relies on imaging like CT angiography or V/Q scans, supported by clinical judgment and ECG findings. Small emboli may resolve spontaneously, but larger ones can cause hypoxemia, pulmonary hypertension, or even sudden death. Treatment involves anticoagulation, with thrombolytics or surgical intervention in severe cases, and inferior vena cava (IVC) filters may be used if anticoagulation is contraindicated. Rare forms include septic, tumor, or foreign body embolism. Prompt diagnosis and management are critical to improving outcomes and preventing complications like chronic pulmonary hypertension or right heart failure."
      ],
      "metadata": {
        "id": "26clPAWxpvZP"
      }
    },
    {
      "cell_type": "markdown",
      "metadata": {
        "id": "uEa5sKc41T1z"
      },
      "source": [
        "### Retriever"
      ]
    },
    {
      "cell_type": "code",
      "source": [
        "retriever = vectorstore.as_retriever(\n",
        "    search_type='similarity',\n",
        "    search_kwargs={'k': 5}\n",
        ")"
      ],
      "metadata": {
        "id": "wBlQUGx3RWUD"
      },
      "execution_count": 37,
      "outputs": []
    },
    {
      "cell_type": "code",
      "source": [
        "rel_docs = retriever.get_relevant_documents(\"What are the common symptoms and treatments for pulmonary embolism?\")\n",
        "rel_docs"
      ],
      "metadata": {
        "colab": {
          "base_uri": "https://localhost:8080/"
        },
        "id": "u-pxXU0ykkQt",
        "outputId": "69117c91-4d80-47b8-a2bb-d292fa288fee"
      },
      "execution_count": 38,
      "outputs": [
        {
          "output_type": "execute_result",
          "data": {
            "text/plain": [
              "[Document(page_content='Chapter 194. Pulmonary Embolism\\nIntroduction\\nPulmonary embolism (PE) is the occlusion of ≥ 1 pulmonary arteries by thrombi that originate\\nelsewhere, typically in the large veins of the lower extremities or pelvis. Risk factors are\\nconditions that impair venous return, conditions that cause endothelial injury or dysfunction,\\nand underlying hypercoagulable states. Symptoms are nonspecific and include dyspnea,\\npleuritic chest pain, cough, and, in severe cases, syncope or cardiorespiratory arrest. Signs are\\nalso nonspecific and may include tachypnea, tachycardia, hypotension, and a loud pulmonic\\ncomponent of the 2nd heart sound. Diagnosis is based on a CT angiogram, ventilation/perfusion\\nscan, or a pulmonary arteriogram. Treatment is with anticoagulants and, sometimes, clot\\ndissolution with thrombolytics or surgical removal. Preventive measures include anticoagulants\\nand sometimes insertion of an inferior vena caval filter.\\nPE affects an estimated 117 people per 100,000 person years, resulting in about 350,000 cases yearly,\\nand causes up to 85,000 deaths/yr. PE affects mainly adults.\\nEtiology\\nNearly all PEs arise from thrombi in the lower extremity or pelvic veins (deep venous thrombosis [DVT]\\n—see p. 2224). Thrombi in either the lower extremity or pelvic veins may be occult. Risk of embolization is\\nhigher with thrombi proximal to the calf veins. Thromboemboli can also originate in upper extremity veins\\n(associated with central venous catheters) or from right-sided cardiac chambers. Risk factors for DVT and\\nPE are similar in children and adults and include conditions that impair venous return, conditions that\\ncause endothelial injury or dysfunction, and underlying hypercoagulability disorders (see\\nTable 194-1). Bed rest and confinement without walking, even for a few hours, are common precipitators.\\nPathophysiology\\nOnce DVT develops, clots may dislodge and travel through the venous system and right side of the heart\\nto lodge in the pulmonary arteries, where they partially or completely occlude one or more vessels. The', metadata={'author': '', 'creationDate': 'D:20120615054440Z', 'creator': 'Atop CHM to PDF Converter', 'file_path': '/content/medical_diagnosis_manual.pdf', 'format': 'PDF 1.7', 'keywords': '', 'modDate': 'D:20250509140453Z', 'page': 2079, 'producer': 'pdf-lib (https://github.com/Hopding/pdf-lib)', 'source': '/content/medical_diagnosis_manual.pdf', 'subject': '', 'title': 'The Merck Manual of Diagnosis & Therapy, 19th Edition', 'total_pages': 4114, 'trapped': ''}),\n",
              " Document(page_content='Bleeding from a pulmonary embolism is rarely massive and almost always stops spontaneously. If emboli\\nrecur and bleeding persists, anticoagulation may be contraindicated, and placement of an inferior vena\\ncava filter is the treatment of choice.\\nBecause bleeding from bronchiectatic areas usually results from infection, treatment of the infection with\\nappropriate antibiotics and postural drainage is essential.\\nKey Points\\n• Hemoptysis needs to be distinguished from hematemesis and nasopharyngeal or oropharyngeal\\nbleeding.\\n• Bronchitis, bronchiectasis, TB, and necrotizing pneumonia or lung abscess are the most common\\ncauses in adults.\\n• Lower respiratory tract infection and foreign body aspiration are the most common causes in children.\\n• Patients with massive hemoptysis require treatment and stabilization before testing.\\n• With massive hemoptysis, if the side of bleeding is known, patients should be positioned with the\\naffected lung in the dependent position.\\n• Bronchial artery embolization is the preferred treatment for massive hemoptysis.\\nSolitary Pulmonary Nodule\\nThe Merck Manual of Diagnosis & Therapy, 19th Edition\\nChapter 188. Approach to the Patient With Pulmonary Symptoms\\n2007\\nalfarah.amr@hotmail.com\\nSUKPH4F9MQ\\nThis file is meant for personal use by alfarah.amr@hotmail.com only.\\nSharing or publishing the contents in part or full is liable for legal action.', metadata={'author': '', 'creationDate': 'D:20120615054440Z', 'creator': 'Atop CHM to PDF Converter', 'file_path': '/content/medical_diagnosis_manual.pdf', 'format': 'PDF 1.7', 'keywords': '', 'modDate': 'D:20250509140453Z', 'page': 2016, 'producer': 'pdf-lib (https://github.com/Hopding/pdf-lib)', 'source': '/content/medical_diagnosis_manual.pdf', 'subject': '', 'title': 'The Merck Manual of Diagnosis & Therapy, 19th Edition', 'total_pages': 4114, 'trapped': ''}),\n",
              " Document(page_content=\"Pathophysiology\\nOnce DVT develops, clots may dislodge and travel through the venous system and right side of the heart\\nto lodge in the pulmonary arteries, where they partially or completely occlude one or more vessels. The\\nconsequences depend on the size and number of emboli, the pulmonary reaction, the underlying\\ncondition of the lungs, and the ability of the body's intrinsic thrombolytic system to dissolve the clots.\\n[Table 194-1. Risk Factors for Deep Venous Thrombosis and Pulmonary Embolism]\\nSmall emboli may have no acute physiologic effects; many begin to lyse immediately and resolve within\\nhours or days. Larger emboli can cause a reflex increase in ventilation (tachypnea), hypoxemia due to\\nventilation/perfusion (V/Q) mismatch, shunting and low mixed venous O2 content as a result of low\\ncardiac output, atelectasis due to alveolar hypocapnia and abnormalities in surfactant, and an increase in\\npulmonary vascular resistance caused by mechanical obstruction and vasoconstriction. Endogenous lysis\\nreduces most emboli, even those of moderate size, without treatment, and physiologic alterations\\ndecrease over hours or days. Some emboli resist lysis and may organize and persist. Occasionally,\\nchronic residual obstruction leads to pulmonary hypertension (chronic thromboembolic pulmonary\\nhypertension) that may develop over years and result in chronic right heart failure. When large emboli\\nocclude major arteries, or when many small emboli occlude > 50% of the distal arterial system, right\\nventricular pressure increases, causing acute right ventricular failure, failure with shock (massive PE), or\\nsudden death in severe cases. Risk factors for death include age > 70 yr, cancer, and COPD. The risk of\\ndeath depends on the degree and rate of rise of right-sided pressures and on the patient's underlying\\ncardiopulmonary status; higher pressures more commonly occur among patients with preexisting\\ncardiopulmonary disease. Otherwise healthy patients may survive a PE that occludes > 50% of the\\npulmonary vascular bed.\\nPulmonary infarction occurs in < 10% of patients diagnosed with PE. This low rate has been attributed to\", metadata={'author': '', 'creationDate': 'D:20120615054440Z', 'creator': 'Atop CHM to PDF Converter', 'file_path': '/content/medical_diagnosis_manual.pdf', 'format': 'PDF 1.7', 'keywords': '', 'modDate': 'D:20250509140453Z', 'page': 2079, 'producer': 'pdf-lib (https://github.com/Hopding/pdf-lib)', 'source': '/content/medical_diagnosis_manual.pdf', 'subject': '', 'title': 'The Merck Manual of Diagnosis & Therapy, 19th Edition', 'total_pages': 4114, 'trapped': ''}),\n",
              " Document(page_content='pulmonary microvascular toxicity with hypoxemia and pulmonary infiltrates.\\nSeptic embolism occurs when infected material embolizes to the lung. Causes include IV drug use,\\nright-sided infective endocarditis, and septic thrombophlebitis. Septic embolism causes symptoms and\\nsigns of pneumonia or sepsis. Initially, nodular opacities appear on the chest x-ray; the appearance may\\nprogress to peripheral infiltrates, and emboli may cavitate (particularly emboli caused by Staphylococcus\\naureus). Treatment includes that of the underlying infection.\\nForeign body embolism caused by introduction of particulate matter into the pulmonary arterial system,\\nusually by IV injection of inorganic substances, such as talc by heroin users or elemental mercury by\\npatients with mental disorders. Focal pulmonary infiltrates may result.\\nTumor embolism is a rare complication of cancer (usually adenocarcinoma) in which neoplastic cells\\nfrom an organ enter the systemic venous and pulmonary arterial system, where they lodge, proliferate,\\nand obstruct flow. Patients typically present with dyspnea and pleuritic chest pain and signs of cor\\npulmonale that develop over weeks to months. Diagnosis, which is suggested by micronodules or diffuse\\npulmonary infiltrates on chest x-ray, can be confirmed by biopsy or occasionally by cytologic aspiration\\nand histologic study of pulmonary capillary blood.\\nECG most often shows tachycardia and various ST-T wave abnormalities, which are not specific for PE\\n(see\\nFig. 194-1). An S1Q3T3 or a new right bundle branch block may indicate the effect of abrupt rise in right\\nventricular pressure on right ventricular conduction; these findings are moderately specific but insensitive,\\noccurring in only about 5% of patients. Right axis deviation (R > S in V1) and P-pulmonale may be\\npresent. T-wave inversion in leads V1 to V4 also occurs.\\nClinical probability: Clinical probability of PE can be assessed by combining ECG and chest x-ray\\nfindings with findings from the history and physical examination (see\\nTable 194-2). Judgment of whether PE is more likely than an alternate diagnosis is somewhat subjective.', metadata={'author': '', 'creationDate': 'D:20120615054440Z', 'creator': 'Atop CHM to PDF Converter', 'file_path': '/content/medical_diagnosis_manual.pdf', 'format': 'PDF 1.7', 'keywords': '', 'modDate': 'D:20250509140453Z', 'page': 2081, 'producer': 'pdf-lib (https://github.com/Hopding/pdf-lib)', 'source': '/content/medical_diagnosis_manual.pdf', 'subject': '', 'title': 'The Merck Manual of Diagnosis & Therapy, 19th Edition', 'total_pages': 4114, 'trapped': ''}),\n",
              " Document(page_content='findings with findings from the history and physical examination (see\\nTable 194-2). Judgment of whether PE is more likely than an alternate diagnosis is somewhat subjective.\\nPE should probably be considered more likely if ≥ 1 of its symptoms and signs, particularly dyspnea,\\nThe Merck Manual of Diagnosis & Therapy, 19th Edition\\nChapter 194. Pulmonary Embolism\\n2072\\nalfarah.amr@hotmail.com\\nSUKPH4F9MQ\\nThis file is meant for personal use by alfarah.amr@hotmail.com only.\\nSharing or publishing the contents in part or full is liable for legal action.', metadata={'author': '', 'creationDate': 'D:20120615054440Z', 'creator': 'Atop CHM to PDF Converter', 'file_path': '/content/medical_diagnosis_manual.pdf', 'format': 'PDF 1.7', 'keywords': '', 'modDate': 'D:20250509140453Z', 'page': 2081, 'producer': 'pdf-lib (https://github.com/Hopding/pdf-lib)', 'source': '/content/medical_diagnosis_manual.pdf', 'subject': '', 'title': 'The Merck Manual of Diagnosis & Therapy, 19th Edition', 'total_pages': 4114, 'trapped': ''})]"
            ]
          },
          "metadata": {},
          "execution_count": 38
        }
      ]
    },
    {
      "cell_type": "markdown",
      "source": [
        "**Observations:** Pulmonary embolism (PE) is a life-threatening condition characterized by the blockage of one or more pulmonary arteries, typically by thrombi originating from deep veins in the lower extremities or pelvis. It affects approximately 350,000 individuals annually in the U.S., with up to 85,000 deaths, and primarily impacts adults. Risk factors include impaired venous return, endothelial injury, and hypercoagulable states. Symptoms such as dyspnea, chest pain, cough, or syncope are nonspecific, and diagnosis relies on imaging like CT angiography, ventilation-perfusion scans, or pulmonary arteriograms. Most PEs originate from deep venous thrombosis (DVT), and when dislodged, the clots travel to the lungs, causing partial or complete vessel occlusion. Small emboli may resolve spontaneously, but larger ones can lead to hypoxemia, right ventricular failure, or sudden death. ECG findings such as S1Q3T3 or right bundle branch block are rare but can aid in diagnosis. Treatment typically involves anticoagulation, with thrombolytics or surgery in severe cases; IVC filters are used when anticoagulants are contraindicated. Rare types of PE include septic, tumor, and foreign body embolisms, which require targeted treatments. Accurate clinical assessment and timely intervention are crucial to reducing mortality and preventing long-term complications such as chronic thromboembolic pulmonary hypertension."
      ],
      "metadata": {
        "id": "-gDqWdwglq0X"
      }
    },
    {
      "cell_type": "code",
      "source": [
        "model_output = llm(\n",
        "      \"What are the common symptoms and treatments for pulmonary embolism?\", #Your query\n",
        "      max_tokens=512, #controls maximum number of tokens\n",
        "      temperature=0.7, #controls the temperature (0 = deterministic, 1 = more creative)\n",
        "    )"
      ],
      "metadata": {
        "colab": {
          "base_uri": "https://localhost:8080/"
        },
        "id": "QsHjdv51kvPF",
        "outputId": "85995a03-9416-4705-da5d-8936a7cb662a"
      },
      "execution_count": 39,
      "outputs": [
        {
          "output_type": "stream",
          "name": "stderr",
          "text": [
            "Llama.generate: prefix-match hit\n"
          ]
        }
      ]
    },
    {
      "cell_type": "code",
      "source": [
        "model_output['choices'][0]['text']"
      ],
      "metadata": {
        "colab": {
          "base_uri": "https://localhost:8080/",
          "height": 110
        },
        "id": "nGenrP5YmZWI",
        "outputId": "0882b738-38ef-4570-9099-507c793c926f"
      },
      "execution_count": 40,
      "outputs": [
        {
          "output_type": "execute_result",
          "data": {
            "text/plain": [
              "\"\\n\\nA pulmonary embolism is a blockage in one or more of the arteries that supply blood to the lungs, usually caused by a blood clot. The symptoms can vary widely depending on the size of the clot and the overall health of the person, but some common ones include:\\n\\n* Shortness of breath: This is often the most prominent symptom. The person may feel like they can't get enough air, or that they're breathing too hard for the level of activity they're engaged in.\\n* Chest pain: This can range from a sharp, stabbing pain to a dull, constant ache. It may be worse when the person takes deep breaths or coughs.\\n* Rapid heartbeat: The person's heart may beat faster than normal, either at rest or during physical activity.\\n* Coughing up blood: In some cases, the clot can cause the person to cough up blood or bloody mucus.\\n\\nTreatment for a pulmonary embolism typically involves anticoagulant medications to prevent the clot from growing larger and causing further damage. These medications work by thinning the blood and preventing it from clotting. In severe cases, a procedure called thrombectomy may be used to remove the clot mechanically. Additionally, oxygen therapy and supportive care may be necessary to help the person breathe more easily and manage symptoms.\\n\\nIt's important to note that pulmonary embolism is a medical emergency and requires prompt treatment. If you suspect that you or someone else may have this condition, seek medical attention right away.\""
            ],
            "application/vnd.google.colaboratory.intrinsic+json": {
              "type": "string"
            }
          },
          "metadata": {},
          "execution_count": 40
        }
      ]
    },
    {
      "cell_type": "markdown",
      "source": [
        "**Observations:** Pulmonary embolism (PE) is a serious and potentially life-threatening condition in which one or more arteries supplying blood to the lungs become blocked, most often by a blood clot. Common symptoms include sudden shortness of breath, chest pain that worsens with deep breaths or coughing, a rapid heartbeat, and occasionally coughing up blood. The severity of symptoms depends on the size of the clot and the person’s overall health. Treatment typically involves anticoagulant medications to prevent further clotting and allow the body to break down the existing clot. In critical cases, procedures like thrombectomy may be required to physically remove the clot. Oxygen therapy and supportive care may also be needed to ease breathing and stabilize the patient. Prompt medical attention is essential, as PE is a medical emergency that can rapidly become fatal if left untreated."
      ],
      "metadata": {
        "id": "KtRg-BFplr-Z"
      }
    },
    {
      "cell_type": "markdown",
      "metadata": {
        "id": "vw8qcwq66B0C",
        "nteract": {
          "transient": {
            "deleting": false
          }
        }
      },
      "source": [
        "### System and User Prompt Template"
      ]
    },
    {
      "cell_type": "code",
      "source": [
        "qna_system_message = \"You are a knowledgeable medical assistant. Use the provided context to accurately and concisely answer the user's medical question.\""
      ],
      "metadata": {
        "id": "GF_4399TRW5D"
      },
      "execution_count": 41,
      "outputs": []
    },
    {
      "cell_type": "code",
      "source": [
        "qna_user_message_template = \"Using the context, respond to the question with the most accurate answer possible.\\n\\nContext:\\n{context}\\n\\nQuestion:\\n{question}\"\n"
      ],
      "metadata": {
        "id": "x73CNGFBml9c"
      },
      "execution_count": 42,
      "outputs": []
    },
    {
      "cell_type": "markdown",
      "metadata": {
        "id": "TkIteX4m6mny"
      },
      "source": [
        "### Response Function"
      ]
    },
    {
      "cell_type": "code",
      "source": [
        "def generate_rag_response(user_input,k=3,max_tokens=128,temperature=0,top_p=0.95,top_k=50):\n",
        "    global qna_system_message,qna_user_message_template\n",
        "    # Retrieve relevant document chunks\n",
        "    relevant_document_chunks = retriever.get_relevant_documents(query=user_input,k=k)\n",
        "    context_list = [d.page_content for d in relevant_document_chunks]\n",
        "\n",
        "    # Combine document chunks into a single context\n",
        "    context_for_query = \". \".join(context_list)\n",
        "\n",
        "    user_message = qna_user_message_template.replace('{context}', context_for_query)\n",
        "    user_message = user_message.replace('{question}', user_input)\n",
        "\n",
        "    prompt = qna_system_message + '\\n' + user_message\n",
        "\n",
        "    # Generate the response\n",
        "    try:\n",
        "        response = llm(\n",
        "                  prompt=prompt,\n",
        "                  max_tokens=max_tokens,\n",
        "                  temperature=temperature,\n",
        "                  top_p=top_p,\n",
        "                  top_k=top_k\n",
        "                  )\n",
        "\n",
        "        # Extract and print the model's response\n",
        "        response = response['choices'][0]['text'].strip()\n",
        "    except Exception as e:\n",
        "        response = f'Sorry, I encountered the following error: \\n {e}'\n",
        "\n",
        "    return response"
      ],
      "metadata": {
        "id": "5jFvGnOJRXZx"
      },
      "execution_count": 43,
      "outputs": []
    },
    {
      "cell_type": "markdown",
      "source": [
        "## Question Answering using RAG"
      ],
      "metadata": {
        "id": "ffP1SRYbPQHN"
      }
    },
    {
      "cell_type": "markdown",
      "metadata": {
        "id": "JjajBEj06B0E"
      },
      "source": [
        "### Query 1: What is the protocol for managing sepsis in a critical care unit?"
      ]
    },
    {
      "cell_type": "code",
      "source": [
        "user_input = \"What is the protocol for managing sepsis in a critical care unit?\"\n",
        "generate_rag_response(user_input,top_k=20)"
      ],
      "metadata": {
        "id": "Nlo9sMpPRbTP",
        "colab": {
          "base_uri": "https://localhost:8080/",
          "height": 91
        },
        "outputId": "79ccc6b2-ad49-4a02-bc4a-9b23c2013595"
      },
      "execution_count": 44,
      "outputs": [
        {
          "output_type": "stream",
          "name": "stderr",
          "text": [
            "Llama.generate: prefix-match hit\n"
          ]
        },
        {
          "output_type": "execute_result",
          "data": {
            "text/plain": [
              "'Answer:\\nSepsis is a serious condition that requires prompt and effective management in a critical care unit. The protocol involves initiating rapid empiric antibiotic therapy based on suspected infection sources, clinical setting, and sensitivity patterns. Antibiotics may be adjusted according to culture results. General supportive measures, including respiratory and hemodynamic management, are combined with antibiotic treatment. Specific antimicrobials for early-onset and late-onset sepsis, as well as for suspected coagulase-negative staphylococci or Candida infections, are'"
            ],
            "application/vnd.google.colaboratory.intrinsic+json": {
              "type": "string"
            }
          },
          "metadata": {},
          "execution_count": 44
        }
      ]
    },
    {
      "cell_type": "markdown",
      "source": [
        "**Observations:** continued based on clinical judgment and diagnostic results. Early fluid resuscitation is essential to restore tissue perfusion, typically with crystalloids. Vasopressors may be administered if hypotension persists despite adequate fluid replacement. Monitoring lactate levels and organ function helps guide ongoing treatment. Source control, such as drainage of abscesses or removal of infected devices, is also critical. Timely recognition and comprehensive care following the Surviving Sepsis Campaign guidelines significantly improve outcomes in patients with sepsis."
      ],
      "metadata": {
        "id": "qfcGAZD7ltzZ"
      }
    },
    {
      "cell_type": "markdown",
      "metadata": {
        "id": "QDw8zXuq6B0F"
      },
      "source": [
        "### Query 2: What are the common symptoms for appendicitis, and can it be cured via medicine? If not, what surgical procedure should be followed to treat it?"
      ]
    },
    {
      "cell_type": "code",
      "source": [
        "user_input_2 = \"What are the common symptoms for appendicitis, and can it be cured via medicine? If not, what surgical procedure should be followed to treat it?\" #Complete the code to pass the query #2\n",
        "generate_rag_response(user_input_2)"
      ],
      "metadata": {
        "id": "PVReF4G8RbzR",
        "colab": {
          "base_uri": "https://localhost:8080/",
          "height": 91
        },
        "outputId": "76a002c5-012c-40b6-d5a0-ffc53fdf001f"
      },
      "execution_count": 45,
      "outputs": [
        {
          "output_type": "stream",
          "name": "stderr",
          "text": [
            "Llama.generate: prefix-match hit\n"
          ]
        },
        {
          "output_type": "execute_result",
          "data": {
            "text/plain": [
              "\"Answer:\\nThe common symptoms of appendicitis include epigastric or periumbilical pain followed by brief nausea, vomiting, and anorexia; after a few hours, the pain shifts to the right lower quadrant. Pain increases with cough and motion. Classic signs are right lower quadrant direct and rebound tenderness located at McBurney's point (junction of the middle and outer thirds of the line joining the umbilicus to the anterior superior spine). Additional signs include pain felt in the right lower quadrant with palpation of the left lower quad\""
            ],
            "application/vnd.google.colaboratory.intrinsic+json": {
              "type": "string"
            }
          },
          "metadata": {},
          "execution_count": 45
        }
      ]
    },
    {
      "cell_type": "markdown",
      "source": [
        "**Observations:** rant (Rovsing’s sign), and pain with passive extension or internal rotation of the right hip (psoas and obturator signs). Low-grade fever and leukocytosis are also common. These symptoms, especially when they progress in the typical pattern, are key indicators for clinical diagnosis and warrant prompt medical evaluation to prevent complications such as perforation or abscess formation."
      ],
      "metadata": {
        "id": "-bOStAzAlu3G"
      }
    },
    {
      "cell_type": "markdown",
      "metadata": {
        "id": "TggYyQPL6B0G"
      },
      "source": [
        "### Query 3: What are the effective treatments or solutions for addressing sudden patchy hair loss, commonly seen as localized bald spots on the scalp, and what could be the possible causes behind it?"
      ]
    },
    {
      "cell_type": "code",
      "source": [
        "user_input_2 = \"What are the effective treatments or solutions for addressing sudden patchy hair loss, commonly seen as localized bald spots on the scalp, and what could be the possible causes behind it?\" #Complete the code to pass the query #3\n",
        "generate_rag_response(user_input_2)"
      ],
      "metadata": {
        "id": "0aRbadGtRcX0",
        "colab": {
          "base_uri": "https://localhost:8080/",
          "height": 91
        },
        "outputId": "c8d2ce37-15bf-427d-cdbb-2a13af1ce1d4"
      },
      "execution_count": 46,
      "outputs": [
        {
          "output_type": "stream",
          "name": "stderr",
          "text": [
            "Llama.generate: prefix-match hit\n"
          ]
        },
        {
          "output_type": "execute_result",
          "data": {
            "text/plain": [
              "\"Answer:\\nSudden patchy hair loss, also known as alopecia areata, is characterized by round or oval bald patches on the scalp or other areas of the body where there is normally hair growth. The exact cause of alopecia areata is unknown but it's believed to be an autoimmune disorder that affects genetically susceptible individuals exposed to unclear environmental triggers.\\n\\nThe most common treatments for alopecia areata include:\\n1. Topical corticosteroids: These medications can help reduce inflammation and stimulate hair growth\""
            ],
            "application/vnd.google.colaboratory.intrinsic+json": {
              "type": "string"
            }
          },
          "metadata": {},
          "execution_count": 46
        }
      ]
    },
    {
      "cell_type": "markdown",
      "source": [
        "**Observation:**\n",
        "Alopecia areata presents as sudden, patchy hair loss, often forming distinct bald spots on the scalp or other hair-bearing areas. It is believed to be an autoimmune condition triggered by unknown environmental factors in genetically predisposed individuals. Treatment commonly involves topical or intralesional corticosteroids to reduce inflammation and encourage regrowth, though results can vary and recurrence is frequent, highlighting the chronic and unpredictable nature of the condition."
      ],
      "metadata": {
        "id": "0p2PBifMl0K6"
      }
    },
    {
      "cell_type": "markdown",
      "metadata": {
        "id": "1TgxdI-_6B0G"
      },
      "source": [
        "### Query 4:  What treatments are recommended for a person who has sustained a physical injury to brain tissue, resulting in temporary or permanent impairment of brain function?"
      ]
    },
    {
      "cell_type": "code",
      "source": [
        "user_input_2 = \"What treatments are recommended for a person who has sustained a physical injury to brain tissue, resulting in temporary or permanent impairment of brain function?\" #Complete the code to pass the query #4\n",
        "generate_rag_response(user_input_2)"
      ],
      "metadata": {
        "id": "0vzRX1TcRc29",
        "colab": {
          "base_uri": "https://localhost:8080/",
          "height": 91
        },
        "outputId": "cb2ee7c6-c7f8-442b-bcd5-7d1dba3ce633"
      },
      "execution_count": 47,
      "outputs": [
        {
          "output_type": "stream",
          "name": "stderr",
          "text": [
            "Llama.generate: prefix-match hit\n"
          ]
        },
        {
          "output_type": "execute_result",
          "data": {
            "text/plain": [
              "\"Answer:\\nFor a person with a traumatic brain injury (TBI), the primary focus is on early intervention by rehabilitation specialists. This includes preventing secondary disabilities such as pressure ulcers, joint contractures, and pneumonia, as well as family education. Depending on the severity of cognitive dysfunction, extensive cognitive therapy may be required, which can begin immediately after the injury and continue for months or years. Rehabilitation is best provided through a team approach that includes physical, occupational, and speech therapy, skill-building activities, and counseling to meet the patient's social\""
            ],
            "application/vnd.google.colaboratory.intrinsic+json": {
              "type": "string"
            }
          },
          "metadata": {},
          "execution_count": 47
        }
      ]
    },
    {
      "cell_type": "markdown",
      "source": [
        "**Observation:**\n",
        "Effective management of traumatic brain injury (TBI) relies on early, multidisciplinary rehabilitation to prevent secondary complications and support long-term recovery. Rehabilitation efforts begin soon after injury and may extend for months or years, depending on the severity of cognitive and physical impairments. A coordinated team approach—including physical, occupational, and speech therapy, along with counseling and family education—is essential for restoring function, building skills, and addressing the patient’s social and emotional needs."
      ],
      "metadata": {
        "id": "Ctd45IrNl1F_"
      }
    },
    {
      "cell_type": "markdown",
      "metadata": {
        "id": "FlHXYCkm6B0H"
      },
      "source": [
        "### Query 5: What are the necessary precautions and treatment steps for a person who has fractured their leg during a hiking trip, and what should be considered for their care and recovery?"
      ]
    },
    {
      "cell_type": "code",
      "source": [
        "user_input_2 = \"What are the necessary precautions and treatment steps for a person who has fractured their leg during a hiking trip, and what should be considered for their care and recovery?\" #Complete the code to pass the query #5\n",
        "generate_rag_response(user_input_2)"
      ],
      "metadata": {
        "id": "sarpUibcRdhq",
        "colab": {
          "base_uri": "https://localhost:8080/",
          "height": 91
        },
        "outputId": "f3678643-2403-4429-f46e-e6e85c9ec0cf"
      },
      "execution_count": 48,
      "outputs": [
        {
          "output_type": "stream",
          "name": "stderr",
          "text": [
            "Llama.generate: prefix-match hit\n"
          ]
        },
        {
          "output_type": "execute_result",
          "data": {
            "text/plain": [
              "'Answer:\\nA fractured leg requires prompt medical attention. In the initial assessment, evaluate the patient for signs of hemorrhagic shock due to potential blood loss. If there are symptoms or signs of ischemia, such as absent pulses, severe pain, pallor, or coolness distal to the injury, suspect an arterial injury and consider arteriography. For nerve injuries, nerve conduction studies may be necessary.\\n\\nImmediate treatment includes immobilizing the fracture with a splint to prevent further injury and decrease pain. Pain is typically managed with opioids'"
            ],
            "application/vnd.google.colaboratory.intrinsic+json": {
              "type": "string"
            }
          },
          "metadata": {},
          "execution_count": 48
        }
      ]
    },
    {
      "cell_type": "markdown",
      "source": [
        "**Observation:**\n",
        "A fractured leg is a serious injury that necessitates immediate evaluation and intervention to prevent complications. Assessment should include checking for hemorrhagic shock, arterial injury, and nerve damage. Prompt immobilization with a splint helps stabilize the limb and reduce pain, while opioids are often used for effective pain management. Diagnostic tools like arteriography or nerve conduction studies may be required based on symptoms, ensuring comprehensive care and minimizing long-term disability."
      ],
      "metadata": {
        "id": "6V0ElrG_l15f"
      }
    },
    {
      "cell_type": "markdown",
      "source": [
        "### Fine-tuning"
      ],
      "metadata": {
        "id": "K7TYrqycEITB"
      }
    },
    {
      "cell_type": "markdown",
      "source": [
        "Query 1: What is the protocol for managing sepsis in a critical care unit?"
      ],
      "metadata": {
        "id": "wcQjCG0SoweL"
      }
    },
    {
      "cell_type": "code",
      "source": [
        "user_input = \"What is the protocol for managing sepsis in a critical care unit?\"\n",
        "generate_rag_response(user_input,temperature=0.5)"
      ],
      "metadata": {
        "id": "7UYBR-hcReSo",
        "colab": {
          "base_uri": "https://localhost:8080/",
          "height": 91
        },
        "outputId": "88320199-cbdb-42b9-cc34-ac1bf2ea7b82"
      },
      "execution_count": 49,
      "outputs": [
        {
          "output_type": "stream",
          "name": "stderr",
          "text": [
            "Llama.generate: prefix-match hit\n"
          ]
        },
        {
          "output_type": "execute_result",
          "data": {
            "text/plain": [
              "'Answer:\\nSepsis is a serious and potentially life-threatening condition that requires prompt and effective management. In a critical care unit, the following protocol should be followed for managing sepsis:\\n1. Rapid empiric antibiotic therapy: Since sepsis may manifest with non-specific clinical signs, it is essential to initiate antibiotics as soon as possible. Initial therapy should include ampicillin or penicillin G plus an aminoglycoside or cefotaxime. Antibiotics may be adjusted according to sensitivity and the site of infection'"
            ],
            "application/vnd.google.colaboratory.intrinsic+json": {
              "type": "string"
            }
          },
          "metadata": {},
          "execution_count": 49
        }
      ]
    },
    {
      "cell_type": "markdown",
      "source": [
        "**Observations:**"
      ],
      "metadata": {
        "id": "fUTBV1oJl3ql"
      }
    },
    {
      "cell_type": "markdown",
      "source": [
        "Query 2: What are the common symptoms for appendicitis, and can it be cured via medicine? If not, what surgical procedure should be followed to treat it?"
      ],
      "metadata": {
        "id": "9Wz4arJFoxSL"
      }
    },
    {
      "cell_type": "code",
      "source": [
        "user_input_2 = \"What are the common symptoms for appendicitis, and can it be cured via medicine? If not, what surgical procedure should be followed to treat it?\" #Complete the code to pass the query #2\n",
        "generate_rag_response(user_input_2)"
      ],
      "metadata": {
        "colab": {
          "base_uri": "https://localhost:8080/",
          "height": 91
        },
        "id": "FfYGC2FQoxwJ",
        "outputId": "0f607ae9-2387-43ed-9700-a5f5a77857fe"
      },
      "execution_count": 50,
      "outputs": [
        {
          "output_type": "stream",
          "name": "stderr",
          "text": [
            "Llama.generate: prefix-match hit\n"
          ]
        },
        {
          "output_type": "execute_result",
          "data": {
            "text/plain": [
              "\"Answer:\\nThe common symptoms of appendicitis include epigastric or periumbilical pain followed by brief nausea, vomiting, and anorexia; after a few hours, the pain shifts to the right lower quadrant. Pain increases with cough and motion. Classic signs are right lower quadrant direct and rebound tenderness located at McBurney's point (junction of the middle and outer thirds of the line joining the umbilicus to the anterior superior spine). Additional signs include pain felt in the right lower quadrant with palpation of the left lower quad\""
            ],
            "application/vnd.google.colaboratory.intrinsic+json": {
              "type": "string"
            }
          },
          "metadata": {},
          "execution_count": 50
        }
      ]
    },
    {
      "cell_type": "markdown",
      "source": [
        "**Observation:**\n",
        "Sepsis is a medical emergency that demands immediate intervention in a critical care setting. Early administration of broad-spectrum antibiotics, such as ampicillin with an aminoglycoside or cefotaxime, is crucial due to the non-specific nature of early symptoms. Timely antibiotic therapy, tailored to culture results and infection site, significantly improves survival outcomes. Prompt recognition and appropriate antimicrobial management are central to effective sepsis treatment and reducing complications."
      ],
      "metadata": {
        "id": "5liz8NYNl5Gv"
      }
    },
    {
      "cell_type": "markdown",
      "source": [
        "Query 3: What are the effective treatments or solutions for addressing sudden patchy hair loss, commonly seen as localized bald spots on the scalp, and what could be the possible causes behind it?"
      ],
      "metadata": {
        "id": "_nuLhAtgoyBn"
      }
    },
    {
      "cell_type": "code",
      "source": [
        "user_input_2 = \"What are the effective treatments or solutions for addressing sudden patchy hair loss, commonly seen as localized bald spots on the scalp, and what could be the possible causes behind it?\" #Complete the code to pass the query #3\n",
        "generate_rag_response(user_input_2)"
      ],
      "metadata": {
        "colab": {
          "base_uri": "https://localhost:8080/",
          "height": 91
        },
        "id": "9IFy9hyNoykh",
        "outputId": "ec2ecd10-6f9e-4620-96d4-fd1e2db9227a"
      },
      "execution_count": 51,
      "outputs": [
        {
          "output_type": "stream",
          "name": "stderr",
          "text": [
            "Llama.generate: prefix-match hit\n"
          ]
        },
        {
          "output_type": "execute_result",
          "data": {
            "text/plain": [
              "\"Answer:\\nSudden patchy hair loss, also known as alopecia areata, is characterized by round or oval bald patches on the scalp or other areas of the body where there is normally hair growth. The exact cause of alopecia areata is unknown but it's believed to be an autoimmune disorder that affects genetically susceptible individuals exposed to unclear environmental triggers.\\n\\nThe most common treatments for alopecia areata include:\\n1. Topical corticosteroids: These medications can help reduce inflammation and stimulate hair growth\""
            ],
            "application/vnd.google.colaboratory.intrinsic+json": {
              "type": "string"
            }
          },
          "metadata": {},
          "execution_count": 51
        }
      ]
    },
    {
      "cell_type": "markdown",
      "source": [
        "**Observation:**\n",
        "Alopecia areata is a distinctive autoimmune condition marked by sudden, patchy hair loss, often forming round or oval bald spots. Though its exact cause is unknown, it is linked to immune system dysfunction in genetically predisposed individuals. Treatment typically begins with topical corticosteroids to reduce inflammation and promote hair regrowth, though responses can vary, and recurrence is common, emphasizing the need for ongoing management and patient support."
      ],
      "metadata": {
        "id": "OV3MP2smrKOe"
      }
    },
    {
      "cell_type": "markdown",
      "source": [
        "Query 4: What treatments are recommended for a person who has sustained a physical injury to brain tissue, resulting in temporary or permanent impairment of brain function?"
      ],
      "metadata": {
        "id": "EknTMhugozNO"
      }
    },
    {
      "cell_type": "code",
      "source": [
        "user_input_2 = \"What treatments are recommended for a person who has sustained a physical injury to brain tissue, resulting in temporary or permanent impairment of brain function?\" #Complete the code to pass the query #4\n",
        "generate_rag_response(user_input_2)"
      ],
      "metadata": {
        "colab": {
          "base_uri": "https://localhost:8080/",
          "height": 91
        },
        "id": "fBb-QRFtozrK",
        "outputId": "7ccd21f0-c81e-462a-bd1f-6b5487ae1f53"
      },
      "execution_count": 52,
      "outputs": [
        {
          "output_type": "stream",
          "name": "stderr",
          "text": [
            "Llama.generate: prefix-match hit\n"
          ]
        },
        {
          "output_type": "execute_result",
          "data": {
            "text/plain": [
              "\"Answer:\\nFor a person with a traumatic brain injury (TBI), the primary focus is on early intervention by rehabilitation specialists. This includes preventing secondary disabilities such as pressure ulcers, joint contractures, and pneumonia, as well as family education. Depending on the severity of cognitive dysfunction, extensive cognitive therapy may be required, which can begin immediately after the injury and continue for months or years. Rehabilitation is best provided through a team approach that includes physical, occupational, and speech therapy, skill-building activities, and counseling to meet the patient's social\""
            ],
            "application/vnd.google.colaboratory.intrinsic+json": {
              "type": "string"
            }
          },
          "metadata": {},
          "execution_count": 52
        }
      ]
    },
    {
      "cell_type": "markdown",
      "source": [
        "**Observation:**\n",
        "Managing traumatic brain injury (TBI) involves early, coordinated rehabilitation aimed at minimizing secondary complications and promoting long-term recovery. Preventative care for issues like pressure ulcers and pneumonia, along with cognitive and physical therapies, is essential. A multidisciplinary team approach—including physical, occupational, and speech therapy, along with counseling and family education—ensures comprehensive care tailored to the patient’s functional and social needs."
      ],
      "metadata": {
        "id": "3Wz5v0TCl6bl"
      }
    },
    {
      "cell_type": "markdown",
      "source": [
        "Query 5: What are the necessary precautions and treatment steps for a person who has fractured their leg during a hiking trip, and what should be considered for their care and recovery?"
      ],
      "metadata": {
        "id": "z0LiiKoNoz_k"
      }
    },
    {
      "cell_type": "code",
      "source": [
        "user_input_2 = \" What are the necessary precautions and treatment steps for a person who has fractured their leg during a hiking trip, and what should be considered for their care and recovery?\" #Complete the code to pass the query #5\n",
        "generate_rag_response(user_input_2)"
      ],
      "metadata": {
        "colab": {
          "base_uri": "https://localhost:8080/",
          "height": 91
        },
        "id": "wPIsOTHNo0YZ",
        "outputId": "f91934c6-b43a-473b-ad68-9bfebc9d4668"
      },
      "execution_count": 53,
      "outputs": [
        {
          "output_type": "stream",
          "name": "stderr",
          "text": [
            "Llama.generate: prefix-match hit\n"
          ]
        },
        {
          "output_type": "execute_result",
          "data": {
            "text/plain": [
              "'Answer:\\n A fractured leg requires prompt medical attention. In the initial evaluation, the person should be assessed for signs of hemorrhagic shock due to potential blood loss. If there are symptoms or signs of ischemia, such as absent pulses, marked pallor, coolness distal to the injury, or severe pain, immediate treatment for arterial injuries may be necessary through arteriography. For nerve injuries, nerve conduction studies may be indicated later on for diagnosis and treatment.\\n\\nThe first step in managing a fractured leg is immobilization with a splint'"
            ],
            "application/vnd.google.colaboratory.intrinsic+json": {
              "type": "string"
            }
          },
          "metadata": {},
          "execution_count": 53
        }
      ]
    },
    {
      "cell_type": "markdown",
      "source": [
        "**Observation:**\n",
        "A fractured leg is a critical injury that necessitates immediate evaluation to rule out complications such as hemorrhagic shock, arterial compromise, or nerve damage. Clinical signs like absent pulses, pallor, and severe distal pain may indicate ischemia, requiring urgent imaging and intervention. Prompt immobilization with a splint is the initial step in management, helping to stabilize the fracture, alleviate pain, and prevent further damage while definitive treatment is planned."
      ],
      "metadata": {
        "id": "efGLgIkurU3j"
      }
    },
    {
      "cell_type": "markdown",
      "metadata": {
        "id": "yyQrTipNfuBN"
      },
      "source": [
        "## Output Evaluation"
      ]
    },
    {
      "cell_type": "markdown",
      "source": [
        "**Observations:**"
      ],
      "metadata": {
        "id": "ptuDtMuNl7f7"
      }
    },
    {
      "cell_type": "code",
      "source": [
        "groundedness_rater_system_message  = \"You are a helpful assistant that evaluates how well the answer is grounded in the provided context. Rate only based on whether the answer is supported by the context.\""
      ],
      "metadata": {
        "id": "IHbfLAxAGdhW"
      },
      "execution_count": 54,
      "outputs": []
    },
    {
      "cell_type": "code",
      "source": [
        "relevance_rater_system_message = \"You are a helpful assistant that evaluates how relevant the answer is to the user question. Rate only based on how well the answer addresses the user's question.\""
      ],
      "metadata": {
        "id": "159OZZa0Rinv"
      },
      "execution_count": 55,
      "outputs": []
    },
    {
      "cell_type": "code",
      "source": [
        "user_message_template = \"\"\"\"\n",
        "###Question\n",
        "{question}\n",
        "\n",
        "###Context\n",
        "{context}\n",
        "\n",
        "###Answer\n",
        "{answer}\n",
        "\"\"\""
      ],
      "metadata": {
        "id": "RLqiSn-iRwSl"
      },
      "execution_count": 56,
      "outputs": []
    },
    {
      "cell_type": "code",
      "source": [
        "def generate_ground_relevance_response(user_input,k=3,max_tokens=128,temperature=0,top_p=0.95,top_k=50):\n",
        "    global qna_system_message,qna_user_message_template\n",
        "    # Retrieve relevant document chunks\n",
        "    relevant_document_chunks = retriever.get_relevant_documents(query=user_input,k=3)\n",
        "    context_list = [d.page_content for d in relevant_document_chunks]\n",
        "    context_for_query = \". \".join(context_list)\n",
        "\n",
        "    # Combine user_prompt and system_message to create the prompt\n",
        "    prompt = f\"\"\"[INST]{qna_system_message}\\n\n",
        "                {'user'}: {qna_user_message_template.format(context=context_for_query, question=user_input)}\n",
        "                [/INST]\"\"\"\n",
        "\n",
        "    response = llm(\n",
        "            prompt=prompt,\n",
        "            max_tokens=max_tokens,\n",
        "            temperature=temperature,\n",
        "            top_p=top_p,\n",
        "            top_k=top_k,\n",
        "            stop=['INST'],\n",
        "            echo=False\n",
        "            )\n",
        "\n",
        "    answer =  response[\"choices\"][0][\"text\"]\n",
        "\n",
        "    # Combine user_prompt and system_message to create the prompt\n",
        "    groundedness_prompt = f\"\"\"[INST]{groundedness_rater_system_message}\\n\n",
        "                {'user'}: {user_message_template.format(context=context_for_query, question=user_input, answer=answer)}\n",
        "                [/INST]\"\"\"\n",
        "\n",
        "    # Combine user_prompt and system_message to create the prompt\n",
        "    relevance_prompt = f\"\"\"[INST]{relevance_rater_system_message}\\n\n",
        "                {'user'}: {user_message_template.format(context=context_for_query, question=user_input, answer=answer)}\n",
        "                [/INST]\"\"\"\n",
        "\n",
        "    response_1 = llm(\n",
        "            prompt=groundedness_prompt,\n",
        "            max_tokens=max_tokens,\n",
        "            temperature=temperature,\n",
        "            top_p=top_p,\n",
        "            top_k=top_k,\n",
        "            stop=['INST'],\n",
        "            echo=False\n",
        "            )\n",
        "\n",
        "    response_2 = llm(\n",
        "            prompt=relevance_prompt,\n",
        "            max_tokens=max_tokens,\n",
        "            temperature=temperature,\n",
        "            top_p=top_p,\n",
        "            top_k=top_k,\n",
        "            stop=['INST'],\n",
        "            echo=False\n",
        "            )\n",
        "\n",
        "    return response_1['choices'][0]['text'],response_2['choices'][0]['text']"
      ],
      "metadata": {
        "id": "XIbZybyuRi2p"
      },
      "execution_count": 57,
      "outputs": []
    },
    {
      "cell_type": "markdown",
      "source": [
        "Query 1: What is the protocol for managing sepsis in a critical care unit?"
      ],
      "metadata": {
        "id": "4Pl0wKqVq-V7"
      }
    },
    {
      "cell_type": "code",
      "source": [
        "ground,rel = generate_ground_relevance_response(user_input=\"What is the protocol for managing sepsis in a critical care unit?\",max_tokens=370, k=3)\n",
        "\n",
        "print(ground,end=\"\\n\\n\")\n",
        "print(rel)"
      ],
      "metadata": {
        "colab": {
          "base_uri": "https://localhost:8080/"
        },
        "id": "AxMINDFIq-ye",
        "outputId": "5b248fa4-4ba2-411c-bf6b-2ecb8b24d7e2"
      },
      "execution_count": 58,
      "outputs": [
        {
          "output_type": "stream",
          "name": "stderr",
          "text": [
            "Llama.generate: prefix-match hit\n",
            "Llama.generate: prefix-match hit\n",
            "Llama.generate: prefix-match hit\n"
          ]
        },
        {
          "output_type": "stream",
          "name": "stdout",
          "text": [
            " The answer is well-supported by the context as it accurately summarizes the protocol for managing sepsis in a critical care unit based on the information provided in the text. The answer mentions the importance of rapid empiric antibiotic therapy, supportive measures, and adjusting treatment according to sensitivity and infection site once an organism is identified. It also covers the initial antibiotic regimens for early-onset and late-onset sepsis, as well as considerations for coagulase-negative staphylococci and other treatments like exchange transfusions and normalization of blood glucose.\n",
            "\n",
            " The answer is highly relevant as it directly addresses the user's question about the protocol for managing sepsis in a critical care unit by discussing rapid empiric antibiotic therapy, supportive measures, initial antibiotic choices based on sepsis type and suspected organisms, and other treatments such as exchange transfusions and normalization of blood glucose. The answer also mentions the importance of adjusting antibiotics according to sensitivity and infection site once an organism is identified, draining abscesses, and continuing antibiotics for at least 5 days after shock resolves.\n"
          ]
        }
      ]
    },
    {
      "cell_type": "markdown",
      "source": [
        "**Observation:**\n",
        "The answer provides a comprehensive and contextually accurate summary of sepsis management in a critical care setting. It emphasizes the urgency of initiating empiric antibiotic therapy, tailoring treatment based on culture and sensitivity results, and incorporating supportive care measures such as fluid resuscitation and glucose management. The response also addresses the specific approaches for early- and late-onset sepsis and complications involving resistant organisms. Overall, it effectively captures the multifaceted approach needed for successful sepsis treatment."
      ],
      "metadata": {
        "id": "sJKX-Q3il9pZ"
      }
    },
    {
      "cell_type": "markdown",
      "source": [
        "Query 2: What are the common symptoms for appendicitis, and can it be cured via medicine? If not, what surgical procedure should be followed to treat it?"
      ],
      "metadata": {
        "id": "5r6u8pHqq_BH"
      }
    },
    {
      "cell_type": "code",
      "source": [
        "ground,rel = generate_ground_relevance_response(user_input=\"What are the common symptoms for appendicitis, and can it be cured via medicine? If not, what surgical procedure should be followed to treat it?\",max_tokens=370, k=3) #Complete the code to pass the query #2 along with parameters if needed\n",
        "\n",
        "print(ground,end=\"\\n\\n\")\n",
        "print(rel)"
      ],
      "metadata": {
        "colab": {
          "base_uri": "https://localhost:8080/"
        },
        "id": "191rw0fjq_dp",
        "outputId": "b07ed136-fceb-49c8-841b-ee664b1bd358"
      },
      "execution_count": 59,
      "outputs": [
        {
          "output_type": "stream",
          "name": "stderr",
          "text": [
            "Llama.generate: prefix-match hit\n",
            "Llama.generate: prefix-match hit\n",
            "Llama.generate: prefix-match hit\n"
          ]
        },
        {
          "output_type": "stream",
          "name": "stdout",
          "text": [
            " The answer is well supported by the context. The context provides detailed information about the symptoms and signs of appendicitis, as well as the fact that treatment requires surgical removal. The answer accurately summarizes this information and adds that antibiotics may be given before surgery to help prevent infection. The context also mentions that if surgery is impossible, antibiotics can improve survival rate but are not curative, which is also included in the answer. Therefore, I would rate the answer as fully supported by the context.\n",
            "\n",
            " The answer provided in this text directly addresses the user's question regarding the common symptoms of appendicitis and whether it can be cured via medicine. The answer also explains that surgical removal is necessary for treatment, and mentions specific procedures such as open or laparoscopic appendectomy, antibiotics, and possible complications. Therefore, I would rate this answer as highly relevant to the user's question.\n"
          ]
        }
      ]
    },
    {
      "cell_type": "markdown",
      "source": [
        "**Observation:**\n",
        "The answer is both accurate and contextually supported, effectively summarizing the hallmark symptoms of appendicitis such as localized pain, nausea, and rebound tenderness. It correctly states that surgical removal—typically via appendectomy—is the definitive treatment, while also acknowledging the supportive role of antibiotics. The inclusion of non-surgical alternatives in cases where surgery isn’t possible adds depth, aligning well with clinical guidelines and the source material, making the response highly relevant and informative."
      ],
      "metadata": {
        "id": "_QxKUXbfl-mK"
      }
    },
    {
      "cell_type": "markdown",
      "source": [
        "Query 3: What are the effective treatments or solutions for addressing sudden patchy hair loss, commonly seen as localized bald spots on the scalp, and what could be the possible causes behind it?"
      ],
      "metadata": {
        "id": "xbDubV9Qq_xa"
      }
    },
    {
      "cell_type": "code",
      "source": [
        "ground,rel = generate_ground_relevance_response(user_input=\"What are the effective treatments or solutions for addressing sudden patchy hair loss, commonly seen as localized bald spots on the scalp, and what could be the possible causes behind it?\",max_tokens=370, k=3) #Complete the code to pass the query #3 along with parameters if needed\n",
        "\n",
        "print(ground,end=\"\\n\\n\")\n",
        "print(rel)"
      ],
      "metadata": {
        "colab": {
          "base_uri": "https://localhost:8080/"
        },
        "id": "-qo43L3erAPn",
        "outputId": "5cba000c-9be7-4f96-ad19-b31a7d516b6a"
      },
      "execution_count": 60,
      "outputs": [
        {
          "output_type": "stream",
          "name": "stderr",
          "text": [
            "Llama.generate: prefix-match hit\n",
            "Llama.generate: prefix-match hit\n",
            "Llama.generate: prefix-match hit\n"
          ]
        },
        {
          "output_type": "stream",
          "name": "stdout",
          "text": [
            " The answer is well-supported by the context provided in the text. The context mentions alopecia areata as a sudden patchy hair loss condition that affects genetically susceptible individuals, and it's described as an autoimmune disorder affecting the follicles. The text also discusses various treatment options for alopecia areata, including topical corticosteroids, minoxidil, anthralin, intralesional corticosteroid injections, systemic corticosteroids, immunotherapy with diphencyprone or squaric acid dibutylester, and oral antimalarials. The answer accurately summarizes this information and provides a clear explanation of the condition and its treatments.\n",
            "\n",
            " The answer provided is highly relevant to the user's question as it accurately explains the causes, diagnosis, and effective treatments for sudden patchy hair loss, also known as alopecia areata. It mentions various topical and systemic treatments, including corticosteroids, minoxidil, anthralin, immunotherapy, and oral antimalarials, which can be used to address this condition. The answer also touches upon the possible causes behind alopecia areata, such as genetic factors, environmental triggers, stress, and underlying medical conditions. Overall, the answer provides a comprehensive response to the user's query.\n"
          ]
        }
      ]
    },
    {
      "cell_type": "markdown",
      "source": [
        "**Observation:**\n",
        "The answer offers a thorough and contextually accurate explanation of alopecia areata, effectively detailing its autoimmune nature, potential genetic and environmental triggers, and characteristic presentation as sudden patchy hair loss. It comprehensively outlines a range of treatment options—including topical and intralesional corticosteroids, minoxidil, immunotherapy agents, and systemic therapies—aligning closely with the referenced content. The response is both informative and highly relevant to the user's inquiry, offering a well-rounded overview of the condition and its management strategies."
      ],
      "metadata": {
        "id": "CQKA5G_yl_iQ"
      }
    },
    {
      "cell_type": "markdown",
      "source": [
        "Query 4: What treatments are recommended for a person who has sustained a physical injury to brain tissue, resulting in temporary or permanent impairment of brain function?"
      ],
      "metadata": {
        "id": "dhod4M5RrAmv"
      }
    },
    {
      "cell_type": "code",
      "source": [
        "ground,rel = generate_ground_relevance_response(user_input=\"What treatments are recommended for a person who has sustained a physical injury to brain tissue, resulting in temporary or permanent impairment of brain function?\",max_tokens=370, k=3) #Complete the code to pass the query #4 along with parameters if needed\n",
        "\n",
        "print(ground,end=\"\\n\\n\")\n",
        "print(rel)"
      ],
      "metadata": {
        "colab": {
          "base_uri": "https://localhost:8080/"
        },
        "id": "2RntKIm_rBAi",
        "outputId": "fb913335-1655-44f1-e110-643a2f0049b4"
      },
      "execution_count": 61,
      "outputs": [
        {
          "output_type": "stream",
          "name": "stderr",
          "text": [
            "Llama.generate: prefix-match hit\n",
            "Llama.generate: prefix-match hit\n",
            "Llama.generate: prefix-match hit\n"
          ]
        },
        {
          "output_type": "stream",
          "name": "stdout",
          "text": [
            " Based on the context provided, the answer is well-supported. The text discusses various aspects of brain injuries, including symptoms, evaluation by rehabilitation specialists, and recommended treatments. The answer summarizes these points accurately and provides a comprehensive list of recommended treatments, which includes physical and occupational therapy as well as supportive care to prevent complications.\n",
            "\n",
            " Based on the user's question about treatments for a person with a brain injury resulting in temporary or permanent impairment of brain function, the answer is highly relevant. The answer explains that rehabilitation through physical, occupational, and speech therapy is recommended to help patients regain functional abilities and meet their social and emotional needs. Early intervention by rehabilitation specialists is crucial for maximal recovery. Additionally, supportive care is essential to prevent complications. There is no specific medical treatment mentioned in the context provided, which aligns with the user's question. The answer also mentions brain imaging for diagnosis and characterization of central lesions, which may be relevant depending on the specific circumstances of the injury. Overall, the answer provides a comprehensive overview of the recommended treatments for a person with a brain injury based on the context provided.\n"
          ]
        }
      ]
    },
    {
      "cell_type": "markdown",
      "source": [
        "**Observations:**"
      ],
      "metadata": {
        "id": "Fm99sSd2mAy1"
      }
    },
    {
      "cell_type": "markdown",
      "source": [
        "Query 5: What are the necessary precautions and treatment steps for a person who has fractured their leg during a hiking trip, and what should be considered for their care and recovery?"
      ],
      "metadata": {
        "id": "-BEfo8B-rBk2"
      }
    },
    {
      "cell_type": "code",
      "source": [
        "ground,rel = generate_ground_relevance_response(user_input=\"What are the necessary precautions and treatment steps for a person who has fractured their leg during a hiking trip, and what should be considered for their care and recovery?\",max_tokens=370, k=3) #Complete the code to pass the query #5 along with parameters if needed\n",
        "\n",
        "print(ground,end=\"\\n\\n\")\n",
        "print(rel)"
      ],
      "metadata": {
        "colab": {
          "base_uri": "https://localhost:8080/"
        },
        "id": "IwRETzl_rCAZ",
        "outputId": "9f93f5e7-9a14-46e0-d6b9-90b84283e30e"
      },
      "execution_count": 62,
      "outputs": [
        {
          "output_type": "stream",
          "name": "stderr",
          "text": [
            "Llama.generate: prefix-match hit\n",
            "Llama.generate: prefix-match hit\n",
            "Llama.generate: prefix-match hit\n"
          ]
        },
        {
          "output_type": "stream",
          "name": "stdout",
          "text": [
            " The answer is well-supported by the context provided in the text. The context discusses various precautions and treatments for injuries sustained during hiking, including fractures. The answer covers the necessary steps for a person with a fractured leg, such as immobilization using a splint, RICE (rest, ice, compression, elevation), pain management, definitive treatment (reduction), and rehabilitation. The context also mentions the importance of evaluating for life-threatening injuries or hemorrhagic shock in the initial stage, which is addressed in the answer as well. Overall, the answer accurately summarizes the information presented in the context.\n",
            "\n",
            " The answer provided is highly relevant to the user's question as it covers the necessary precautions and treatment steps for a person who has fractured their leg during a hiking trip. It addresses the importance of evaluating for life-threatening injuries, immobilizing the affected limb using a splint or cast, applying RICE (rest, ice, compression, elevation), managing pain with opioids, undergoing definitive treatment such as reduction, and starting rehabilitation as soon as possible. The answer also mentions the potential complication of infection in open injuries.\n"
          ]
        }
      ]
    },
    {
      "cell_type": "markdown",
      "source": [
        "**Observation:**\n",
        "The answer is well-aligned with the context, offering a clear and comprehensive overview of how to manage a leg fracture during a hiking incident. It accurately emphasizes early assessment for life-threatening conditions like hemorrhagic shock, the importance of immobilization, and the use of RICE for symptom control. Pain management, definitive care such as fracture reduction, and early rehabilitation are also correctly noted. Additionally, the mention of infection risk in open fractures adds further clinical relevance, making the response both thorough and directly applicable to the user's question."
      ],
      "metadata": {
        "id": "oYtXm4UHmB2G"
      }
    },
    {
      "cell_type": "markdown",
      "metadata": {
        "id": "Y7QICRU-njdj"
      },
      "source": [
        "## Actionable Insights and Business Recommendations"
      ]
    },
    {
      "cell_type": "markdown",
      "source": [
        "The analysis of medical conditions such as sepsis, appendicitis, alopecia areata, traumatic brain injury, and leg fractures reveals a recurring need for timely intervention, comprehensive care protocols, and multidisciplinary treatment approaches. For healthcare providers, this underscores the importance of investing in clinical decision support systems and training programs that facilitate early recognition and management of these conditions. Actionable insights point to the value of streamlined protocols, such as sepsis bundles and trauma checklists, which improve patient outcomes and reduce the length of hospital stays. Additionally, conditions like alopecia areata demonstrate a growing demand for personalized treatment plans, requiring providers to stay up-to-date with evolving dermatological therapies and autoimmune research.\n",
        "\n",
        "From a business perspective, hospitals and clinics should prioritize investments in integrated care models that emphasize prevention, early diagnosis, and coordinated rehabilitation services. Developing specialized care units—for example, rapid response teams for sepsis or TBI rehabilitation centers—can enhance reputation, patient satisfaction, and clinical outcomes. Technology integration, such as AI-assisted diagnostic tools and electronic health record alerts for symptom clusters, can further streamline care delivery. Healthcare administrators are also encouraged to collaborate with pharmaceutical and medical device companies to ensure access to the latest treatments, while simultaneously educating patients to increase awareness and engagement in their own care pathways.\n"
      ],
      "metadata": {
        "id": "lxo0w2-Lr5Mz"
      }
    },
    {
      "cell_type": "markdown",
      "metadata": {
        "id": "ybRlzaIhWaM9"
      },
      "source": [
        "<font size=6 color='blue'>Power Ahead</font>\n",
        "___"
      ]
    }
  ],
  "metadata": {
    "accelerator": "GPU",
    "colab": {
      "collapsed_sections": [
        "3CNz35ia6Bz3",
        "CkRbhMJH6Bz3",
        "CARPKFwm6Bz4",
        "by9EvAnkSpZf",
        "lnwETBOE6Bz5",
        "TtZWqj0wFTS1",
        "Uq1lhM4WFTS2",
        "EzzkvIXvFTS4",
        "K8YgK91SFjVY",
        "J6yxICeVFjVc",
        "oflaoOGiFjVd",
        "WUUqY4FbFjVe",
        "5laPFTHrFjVf",
        "g5myZ5dOOefc",
        "9Jg3r_LWOeff",
        "iYpyw4HjOeff",
        "dRp92JQZOeff",
        "AA45zwyUOefg",
        "TYXxiSuBOefg",
        "t_O1PGdNO2M9",
        "uTpWESc53dL9",
        "ffj0ca3eZT4u",
        "f9weTDzMxRRS",
        "7-wNNalNxPKT",
        "LECMxTH-zB-R",
        "BvHVejcWz0Bl",
        "qiKCOv4X0d7B",
        "uEa5sKc41T1z",
        "vw8qcwq66B0C",
        "TkIteX4m6mny",
        "ffP1SRYbPQHN",
        "JjajBEj06B0E",
        "QDw8zXuq6B0F",
        "TggYyQPL6B0G",
        "1TgxdI-_6B0G",
        "FlHXYCkm6B0H",
        "K7TYrqycEITB",
        "Y7QICRU-njdj"
      ],
      "gpuType": "T4",
      "provenance": [],
      "machine_shape": "hm",
      "include_colab_link": true
    },
    "kernel_info": {
      "name": "python310-sdkv2"
    },
    "kernelspec": {
      "display_name": "Python 3",
      "name": "python3"
    },
    "language_info": {
      "name": "python"
    },
    "microsoft": {
      "host": {
        "AzureML": {
          "notebookHasBeenCompleted": true
        }
      },
      "ms_spell_check": {
        "ms_spell_check_language": "en"
      }
    },
    "nteract": {
      "version": "nteract-front-end@1.0.0"
    },
    "widgets": {
      "application/vnd.jupyter.widget-state+json": {
        "b63a25e3ecbf41259a21cbede9069b77": {
          "model_module": "@jupyter-widgets/controls",
          "model_name": "HBoxModel",
          "model_module_version": "1.5.0",
          "state": {
            "_dom_classes": [],
            "_model_module": "@jupyter-widgets/controls",
            "_model_module_version": "1.5.0",
            "_model_name": "HBoxModel",
            "_view_count": null,
            "_view_module": "@jupyter-widgets/controls",
            "_view_module_version": "1.5.0",
            "_view_name": "HBoxView",
            "box_style": "",
            "children": [
              "IPY_MODEL_55db420f83ae48e3a764693e106d02ce",
              "IPY_MODEL_52e683ad01c84584babcc8ffa0d3c8b7",
              "IPY_MODEL_3a8bce21711c4a41b85a8f928f20de13"
            ],
            "layout": "IPY_MODEL_f3070404dec34904bdf0552c32cc9650"
          }
        },
        "55db420f83ae48e3a764693e106d02ce": {
          "model_module": "@jupyter-widgets/controls",
          "model_name": "HTMLModel",
          "model_module_version": "1.5.0",
          "state": {
            "_dom_classes": [],
            "_model_module": "@jupyter-widgets/controls",
            "_model_module_version": "1.5.0",
            "_model_name": "HTMLModel",
            "_view_count": null,
            "_view_module": "@jupyter-widgets/controls",
            "_view_module_version": "1.5.0",
            "_view_name": "HTMLView",
            "description": "",
            "description_tooltip": null,
            "layout": "IPY_MODEL_b1c621254066478a8a2265d3bff1215f",
            "placeholder": "​",
            "style": "IPY_MODEL_94dd0d887088416dae9b5000cdac3bb6",
            "value": "mistral-7b-instruct-v0.2.Q6_K.gguf: 100%"
          }
        },
        "52e683ad01c84584babcc8ffa0d3c8b7": {
          "model_module": "@jupyter-widgets/controls",
          "model_name": "FloatProgressModel",
          "model_module_version": "1.5.0",
          "state": {
            "_dom_classes": [],
            "_model_module": "@jupyter-widgets/controls",
            "_model_module_version": "1.5.0",
            "_model_name": "FloatProgressModel",
            "_view_count": null,
            "_view_module": "@jupyter-widgets/controls",
            "_view_module_version": "1.5.0",
            "_view_name": "ProgressView",
            "bar_style": "success",
            "description": "",
            "description_tooltip": null,
            "layout": "IPY_MODEL_14d3067c54fb432da4c56e1efac5f0ee",
            "max": 5942065440,
            "min": 0,
            "orientation": "horizontal",
            "style": "IPY_MODEL_5ef42dbed66f49ec9b4ae8c0aced99b1",
            "value": 5942065440
          }
        },
        "3a8bce21711c4a41b85a8f928f20de13": {
          "model_module": "@jupyter-widgets/controls",
          "model_name": "HTMLModel",
          "model_module_version": "1.5.0",
          "state": {
            "_dom_classes": [],
            "_model_module": "@jupyter-widgets/controls",
            "_model_module_version": "1.5.0",
            "_model_name": "HTMLModel",
            "_view_count": null,
            "_view_module": "@jupyter-widgets/controls",
            "_view_module_version": "1.5.0",
            "_view_name": "HTMLView",
            "description": "",
            "description_tooltip": null,
            "layout": "IPY_MODEL_97452dc505b24786b3446f9854ccb604",
            "placeholder": "​",
            "style": "IPY_MODEL_a2813e4e4476490c9c1e4f66a87c594e",
            "value": " 5.94G/5.94G [00:15&lt;00:00, 447MB/s]"
          }
        },
        "f3070404dec34904bdf0552c32cc9650": {
          "model_module": "@jupyter-widgets/base",
          "model_name": "LayoutModel",
          "model_module_version": "1.2.0",
          "state": {
            "_model_module": "@jupyter-widgets/base",
            "_model_module_version": "1.2.0",
            "_model_name": "LayoutModel",
            "_view_count": null,
            "_view_module": "@jupyter-widgets/base",
            "_view_module_version": "1.2.0",
            "_view_name": "LayoutView",
            "align_content": null,
            "align_items": null,
            "align_self": null,
            "border": null,
            "bottom": null,
            "display": null,
            "flex": null,
            "flex_flow": null,
            "grid_area": null,
            "grid_auto_columns": null,
            "grid_auto_flow": null,
            "grid_auto_rows": null,
            "grid_column": null,
            "grid_gap": null,
            "grid_row": null,
            "grid_template_areas": null,
            "grid_template_columns": null,
            "grid_template_rows": null,
            "height": null,
            "justify_content": null,
            "justify_items": null,
            "left": null,
            "margin": null,
            "max_height": null,
            "max_width": null,
            "min_height": null,
            "min_width": null,
            "object_fit": null,
            "object_position": null,
            "order": null,
            "overflow": null,
            "overflow_x": null,
            "overflow_y": null,
            "padding": null,
            "right": null,
            "top": null,
            "visibility": null,
            "width": null
          }
        },
        "b1c621254066478a8a2265d3bff1215f": {
          "model_module": "@jupyter-widgets/base",
          "model_name": "LayoutModel",
          "model_module_version": "1.2.0",
          "state": {
            "_model_module": "@jupyter-widgets/base",
            "_model_module_version": "1.2.0",
            "_model_name": "LayoutModel",
            "_view_count": null,
            "_view_module": "@jupyter-widgets/base",
            "_view_module_version": "1.2.0",
            "_view_name": "LayoutView",
            "align_content": null,
            "align_items": null,
            "align_self": null,
            "border": null,
            "bottom": null,
            "display": null,
            "flex": null,
            "flex_flow": null,
            "grid_area": null,
            "grid_auto_columns": null,
            "grid_auto_flow": null,
            "grid_auto_rows": null,
            "grid_column": null,
            "grid_gap": null,
            "grid_row": null,
            "grid_template_areas": null,
            "grid_template_columns": null,
            "grid_template_rows": null,
            "height": null,
            "justify_content": null,
            "justify_items": null,
            "left": null,
            "margin": null,
            "max_height": null,
            "max_width": null,
            "min_height": null,
            "min_width": null,
            "object_fit": null,
            "object_position": null,
            "order": null,
            "overflow": null,
            "overflow_x": null,
            "overflow_y": null,
            "padding": null,
            "right": null,
            "top": null,
            "visibility": null,
            "width": null
          }
        },
        "94dd0d887088416dae9b5000cdac3bb6": {
          "model_module": "@jupyter-widgets/controls",
          "model_name": "DescriptionStyleModel",
          "model_module_version": "1.5.0",
          "state": {
            "_model_module": "@jupyter-widgets/controls",
            "_model_module_version": "1.5.0",
            "_model_name": "DescriptionStyleModel",
            "_view_count": null,
            "_view_module": "@jupyter-widgets/base",
            "_view_module_version": "1.2.0",
            "_view_name": "StyleView",
            "description_width": ""
          }
        },
        "14d3067c54fb432da4c56e1efac5f0ee": {
          "model_module": "@jupyter-widgets/base",
          "model_name": "LayoutModel",
          "model_module_version": "1.2.0",
          "state": {
            "_model_module": "@jupyter-widgets/base",
            "_model_module_version": "1.2.0",
            "_model_name": "LayoutModel",
            "_view_count": null,
            "_view_module": "@jupyter-widgets/base",
            "_view_module_version": "1.2.0",
            "_view_name": "LayoutView",
            "align_content": null,
            "align_items": null,
            "align_self": null,
            "border": null,
            "bottom": null,
            "display": null,
            "flex": null,
            "flex_flow": null,
            "grid_area": null,
            "grid_auto_columns": null,
            "grid_auto_flow": null,
            "grid_auto_rows": null,
            "grid_column": null,
            "grid_gap": null,
            "grid_row": null,
            "grid_template_areas": null,
            "grid_template_columns": null,
            "grid_template_rows": null,
            "height": null,
            "justify_content": null,
            "justify_items": null,
            "left": null,
            "margin": null,
            "max_height": null,
            "max_width": null,
            "min_height": null,
            "min_width": null,
            "object_fit": null,
            "object_position": null,
            "order": null,
            "overflow": null,
            "overflow_x": null,
            "overflow_y": null,
            "padding": null,
            "right": null,
            "top": null,
            "visibility": null,
            "width": null
          }
        },
        "5ef42dbed66f49ec9b4ae8c0aced99b1": {
          "model_module": "@jupyter-widgets/controls",
          "model_name": "ProgressStyleModel",
          "model_module_version": "1.5.0",
          "state": {
            "_model_module": "@jupyter-widgets/controls",
            "_model_module_version": "1.5.0",
            "_model_name": "ProgressStyleModel",
            "_view_count": null,
            "_view_module": "@jupyter-widgets/base",
            "_view_module_version": "1.2.0",
            "_view_name": "StyleView",
            "bar_color": null,
            "description_width": ""
          }
        },
        "97452dc505b24786b3446f9854ccb604": {
          "model_module": "@jupyter-widgets/base",
          "model_name": "LayoutModel",
          "model_module_version": "1.2.0",
          "state": {
            "_model_module": "@jupyter-widgets/base",
            "_model_module_version": "1.2.0",
            "_model_name": "LayoutModel",
            "_view_count": null,
            "_view_module": "@jupyter-widgets/base",
            "_view_module_version": "1.2.0",
            "_view_name": "LayoutView",
            "align_content": null,
            "align_items": null,
            "align_self": null,
            "border": null,
            "bottom": null,
            "display": null,
            "flex": null,
            "flex_flow": null,
            "grid_area": null,
            "grid_auto_columns": null,
            "grid_auto_flow": null,
            "grid_auto_rows": null,
            "grid_column": null,
            "grid_gap": null,
            "grid_row": null,
            "grid_template_areas": null,
            "grid_template_columns": null,
            "grid_template_rows": null,
            "height": null,
            "justify_content": null,
            "justify_items": null,
            "left": null,
            "margin": null,
            "max_height": null,
            "max_width": null,
            "min_height": null,
            "min_width": null,
            "object_fit": null,
            "object_position": null,
            "order": null,
            "overflow": null,
            "overflow_x": null,
            "overflow_y": null,
            "padding": null,
            "right": null,
            "top": null,
            "visibility": null,
            "width": null
          }
        },
        "a2813e4e4476490c9c1e4f66a87c594e": {
          "model_module": "@jupyter-widgets/controls",
          "model_name": "DescriptionStyleModel",
          "model_module_version": "1.5.0",
          "state": {
            "_model_module": "@jupyter-widgets/controls",
            "_model_module_version": "1.5.0",
            "_model_name": "DescriptionStyleModel",
            "_view_count": null,
            "_view_module": "@jupyter-widgets/base",
            "_view_module_version": "1.2.0",
            "_view_name": "StyleView",
            "description_width": ""
          }
        },
        "d9d519bedb4742219cb86e924ed92680": {
          "model_module": "@jupyter-widgets/controls",
          "model_name": "HBoxModel",
          "model_module_version": "1.5.0",
          "state": {
            "_dom_classes": [],
            "_model_module": "@jupyter-widgets/controls",
            "_model_module_version": "1.5.0",
            "_model_name": "HBoxModel",
            "_view_count": null,
            "_view_module": "@jupyter-widgets/controls",
            "_view_module_version": "1.5.0",
            "_view_name": "HBoxView",
            "box_style": "",
            "children": [
              "IPY_MODEL_e7100a2dd6bc458492fb272f9eeb3b6a",
              "IPY_MODEL_e79b5b4bee484739b173ed2735b12669",
              "IPY_MODEL_2ba79e60c4d145d1af9ad7c001f64014"
            ],
            "layout": "IPY_MODEL_1e1c686ee144426590b88e7869dac2e7"
          }
        },
        "e7100a2dd6bc458492fb272f9eeb3b6a": {
          "model_module": "@jupyter-widgets/controls",
          "model_name": "HTMLModel",
          "model_module_version": "1.5.0",
          "state": {
            "_dom_classes": [],
            "_model_module": "@jupyter-widgets/controls",
            "_model_module_version": "1.5.0",
            "_model_name": "HTMLModel",
            "_view_count": null,
            "_view_module": "@jupyter-widgets/controls",
            "_view_module_version": "1.5.0",
            "_view_name": "HTMLView",
            "description": "",
            "description_tooltip": null,
            "layout": "IPY_MODEL_d293b6d63f144a02aab47c21baefa933",
            "placeholder": "​",
            "style": "IPY_MODEL_6b43a12382b142978689dbb22f149b10",
            "value": "modules.json: 100%"
          }
        },
        "e79b5b4bee484739b173ed2735b12669": {
          "model_module": "@jupyter-widgets/controls",
          "model_name": "FloatProgressModel",
          "model_module_version": "1.5.0",
          "state": {
            "_dom_classes": [],
            "_model_module": "@jupyter-widgets/controls",
            "_model_module_version": "1.5.0",
            "_model_name": "FloatProgressModel",
            "_view_count": null,
            "_view_module": "@jupyter-widgets/controls",
            "_view_module_version": "1.5.0",
            "_view_name": "ProgressView",
            "bar_style": "success",
            "description": "",
            "description_tooltip": null,
            "layout": "IPY_MODEL_aec4e3692a5542828099f6517db2a589",
            "max": 349,
            "min": 0,
            "orientation": "horizontal",
            "style": "IPY_MODEL_200662c294b34f03b1764806254cb314",
            "value": 349
          }
        },
        "2ba79e60c4d145d1af9ad7c001f64014": {
          "model_module": "@jupyter-widgets/controls",
          "model_name": "HTMLModel",
          "model_module_version": "1.5.0",
          "state": {
            "_dom_classes": [],
            "_model_module": "@jupyter-widgets/controls",
            "_model_module_version": "1.5.0",
            "_model_name": "HTMLModel",
            "_view_count": null,
            "_view_module": "@jupyter-widgets/controls",
            "_view_module_version": "1.5.0",
            "_view_name": "HTMLView",
            "description": "",
            "description_tooltip": null,
            "layout": "IPY_MODEL_403c119a760342cebd4e1c95e1289f54",
            "placeholder": "​",
            "style": "IPY_MODEL_cc9b77e0cd484735800ddfac0a10d97f",
            "value": " 349/349 [00:00&lt;00:00, 43.6kB/s]"
          }
        },
        "1e1c686ee144426590b88e7869dac2e7": {
          "model_module": "@jupyter-widgets/base",
          "model_name": "LayoutModel",
          "model_module_version": "1.2.0",
          "state": {
            "_model_module": "@jupyter-widgets/base",
            "_model_module_version": "1.2.0",
            "_model_name": "LayoutModel",
            "_view_count": null,
            "_view_module": "@jupyter-widgets/base",
            "_view_module_version": "1.2.0",
            "_view_name": "LayoutView",
            "align_content": null,
            "align_items": null,
            "align_self": null,
            "border": null,
            "bottom": null,
            "display": null,
            "flex": null,
            "flex_flow": null,
            "grid_area": null,
            "grid_auto_columns": null,
            "grid_auto_flow": null,
            "grid_auto_rows": null,
            "grid_column": null,
            "grid_gap": null,
            "grid_row": null,
            "grid_template_areas": null,
            "grid_template_columns": null,
            "grid_template_rows": null,
            "height": null,
            "justify_content": null,
            "justify_items": null,
            "left": null,
            "margin": null,
            "max_height": null,
            "max_width": null,
            "min_height": null,
            "min_width": null,
            "object_fit": null,
            "object_position": null,
            "order": null,
            "overflow": null,
            "overflow_x": null,
            "overflow_y": null,
            "padding": null,
            "right": null,
            "top": null,
            "visibility": null,
            "width": null
          }
        },
        "d293b6d63f144a02aab47c21baefa933": {
          "model_module": "@jupyter-widgets/base",
          "model_name": "LayoutModel",
          "model_module_version": "1.2.0",
          "state": {
            "_model_module": "@jupyter-widgets/base",
            "_model_module_version": "1.2.0",
            "_model_name": "LayoutModel",
            "_view_count": null,
            "_view_module": "@jupyter-widgets/base",
            "_view_module_version": "1.2.0",
            "_view_name": "LayoutView",
            "align_content": null,
            "align_items": null,
            "align_self": null,
            "border": null,
            "bottom": null,
            "display": null,
            "flex": null,
            "flex_flow": null,
            "grid_area": null,
            "grid_auto_columns": null,
            "grid_auto_flow": null,
            "grid_auto_rows": null,
            "grid_column": null,
            "grid_gap": null,
            "grid_row": null,
            "grid_template_areas": null,
            "grid_template_columns": null,
            "grid_template_rows": null,
            "height": null,
            "justify_content": null,
            "justify_items": null,
            "left": null,
            "margin": null,
            "max_height": null,
            "max_width": null,
            "min_height": null,
            "min_width": null,
            "object_fit": null,
            "object_position": null,
            "order": null,
            "overflow": null,
            "overflow_x": null,
            "overflow_y": null,
            "padding": null,
            "right": null,
            "top": null,
            "visibility": null,
            "width": null
          }
        },
        "6b43a12382b142978689dbb22f149b10": {
          "model_module": "@jupyter-widgets/controls",
          "model_name": "DescriptionStyleModel",
          "model_module_version": "1.5.0",
          "state": {
            "_model_module": "@jupyter-widgets/controls",
            "_model_module_version": "1.5.0",
            "_model_name": "DescriptionStyleModel",
            "_view_count": null,
            "_view_module": "@jupyter-widgets/base",
            "_view_module_version": "1.2.0",
            "_view_name": "StyleView",
            "description_width": ""
          }
        },
        "aec4e3692a5542828099f6517db2a589": {
          "model_module": "@jupyter-widgets/base",
          "model_name": "LayoutModel",
          "model_module_version": "1.2.0",
          "state": {
            "_model_module": "@jupyter-widgets/base",
            "_model_module_version": "1.2.0",
            "_model_name": "LayoutModel",
            "_view_count": null,
            "_view_module": "@jupyter-widgets/base",
            "_view_module_version": "1.2.0",
            "_view_name": "LayoutView",
            "align_content": null,
            "align_items": null,
            "align_self": null,
            "border": null,
            "bottom": null,
            "display": null,
            "flex": null,
            "flex_flow": null,
            "grid_area": null,
            "grid_auto_columns": null,
            "grid_auto_flow": null,
            "grid_auto_rows": null,
            "grid_column": null,
            "grid_gap": null,
            "grid_row": null,
            "grid_template_areas": null,
            "grid_template_columns": null,
            "grid_template_rows": null,
            "height": null,
            "justify_content": null,
            "justify_items": null,
            "left": null,
            "margin": null,
            "max_height": null,
            "max_width": null,
            "min_height": null,
            "min_width": null,
            "object_fit": null,
            "object_position": null,
            "order": null,
            "overflow": null,
            "overflow_x": null,
            "overflow_y": null,
            "padding": null,
            "right": null,
            "top": null,
            "visibility": null,
            "width": null
          }
        },
        "200662c294b34f03b1764806254cb314": {
          "model_module": "@jupyter-widgets/controls",
          "model_name": "ProgressStyleModel",
          "model_module_version": "1.5.0",
          "state": {
            "_model_module": "@jupyter-widgets/controls",
            "_model_module_version": "1.5.0",
            "_model_name": "ProgressStyleModel",
            "_view_count": null,
            "_view_module": "@jupyter-widgets/base",
            "_view_module_version": "1.2.0",
            "_view_name": "StyleView",
            "bar_color": null,
            "description_width": ""
          }
        },
        "403c119a760342cebd4e1c95e1289f54": {
          "model_module": "@jupyter-widgets/base",
          "model_name": "LayoutModel",
          "model_module_version": "1.2.0",
          "state": {
            "_model_module": "@jupyter-widgets/base",
            "_model_module_version": "1.2.0",
            "_model_name": "LayoutModel",
            "_view_count": null,
            "_view_module": "@jupyter-widgets/base",
            "_view_module_version": "1.2.0",
            "_view_name": "LayoutView",
            "align_content": null,
            "align_items": null,
            "align_self": null,
            "border": null,
            "bottom": null,
            "display": null,
            "flex": null,
            "flex_flow": null,
            "grid_area": null,
            "grid_auto_columns": null,
            "grid_auto_flow": null,
            "grid_auto_rows": null,
            "grid_column": null,
            "grid_gap": null,
            "grid_row": null,
            "grid_template_areas": null,
            "grid_template_columns": null,
            "grid_template_rows": null,
            "height": null,
            "justify_content": null,
            "justify_items": null,
            "left": null,
            "margin": null,
            "max_height": null,
            "max_width": null,
            "min_height": null,
            "min_width": null,
            "object_fit": null,
            "object_position": null,
            "order": null,
            "overflow": null,
            "overflow_x": null,
            "overflow_y": null,
            "padding": null,
            "right": null,
            "top": null,
            "visibility": null,
            "width": null
          }
        },
        "cc9b77e0cd484735800ddfac0a10d97f": {
          "model_module": "@jupyter-widgets/controls",
          "model_name": "DescriptionStyleModel",
          "model_module_version": "1.5.0",
          "state": {
            "_model_module": "@jupyter-widgets/controls",
            "_model_module_version": "1.5.0",
            "_model_name": "DescriptionStyleModel",
            "_view_count": null,
            "_view_module": "@jupyter-widgets/base",
            "_view_module_version": "1.2.0",
            "_view_name": "StyleView",
            "description_width": ""
          }
        },
        "318da41c103e46a4ab10e421c747e3bc": {
          "model_module": "@jupyter-widgets/controls",
          "model_name": "HBoxModel",
          "model_module_version": "1.5.0",
          "state": {
            "_dom_classes": [],
            "_model_module": "@jupyter-widgets/controls",
            "_model_module_version": "1.5.0",
            "_model_name": "HBoxModel",
            "_view_count": null,
            "_view_module": "@jupyter-widgets/controls",
            "_view_module_version": "1.5.0",
            "_view_name": "HBoxView",
            "box_style": "",
            "children": [
              "IPY_MODEL_6786834744444ab788cb457195c88528",
              "IPY_MODEL_1914ebf56e3e4bb780b21885a68c9ace",
              "IPY_MODEL_b2e737b818c0490ebf31fbe9505b3e02"
            ],
            "layout": "IPY_MODEL_82a8947d165e426f9d3642b7e2e169aa"
          }
        },
        "6786834744444ab788cb457195c88528": {
          "model_module": "@jupyter-widgets/controls",
          "model_name": "HTMLModel",
          "model_module_version": "1.5.0",
          "state": {
            "_dom_classes": [],
            "_model_module": "@jupyter-widgets/controls",
            "_model_module_version": "1.5.0",
            "_model_name": "HTMLModel",
            "_view_count": null,
            "_view_module": "@jupyter-widgets/controls",
            "_view_module_version": "1.5.0",
            "_view_name": "HTMLView",
            "description": "",
            "description_tooltip": null,
            "layout": "IPY_MODEL_589584c64bce46069aa8998a54892cd7",
            "placeholder": "​",
            "style": "IPY_MODEL_63ba068292cb41e580beab723d63dc5e",
            "value": "config_sentence_transformers.json: 100%"
          }
        },
        "1914ebf56e3e4bb780b21885a68c9ace": {
          "model_module": "@jupyter-widgets/controls",
          "model_name": "FloatProgressModel",
          "model_module_version": "1.5.0",
          "state": {
            "_dom_classes": [],
            "_model_module": "@jupyter-widgets/controls",
            "_model_module_version": "1.5.0",
            "_model_name": "FloatProgressModel",
            "_view_count": null,
            "_view_module": "@jupyter-widgets/controls",
            "_view_module_version": "1.5.0",
            "_view_name": "ProgressView",
            "bar_style": "success",
            "description": "",
            "description_tooltip": null,
            "layout": "IPY_MODEL_cde13aa770214e8388339036488052e0",
            "max": 116,
            "min": 0,
            "orientation": "horizontal",
            "style": "IPY_MODEL_a799221b650d475eb8d80272bc21ac0a",
            "value": 116
          }
        },
        "b2e737b818c0490ebf31fbe9505b3e02": {
          "model_module": "@jupyter-widgets/controls",
          "model_name": "HTMLModel",
          "model_module_version": "1.5.0",
          "state": {
            "_dom_classes": [],
            "_model_module": "@jupyter-widgets/controls",
            "_model_module_version": "1.5.0",
            "_model_name": "HTMLModel",
            "_view_count": null,
            "_view_module": "@jupyter-widgets/controls",
            "_view_module_version": "1.5.0",
            "_view_name": "HTMLView",
            "description": "",
            "description_tooltip": null,
            "layout": "IPY_MODEL_15d2c645d2ba46e89215f659df7fa5d1",
            "placeholder": "​",
            "style": "IPY_MODEL_8cf71b3ed4134285b844f2cd6a7157e3",
            "value": " 116/116 [00:00&lt;00:00, 14.6kB/s]"
          }
        },
        "82a8947d165e426f9d3642b7e2e169aa": {
          "model_module": "@jupyter-widgets/base",
          "model_name": "LayoutModel",
          "model_module_version": "1.2.0",
          "state": {
            "_model_module": "@jupyter-widgets/base",
            "_model_module_version": "1.2.0",
            "_model_name": "LayoutModel",
            "_view_count": null,
            "_view_module": "@jupyter-widgets/base",
            "_view_module_version": "1.2.0",
            "_view_name": "LayoutView",
            "align_content": null,
            "align_items": null,
            "align_self": null,
            "border": null,
            "bottom": null,
            "display": null,
            "flex": null,
            "flex_flow": null,
            "grid_area": null,
            "grid_auto_columns": null,
            "grid_auto_flow": null,
            "grid_auto_rows": null,
            "grid_column": null,
            "grid_gap": null,
            "grid_row": null,
            "grid_template_areas": null,
            "grid_template_columns": null,
            "grid_template_rows": null,
            "height": null,
            "justify_content": null,
            "justify_items": null,
            "left": null,
            "margin": null,
            "max_height": null,
            "max_width": null,
            "min_height": null,
            "min_width": null,
            "object_fit": null,
            "object_position": null,
            "order": null,
            "overflow": null,
            "overflow_x": null,
            "overflow_y": null,
            "padding": null,
            "right": null,
            "top": null,
            "visibility": null,
            "width": null
          }
        },
        "589584c64bce46069aa8998a54892cd7": {
          "model_module": "@jupyter-widgets/base",
          "model_name": "LayoutModel",
          "model_module_version": "1.2.0",
          "state": {
            "_model_module": "@jupyter-widgets/base",
            "_model_module_version": "1.2.0",
            "_model_name": "LayoutModel",
            "_view_count": null,
            "_view_module": "@jupyter-widgets/base",
            "_view_module_version": "1.2.0",
            "_view_name": "LayoutView",
            "align_content": null,
            "align_items": null,
            "align_self": null,
            "border": null,
            "bottom": null,
            "display": null,
            "flex": null,
            "flex_flow": null,
            "grid_area": null,
            "grid_auto_columns": null,
            "grid_auto_flow": null,
            "grid_auto_rows": null,
            "grid_column": null,
            "grid_gap": null,
            "grid_row": null,
            "grid_template_areas": null,
            "grid_template_columns": null,
            "grid_template_rows": null,
            "height": null,
            "justify_content": null,
            "justify_items": null,
            "left": null,
            "margin": null,
            "max_height": null,
            "max_width": null,
            "min_height": null,
            "min_width": null,
            "object_fit": null,
            "object_position": null,
            "order": null,
            "overflow": null,
            "overflow_x": null,
            "overflow_y": null,
            "padding": null,
            "right": null,
            "top": null,
            "visibility": null,
            "width": null
          }
        },
        "63ba068292cb41e580beab723d63dc5e": {
          "model_module": "@jupyter-widgets/controls",
          "model_name": "DescriptionStyleModel",
          "model_module_version": "1.5.0",
          "state": {
            "_model_module": "@jupyter-widgets/controls",
            "_model_module_version": "1.5.0",
            "_model_name": "DescriptionStyleModel",
            "_view_count": null,
            "_view_module": "@jupyter-widgets/base",
            "_view_module_version": "1.2.0",
            "_view_name": "StyleView",
            "description_width": ""
          }
        },
        "cde13aa770214e8388339036488052e0": {
          "model_module": "@jupyter-widgets/base",
          "model_name": "LayoutModel",
          "model_module_version": "1.2.0",
          "state": {
            "_model_module": "@jupyter-widgets/base",
            "_model_module_version": "1.2.0",
            "_model_name": "LayoutModel",
            "_view_count": null,
            "_view_module": "@jupyter-widgets/base",
            "_view_module_version": "1.2.0",
            "_view_name": "LayoutView",
            "align_content": null,
            "align_items": null,
            "align_self": null,
            "border": null,
            "bottom": null,
            "display": null,
            "flex": null,
            "flex_flow": null,
            "grid_area": null,
            "grid_auto_columns": null,
            "grid_auto_flow": null,
            "grid_auto_rows": null,
            "grid_column": null,
            "grid_gap": null,
            "grid_row": null,
            "grid_template_areas": null,
            "grid_template_columns": null,
            "grid_template_rows": null,
            "height": null,
            "justify_content": null,
            "justify_items": null,
            "left": null,
            "margin": null,
            "max_height": null,
            "max_width": null,
            "min_height": null,
            "min_width": null,
            "object_fit": null,
            "object_position": null,
            "order": null,
            "overflow": null,
            "overflow_x": null,
            "overflow_y": null,
            "padding": null,
            "right": null,
            "top": null,
            "visibility": null,
            "width": null
          }
        },
        "a799221b650d475eb8d80272bc21ac0a": {
          "model_module": "@jupyter-widgets/controls",
          "model_name": "ProgressStyleModel",
          "model_module_version": "1.5.0",
          "state": {
            "_model_module": "@jupyter-widgets/controls",
            "_model_module_version": "1.5.0",
            "_model_name": "ProgressStyleModel",
            "_view_count": null,
            "_view_module": "@jupyter-widgets/base",
            "_view_module_version": "1.2.0",
            "_view_name": "StyleView",
            "bar_color": null,
            "description_width": ""
          }
        },
        "15d2c645d2ba46e89215f659df7fa5d1": {
          "model_module": "@jupyter-widgets/base",
          "model_name": "LayoutModel",
          "model_module_version": "1.2.0",
          "state": {
            "_model_module": "@jupyter-widgets/base",
            "_model_module_version": "1.2.0",
            "_model_name": "LayoutModel",
            "_view_count": null,
            "_view_module": "@jupyter-widgets/base",
            "_view_module_version": "1.2.0",
            "_view_name": "LayoutView",
            "align_content": null,
            "align_items": null,
            "align_self": null,
            "border": null,
            "bottom": null,
            "display": null,
            "flex": null,
            "flex_flow": null,
            "grid_area": null,
            "grid_auto_columns": null,
            "grid_auto_flow": null,
            "grid_auto_rows": null,
            "grid_column": null,
            "grid_gap": null,
            "grid_row": null,
            "grid_template_areas": null,
            "grid_template_columns": null,
            "grid_template_rows": null,
            "height": null,
            "justify_content": null,
            "justify_items": null,
            "left": null,
            "margin": null,
            "max_height": null,
            "max_width": null,
            "min_height": null,
            "min_width": null,
            "object_fit": null,
            "object_position": null,
            "order": null,
            "overflow": null,
            "overflow_x": null,
            "overflow_y": null,
            "padding": null,
            "right": null,
            "top": null,
            "visibility": null,
            "width": null
          }
        },
        "8cf71b3ed4134285b844f2cd6a7157e3": {
          "model_module": "@jupyter-widgets/controls",
          "model_name": "DescriptionStyleModel",
          "model_module_version": "1.5.0",
          "state": {
            "_model_module": "@jupyter-widgets/controls",
            "_model_module_version": "1.5.0",
            "_model_name": "DescriptionStyleModel",
            "_view_count": null,
            "_view_module": "@jupyter-widgets/base",
            "_view_module_version": "1.2.0",
            "_view_name": "StyleView",
            "description_width": ""
          }
        },
        "86eff91a46984c71aaa2ccc68ba7a6bb": {
          "model_module": "@jupyter-widgets/controls",
          "model_name": "HBoxModel",
          "model_module_version": "1.5.0",
          "state": {
            "_dom_classes": [],
            "_model_module": "@jupyter-widgets/controls",
            "_model_module_version": "1.5.0",
            "_model_name": "HBoxModel",
            "_view_count": null,
            "_view_module": "@jupyter-widgets/controls",
            "_view_module_version": "1.5.0",
            "_view_name": "HBoxView",
            "box_style": "",
            "children": [
              "IPY_MODEL_4aed8507def64a6880af587aaaf748bc",
              "IPY_MODEL_a321ac786d0d4128a6038e49e9a04827",
              "IPY_MODEL_a67c3b154691489980c1f695487f9324"
            ],
            "layout": "IPY_MODEL_9781b47ec97a49d0b09db27ef565f97a"
          }
        },
        "4aed8507def64a6880af587aaaf748bc": {
          "model_module": "@jupyter-widgets/controls",
          "model_name": "HTMLModel",
          "model_module_version": "1.5.0",
          "state": {
            "_dom_classes": [],
            "_model_module": "@jupyter-widgets/controls",
            "_model_module_version": "1.5.0",
            "_model_name": "HTMLModel",
            "_view_count": null,
            "_view_module": "@jupyter-widgets/controls",
            "_view_module_version": "1.5.0",
            "_view_name": "HTMLView",
            "description": "",
            "description_tooltip": null,
            "layout": "IPY_MODEL_e2af353bd9e648ed8e029c434771f0bc",
            "placeholder": "​",
            "style": "IPY_MODEL_0bcf990ed96944b491257712b26bd830",
            "value": "README.md: 100%"
          }
        },
        "a321ac786d0d4128a6038e49e9a04827": {
          "model_module": "@jupyter-widgets/controls",
          "model_name": "FloatProgressModel",
          "model_module_version": "1.5.0",
          "state": {
            "_dom_classes": [],
            "_model_module": "@jupyter-widgets/controls",
            "_model_module_version": "1.5.0",
            "_model_name": "FloatProgressModel",
            "_view_count": null,
            "_view_module": "@jupyter-widgets/controls",
            "_view_module_version": "1.5.0",
            "_view_name": "ProgressView",
            "bar_style": "success",
            "description": "",
            "description_tooltip": null,
            "layout": "IPY_MODEL_ca78f7ec6e5347e5ad2bb31413aeb729",
            "max": 10454,
            "min": 0,
            "orientation": "horizontal",
            "style": "IPY_MODEL_50ddb4f96e18491692d13c1527db4337",
            "value": 10454
          }
        },
        "a67c3b154691489980c1f695487f9324": {
          "model_module": "@jupyter-widgets/controls",
          "model_name": "HTMLModel",
          "model_module_version": "1.5.0",
          "state": {
            "_dom_classes": [],
            "_model_module": "@jupyter-widgets/controls",
            "_model_module_version": "1.5.0",
            "_model_name": "HTMLModel",
            "_view_count": null,
            "_view_module": "@jupyter-widgets/controls",
            "_view_module_version": "1.5.0",
            "_view_name": "HTMLView",
            "description": "",
            "description_tooltip": null,
            "layout": "IPY_MODEL_be4ec70a0a4740afb69ac9447acbc0cd",
            "placeholder": "​",
            "style": "IPY_MODEL_26a564b5bdfd4dfa96b259795cd743e4",
            "value": " 10.5k/10.5k [00:00&lt;00:00, 1.27MB/s]"
          }
        },
        "9781b47ec97a49d0b09db27ef565f97a": {
          "model_module": "@jupyter-widgets/base",
          "model_name": "LayoutModel",
          "model_module_version": "1.2.0",
          "state": {
            "_model_module": "@jupyter-widgets/base",
            "_model_module_version": "1.2.0",
            "_model_name": "LayoutModel",
            "_view_count": null,
            "_view_module": "@jupyter-widgets/base",
            "_view_module_version": "1.2.0",
            "_view_name": "LayoutView",
            "align_content": null,
            "align_items": null,
            "align_self": null,
            "border": null,
            "bottom": null,
            "display": null,
            "flex": null,
            "flex_flow": null,
            "grid_area": null,
            "grid_auto_columns": null,
            "grid_auto_flow": null,
            "grid_auto_rows": null,
            "grid_column": null,
            "grid_gap": null,
            "grid_row": null,
            "grid_template_areas": null,
            "grid_template_columns": null,
            "grid_template_rows": null,
            "height": null,
            "justify_content": null,
            "justify_items": null,
            "left": null,
            "margin": null,
            "max_height": null,
            "max_width": null,
            "min_height": null,
            "min_width": null,
            "object_fit": null,
            "object_position": null,
            "order": null,
            "overflow": null,
            "overflow_x": null,
            "overflow_y": null,
            "padding": null,
            "right": null,
            "top": null,
            "visibility": null,
            "width": null
          }
        },
        "e2af353bd9e648ed8e029c434771f0bc": {
          "model_module": "@jupyter-widgets/base",
          "model_name": "LayoutModel",
          "model_module_version": "1.2.0",
          "state": {
            "_model_module": "@jupyter-widgets/base",
            "_model_module_version": "1.2.0",
            "_model_name": "LayoutModel",
            "_view_count": null,
            "_view_module": "@jupyter-widgets/base",
            "_view_module_version": "1.2.0",
            "_view_name": "LayoutView",
            "align_content": null,
            "align_items": null,
            "align_self": null,
            "border": null,
            "bottom": null,
            "display": null,
            "flex": null,
            "flex_flow": null,
            "grid_area": null,
            "grid_auto_columns": null,
            "grid_auto_flow": null,
            "grid_auto_rows": null,
            "grid_column": null,
            "grid_gap": null,
            "grid_row": null,
            "grid_template_areas": null,
            "grid_template_columns": null,
            "grid_template_rows": null,
            "height": null,
            "justify_content": null,
            "justify_items": null,
            "left": null,
            "margin": null,
            "max_height": null,
            "max_width": null,
            "min_height": null,
            "min_width": null,
            "object_fit": null,
            "object_position": null,
            "order": null,
            "overflow": null,
            "overflow_x": null,
            "overflow_y": null,
            "padding": null,
            "right": null,
            "top": null,
            "visibility": null,
            "width": null
          }
        },
        "0bcf990ed96944b491257712b26bd830": {
          "model_module": "@jupyter-widgets/controls",
          "model_name": "DescriptionStyleModel",
          "model_module_version": "1.5.0",
          "state": {
            "_model_module": "@jupyter-widgets/controls",
            "_model_module_version": "1.5.0",
            "_model_name": "DescriptionStyleModel",
            "_view_count": null,
            "_view_module": "@jupyter-widgets/base",
            "_view_module_version": "1.2.0",
            "_view_name": "StyleView",
            "description_width": ""
          }
        },
        "ca78f7ec6e5347e5ad2bb31413aeb729": {
          "model_module": "@jupyter-widgets/base",
          "model_name": "LayoutModel",
          "model_module_version": "1.2.0",
          "state": {
            "_model_module": "@jupyter-widgets/base",
            "_model_module_version": "1.2.0",
            "_model_name": "LayoutModel",
            "_view_count": null,
            "_view_module": "@jupyter-widgets/base",
            "_view_module_version": "1.2.0",
            "_view_name": "LayoutView",
            "align_content": null,
            "align_items": null,
            "align_self": null,
            "border": null,
            "bottom": null,
            "display": null,
            "flex": null,
            "flex_flow": null,
            "grid_area": null,
            "grid_auto_columns": null,
            "grid_auto_flow": null,
            "grid_auto_rows": null,
            "grid_column": null,
            "grid_gap": null,
            "grid_row": null,
            "grid_template_areas": null,
            "grid_template_columns": null,
            "grid_template_rows": null,
            "height": null,
            "justify_content": null,
            "justify_items": null,
            "left": null,
            "margin": null,
            "max_height": null,
            "max_width": null,
            "min_height": null,
            "min_width": null,
            "object_fit": null,
            "object_position": null,
            "order": null,
            "overflow": null,
            "overflow_x": null,
            "overflow_y": null,
            "padding": null,
            "right": null,
            "top": null,
            "visibility": null,
            "width": null
          }
        },
        "50ddb4f96e18491692d13c1527db4337": {
          "model_module": "@jupyter-widgets/controls",
          "model_name": "ProgressStyleModel",
          "model_module_version": "1.5.0",
          "state": {
            "_model_module": "@jupyter-widgets/controls",
            "_model_module_version": "1.5.0",
            "_model_name": "ProgressStyleModel",
            "_view_count": null,
            "_view_module": "@jupyter-widgets/base",
            "_view_module_version": "1.2.0",
            "_view_name": "StyleView",
            "bar_color": null,
            "description_width": ""
          }
        },
        "be4ec70a0a4740afb69ac9447acbc0cd": {
          "model_module": "@jupyter-widgets/base",
          "model_name": "LayoutModel",
          "model_module_version": "1.2.0",
          "state": {
            "_model_module": "@jupyter-widgets/base",
            "_model_module_version": "1.2.0",
            "_model_name": "LayoutModel",
            "_view_count": null,
            "_view_module": "@jupyter-widgets/base",
            "_view_module_version": "1.2.0",
            "_view_name": "LayoutView",
            "align_content": null,
            "align_items": null,
            "align_self": null,
            "border": null,
            "bottom": null,
            "display": null,
            "flex": null,
            "flex_flow": null,
            "grid_area": null,
            "grid_auto_columns": null,
            "grid_auto_flow": null,
            "grid_auto_rows": null,
            "grid_column": null,
            "grid_gap": null,
            "grid_row": null,
            "grid_template_areas": null,
            "grid_template_columns": null,
            "grid_template_rows": null,
            "height": null,
            "justify_content": null,
            "justify_items": null,
            "left": null,
            "margin": null,
            "max_height": null,
            "max_width": null,
            "min_height": null,
            "min_width": null,
            "object_fit": null,
            "object_position": null,
            "order": null,
            "overflow": null,
            "overflow_x": null,
            "overflow_y": null,
            "padding": null,
            "right": null,
            "top": null,
            "visibility": null,
            "width": null
          }
        },
        "26a564b5bdfd4dfa96b259795cd743e4": {
          "model_module": "@jupyter-widgets/controls",
          "model_name": "DescriptionStyleModel",
          "model_module_version": "1.5.0",
          "state": {
            "_model_module": "@jupyter-widgets/controls",
            "_model_module_version": "1.5.0",
            "_model_name": "DescriptionStyleModel",
            "_view_count": null,
            "_view_module": "@jupyter-widgets/base",
            "_view_module_version": "1.2.0",
            "_view_name": "StyleView",
            "description_width": ""
          }
        },
        "b04d9abb833e448a9a52756f8e3b3b8d": {
          "model_module": "@jupyter-widgets/controls",
          "model_name": "HBoxModel",
          "model_module_version": "1.5.0",
          "state": {
            "_dom_classes": [],
            "_model_module": "@jupyter-widgets/controls",
            "_model_module_version": "1.5.0",
            "_model_name": "HBoxModel",
            "_view_count": null,
            "_view_module": "@jupyter-widgets/controls",
            "_view_module_version": "1.5.0",
            "_view_name": "HBoxView",
            "box_style": "",
            "children": [
              "IPY_MODEL_133d8745f76e49dfa989243663efa9cc",
              "IPY_MODEL_cff7f712b7f44608b29044edd7527309",
              "IPY_MODEL_0643d13c5a2145c8a079225763ffdff1"
            ],
            "layout": "IPY_MODEL_603b680602f9421aa125b8ca2483e375"
          }
        },
        "133d8745f76e49dfa989243663efa9cc": {
          "model_module": "@jupyter-widgets/controls",
          "model_name": "HTMLModel",
          "model_module_version": "1.5.0",
          "state": {
            "_dom_classes": [],
            "_model_module": "@jupyter-widgets/controls",
            "_model_module_version": "1.5.0",
            "_model_name": "HTMLModel",
            "_view_count": null,
            "_view_module": "@jupyter-widgets/controls",
            "_view_module_version": "1.5.0",
            "_view_name": "HTMLView",
            "description": "",
            "description_tooltip": null,
            "layout": "IPY_MODEL_c54320fce77641b8a061f42a61f92ccb",
            "placeholder": "​",
            "style": "IPY_MODEL_2b8e9bd4964247aa9da32f8afcaca267",
            "value": "sentence_bert_config.json: 100%"
          }
        },
        "cff7f712b7f44608b29044edd7527309": {
          "model_module": "@jupyter-widgets/controls",
          "model_name": "FloatProgressModel",
          "model_module_version": "1.5.0",
          "state": {
            "_dom_classes": [],
            "_model_module": "@jupyter-widgets/controls",
            "_model_module_version": "1.5.0",
            "_model_name": "FloatProgressModel",
            "_view_count": null,
            "_view_module": "@jupyter-widgets/controls",
            "_view_module_version": "1.5.0",
            "_view_name": "ProgressView",
            "bar_style": "success",
            "description": "",
            "description_tooltip": null,
            "layout": "IPY_MODEL_fad33e0f3072464080af1af586f455f7",
            "max": 53,
            "min": 0,
            "orientation": "horizontal",
            "style": "IPY_MODEL_b100dccbc9414ae0a3cd0f51db5412cd",
            "value": 53
          }
        },
        "0643d13c5a2145c8a079225763ffdff1": {
          "model_module": "@jupyter-widgets/controls",
          "model_name": "HTMLModel",
          "model_module_version": "1.5.0",
          "state": {
            "_dom_classes": [],
            "_model_module": "@jupyter-widgets/controls",
            "_model_module_version": "1.5.0",
            "_model_name": "HTMLModel",
            "_view_count": null,
            "_view_module": "@jupyter-widgets/controls",
            "_view_module_version": "1.5.0",
            "_view_name": "HTMLView",
            "description": "",
            "description_tooltip": null,
            "layout": "IPY_MODEL_6107e08e3526453f99aedb99fd139e72",
            "placeholder": "​",
            "style": "IPY_MODEL_cf886b4104654fdf84de3c0068e22ca1",
            "value": " 53.0/53.0 [00:00&lt;00:00, 7.03kB/s]"
          }
        },
        "603b680602f9421aa125b8ca2483e375": {
          "model_module": "@jupyter-widgets/base",
          "model_name": "LayoutModel",
          "model_module_version": "1.2.0",
          "state": {
            "_model_module": "@jupyter-widgets/base",
            "_model_module_version": "1.2.0",
            "_model_name": "LayoutModel",
            "_view_count": null,
            "_view_module": "@jupyter-widgets/base",
            "_view_module_version": "1.2.0",
            "_view_name": "LayoutView",
            "align_content": null,
            "align_items": null,
            "align_self": null,
            "border": null,
            "bottom": null,
            "display": null,
            "flex": null,
            "flex_flow": null,
            "grid_area": null,
            "grid_auto_columns": null,
            "grid_auto_flow": null,
            "grid_auto_rows": null,
            "grid_column": null,
            "grid_gap": null,
            "grid_row": null,
            "grid_template_areas": null,
            "grid_template_columns": null,
            "grid_template_rows": null,
            "height": null,
            "justify_content": null,
            "justify_items": null,
            "left": null,
            "margin": null,
            "max_height": null,
            "max_width": null,
            "min_height": null,
            "min_width": null,
            "object_fit": null,
            "object_position": null,
            "order": null,
            "overflow": null,
            "overflow_x": null,
            "overflow_y": null,
            "padding": null,
            "right": null,
            "top": null,
            "visibility": null,
            "width": null
          }
        },
        "c54320fce77641b8a061f42a61f92ccb": {
          "model_module": "@jupyter-widgets/base",
          "model_name": "LayoutModel",
          "model_module_version": "1.2.0",
          "state": {
            "_model_module": "@jupyter-widgets/base",
            "_model_module_version": "1.2.0",
            "_model_name": "LayoutModel",
            "_view_count": null,
            "_view_module": "@jupyter-widgets/base",
            "_view_module_version": "1.2.0",
            "_view_name": "LayoutView",
            "align_content": null,
            "align_items": null,
            "align_self": null,
            "border": null,
            "bottom": null,
            "display": null,
            "flex": null,
            "flex_flow": null,
            "grid_area": null,
            "grid_auto_columns": null,
            "grid_auto_flow": null,
            "grid_auto_rows": null,
            "grid_column": null,
            "grid_gap": null,
            "grid_row": null,
            "grid_template_areas": null,
            "grid_template_columns": null,
            "grid_template_rows": null,
            "height": null,
            "justify_content": null,
            "justify_items": null,
            "left": null,
            "margin": null,
            "max_height": null,
            "max_width": null,
            "min_height": null,
            "min_width": null,
            "object_fit": null,
            "object_position": null,
            "order": null,
            "overflow": null,
            "overflow_x": null,
            "overflow_y": null,
            "padding": null,
            "right": null,
            "top": null,
            "visibility": null,
            "width": null
          }
        },
        "2b8e9bd4964247aa9da32f8afcaca267": {
          "model_module": "@jupyter-widgets/controls",
          "model_name": "DescriptionStyleModel",
          "model_module_version": "1.5.0",
          "state": {
            "_model_module": "@jupyter-widgets/controls",
            "_model_module_version": "1.5.0",
            "_model_name": "DescriptionStyleModel",
            "_view_count": null,
            "_view_module": "@jupyter-widgets/base",
            "_view_module_version": "1.2.0",
            "_view_name": "StyleView",
            "description_width": ""
          }
        },
        "fad33e0f3072464080af1af586f455f7": {
          "model_module": "@jupyter-widgets/base",
          "model_name": "LayoutModel",
          "model_module_version": "1.2.0",
          "state": {
            "_model_module": "@jupyter-widgets/base",
            "_model_module_version": "1.2.0",
            "_model_name": "LayoutModel",
            "_view_count": null,
            "_view_module": "@jupyter-widgets/base",
            "_view_module_version": "1.2.0",
            "_view_name": "LayoutView",
            "align_content": null,
            "align_items": null,
            "align_self": null,
            "border": null,
            "bottom": null,
            "display": null,
            "flex": null,
            "flex_flow": null,
            "grid_area": null,
            "grid_auto_columns": null,
            "grid_auto_flow": null,
            "grid_auto_rows": null,
            "grid_column": null,
            "grid_gap": null,
            "grid_row": null,
            "grid_template_areas": null,
            "grid_template_columns": null,
            "grid_template_rows": null,
            "height": null,
            "justify_content": null,
            "justify_items": null,
            "left": null,
            "margin": null,
            "max_height": null,
            "max_width": null,
            "min_height": null,
            "min_width": null,
            "object_fit": null,
            "object_position": null,
            "order": null,
            "overflow": null,
            "overflow_x": null,
            "overflow_y": null,
            "padding": null,
            "right": null,
            "top": null,
            "visibility": null,
            "width": null
          }
        },
        "b100dccbc9414ae0a3cd0f51db5412cd": {
          "model_module": "@jupyter-widgets/controls",
          "model_name": "ProgressStyleModel",
          "model_module_version": "1.5.0",
          "state": {
            "_model_module": "@jupyter-widgets/controls",
            "_model_module_version": "1.5.0",
            "_model_name": "ProgressStyleModel",
            "_view_count": null,
            "_view_module": "@jupyter-widgets/base",
            "_view_module_version": "1.2.0",
            "_view_name": "StyleView",
            "bar_color": null,
            "description_width": ""
          }
        },
        "6107e08e3526453f99aedb99fd139e72": {
          "model_module": "@jupyter-widgets/base",
          "model_name": "LayoutModel",
          "model_module_version": "1.2.0",
          "state": {
            "_model_module": "@jupyter-widgets/base",
            "_model_module_version": "1.2.0",
            "_model_name": "LayoutModel",
            "_view_count": null,
            "_view_module": "@jupyter-widgets/base",
            "_view_module_version": "1.2.0",
            "_view_name": "LayoutView",
            "align_content": null,
            "align_items": null,
            "align_self": null,
            "border": null,
            "bottom": null,
            "display": null,
            "flex": null,
            "flex_flow": null,
            "grid_area": null,
            "grid_auto_columns": null,
            "grid_auto_flow": null,
            "grid_auto_rows": null,
            "grid_column": null,
            "grid_gap": null,
            "grid_row": null,
            "grid_template_areas": null,
            "grid_template_columns": null,
            "grid_template_rows": null,
            "height": null,
            "justify_content": null,
            "justify_items": null,
            "left": null,
            "margin": null,
            "max_height": null,
            "max_width": null,
            "min_height": null,
            "min_width": null,
            "object_fit": null,
            "object_position": null,
            "order": null,
            "overflow": null,
            "overflow_x": null,
            "overflow_y": null,
            "padding": null,
            "right": null,
            "top": null,
            "visibility": null,
            "width": null
          }
        },
        "cf886b4104654fdf84de3c0068e22ca1": {
          "model_module": "@jupyter-widgets/controls",
          "model_name": "DescriptionStyleModel",
          "model_module_version": "1.5.0",
          "state": {
            "_model_module": "@jupyter-widgets/controls",
            "_model_module_version": "1.5.0",
            "_model_name": "DescriptionStyleModel",
            "_view_count": null,
            "_view_module": "@jupyter-widgets/base",
            "_view_module_version": "1.2.0",
            "_view_name": "StyleView",
            "description_width": ""
          }
        },
        "05d789f9d20840578008e92930335b93": {
          "model_module": "@jupyter-widgets/controls",
          "model_name": "HBoxModel",
          "model_module_version": "1.5.0",
          "state": {
            "_dom_classes": [],
            "_model_module": "@jupyter-widgets/controls",
            "_model_module_version": "1.5.0",
            "_model_name": "HBoxModel",
            "_view_count": null,
            "_view_module": "@jupyter-widgets/controls",
            "_view_module_version": "1.5.0",
            "_view_name": "HBoxView",
            "box_style": "",
            "children": [
              "IPY_MODEL_985d4810e0c84aa780a532e47abd8949",
              "IPY_MODEL_f26ea4867b18420485777a9d8b278899",
              "IPY_MODEL_2b2db4da813e4b369650bf29a0d83913"
            ],
            "layout": "IPY_MODEL_c79fcef59b8f4225a663a6bf66fde4f2"
          }
        },
        "985d4810e0c84aa780a532e47abd8949": {
          "model_module": "@jupyter-widgets/controls",
          "model_name": "HTMLModel",
          "model_module_version": "1.5.0",
          "state": {
            "_dom_classes": [],
            "_model_module": "@jupyter-widgets/controls",
            "_model_module_version": "1.5.0",
            "_model_name": "HTMLModel",
            "_view_count": null,
            "_view_module": "@jupyter-widgets/controls",
            "_view_module_version": "1.5.0",
            "_view_name": "HTMLView",
            "description": "",
            "description_tooltip": null,
            "layout": "IPY_MODEL_3caccfefac884eb2921836fe135da327",
            "placeholder": "​",
            "style": "IPY_MODEL_91278d71ee544f53abd1fbe145065184",
            "value": "config.json: 100%"
          }
        },
        "f26ea4867b18420485777a9d8b278899": {
          "model_module": "@jupyter-widgets/controls",
          "model_name": "FloatProgressModel",
          "model_module_version": "1.5.0",
          "state": {
            "_dom_classes": [],
            "_model_module": "@jupyter-widgets/controls",
            "_model_module_version": "1.5.0",
            "_model_name": "FloatProgressModel",
            "_view_count": null,
            "_view_module": "@jupyter-widgets/controls",
            "_view_module_version": "1.5.0",
            "_view_name": "ProgressView",
            "bar_style": "success",
            "description": "",
            "description_tooltip": null,
            "layout": "IPY_MODEL_1f6a3431a2f34bedad7392f02cb2491f",
            "max": 612,
            "min": 0,
            "orientation": "horizontal",
            "style": "IPY_MODEL_d5869e373fb7499f8938b80acf563e53",
            "value": 612
          }
        },
        "2b2db4da813e4b369650bf29a0d83913": {
          "model_module": "@jupyter-widgets/controls",
          "model_name": "HTMLModel",
          "model_module_version": "1.5.0",
          "state": {
            "_dom_classes": [],
            "_model_module": "@jupyter-widgets/controls",
            "_model_module_version": "1.5.0",
            "_model_name": "HTMLModel",
            "_view_count": null,
            "_view_module": "@jupyter-widgets/controls",
            "_view_module_version": "1.5.0",
            "_view_name": "HTMLView",
            "description": "",
            "description_tooltip": null,
            "layout": "IPY_MODEL_3a2ac8d8f740493dbeceed75c1f350c1",
            "placeholder": "​",
            "style": "IPY_MODEL_e7e2a17ba014465ab3ba0f8a576d91f1",
            "value": " 612/612 [00:00&lt;00:00, 73.5kB/s]"
          }
        },
        "c79fcef59b8f4225a663a6bf66fde4f2": {
          "model_module": "@jupyter-widgets/base",
          "model_name": "LayoutModel",
          "model_module_version": "1.2.0",
          "state": {
            "_model_module": "@jupyter-widgets/base",
            "_model_module_version": "1.2.0",
            "_model_name": "LayoutModel",
            "_view_count": null,
            "_view_module": "@jupyter-widgets/base",
            "_view_module_version": "1.2.0",
            "_view_name": "LayoutView",
            "align_content": null,
            "align_items": null,
            "align_self": null,
            "border": null,
            "bottom": null,
            "display": null,
            "flex": null,
            "flex_flow": null,
            "grid_area": null,
            "grid_auto_columns": null,
            "grid_auto_flow": null,
            "grid_auto_rows": null,
            "grid_column": null,
            "grid_gap": null,
            "grid_row": null,
            "grid_template_areas": null,
            "grid_template_columns": null,
            "grid_template_rows": null,
            "height": null,
            "justify_content": null,
            "justify_items": null,
            "left": null,
            "margin": null,
            "max_height": null,
            "max_width": null,
            "min_height": null,
            "min_width": null,
            "object_fit": null,
            "object_position": null,
            "order": null,
            "overflow": null,
            "overflow_x": null,
            "overflow_y": null,
            "padding": null,
            "right": null,
            "top": null,
            "visibility": null,
            "width": null
          }
        },
        "3caccfefac884eb2921836fe135da327": {
          "model_module": "@jupyter-widgets/base",
          "model_name": "LayoutModel",
          "model_module_version": "1.2.0",
          "state": {
            "_model_module": "@jupyter-widgets/base",
            "_model_module_version": "1.2.0",
            "_model_name": "LayoutModel",
            "_view_count": null,
            "_view_module": "@jupyter-widgets/base",
            "_view_module_version": "1.2.0",
            "_view_name": "LayoutView",
            "align_content": null,
            "align_items": null,
            "align_self": null,
            "border": null,
            "bottom": null,
            "display": null,
            "flex": null,
            "flex_flow": null,
            "grid_area": null,
            "grid_auto_columns": null,
            "grid_auto_flow": null,
            "grid_auto_rows": null,
            "grid_column": null,
            "grid_gap": null,
            "grid_row": null,
            "grid_template_areas": null,
            "grid_template_columns": null,
            "grid_template_rows": null,
            "height": null,
            "justify_content": null,
            "justify_items": null,
            "left": null,
            "margin": null,
            "max_height": null,
            "max_width": null,
            "min_height": null,
            "min_width": null,
            "object_fit": null,
            "object_position": null,
            "order": null,
            "overflow": null,
            "overflow_x": null,
            "overflow_y": null,
            "padding": null,
            "right": null,
            "top": null,
            "visibility": null,
            "width": null
          }
        },
        "91278d71ee544f53abd1fbe145065184": {
          "model_module": "@jupyter-widgets/controls",
          "model_name": "DescriptionStyleModel",
          "model_module_version": "1.5.0",
          "state": {
            "_model_module": "@jupyter-widgets/controls",
            "_model_module_version": "1.5.0",
            "_model_name": "DescriptionStyleModel",
            "_view_count": null,
            "_view_module": "@jupyter-widgets/base",
            "_view_module_version": "1.2.0",
            "_view_name": "StyleView",
            "description_width": ""
          }
        },
        "1f6a3431a2f34bedad7392f02cb2491f": {
          "model_module": "@jupyter-widgets/base",
          "model_name": "LayoutModel",
          "model_module_version": "1.2.0",
          "state": {
            "_model_module": "@jupyter-widgets/base",
            "_model_module_version": "1.2.0",
            "_model_name": "LayoutModel",
            "_view_count": null,
            "_view_module": "@jupyter-widgets/base",
            "_view_module_version": "1.2.0",
            "_view_name": "LayoutView",
            "align_content": null,
            "align_items": null,
            "align_self": null,
            "border": null,
            "bottom": null,
            "display": null,
            "flex": null,
            "flex_flow": null,
            "grid_area": null,
            "grid_auto_columns": null,
            "grid_auto_flow": null,
            "grid_auto_rows": null,
            "grid_column": null,
            "grid_gap": null,
            "grid_row": null,
            "grid_template_areas": null,
            "grid_template_columns": null,
            "grid_template_rows": null,
            "height": null,
            "justify_content": null,
            "justify_items": null,
            "left": null,
            "margin": null,
            "max_height": null,
            "max_width": null,
            "min_height": null,
            "min_width": null,
            "object_fit": null,
            "object_position": null,
            "order": null,
            "overflow": null,
            "overflow_x": null,
            "overflow_y": null,
            "padding": null,
            "right": null,
            "top": null,
            "visibility": null,
            "width": null
          }
        },
        "d5869e373fb7499f8938b80acf563e53": {
          "model_module": "@jupyter-widgets/controls",
          "model_name": "ProgressStyleModel",
          "model_module_version": "1.5.0",
          "state": {
            "_model_module": "@jupyter-widgets/controls",
            "_model_module_version": "1.5.0",
            "_model_name": "ProgressStyleModel",
            "_view_count": null,
            "_view_module": "@jupyter-widgets/base",
            "_view_module_version": "1.2.0",
            "_view_name": "StyleView",
            "bar_color": null,
            "description_width": ""
          }
        },
        "3a2ac8d8f740493dbeceed75c1f350c1": {
          "model_module": "@jupyter-widgets/base",
          "model_name": "LayoutModel",
          "model_module_version": "1.2.0",
          "state": {
            "_model_module": "@jupyter-widgets/base",
            "_model_module_version": "1.2.0",
            "_model_name": "LayoutModel",
            "_view_count": null,
            "_view_module": "@jupyter-widgets/base",
            "_view_module_version": "1.2.0",
            "_view_name": "LayoutView",
            "align_content": null,
            "align_items": null,
            "align_self": null,
            "border": null,
            "bottom": null,
            "display": null,
            "flex": null,
            "flex_flow": null,
            "grid_area": null,
            "grid_auto_columns": null,
            "grid_auto_flow": null,
            "grid_auto_rows": null,
            "grid_column": null,
            "grid_gap": null,
            "grid_row": null,
            "grid_template_areas": null,
            "grid_template_columns": null,
            "grid_template_rows": null,
            "height": null,
            "justify_content": null,
            "justify_items": null,
            "left": null,
            "margin": null,
            "max_height": null,
            "max_width": null,
            "min_height": null,
            "min_width": null,
            "object_fit": null,
            "object_position": null,
            "order": null,
            "overflow": null,
            "overflow_x": null,
            "overflow_y": null,
            "padding": null,
            "right": null,
            "top": null,
            "visibility": null,
            "width": null
          }
        },
        "e7e2a17ba014465ab3ba0f8a576d91f1": {
          "model_module": "@jupyter-widgets/controls",
          "model_name": "DescriptionStyleModel",
          "model_module_version": "1.5.0",
          "state": {
            "_model_module": "@jupyter-widgets/controls",
            "_model_module_version": "1.5.0",
            "_model_name": "DescriptionStyleModel",
            "_view_count": null,
            "_view_module": "@jupyter-widgets/base",
            "_view_module_version": "1.2.0",
            "_view_name": "StyleView",
            "description_width": ""
          }
        },
        "8c50c44e0ace4dbab7194aa8d043f0c7": {
          "model_module": "@jupyter-widgets/controls",
          "model_name": "HBoxModel",
          "model_module_version": "1.5.0",
          "state": {
            "_dom_classes": [],
            "_model_module": "@jupyter-widgets/controls",
            "_model_module_version": "1.5.0",
            "_model_name": "HBoxModel",
            "_view_count": null,
            "_view_module": "@jupyter-widgets/controls",
            "_view_module_version": "1.5.0",
            "_view_name": "HBoxView",
            "box_style": "",
            "children": [
              "IPY_MODEL_10f9dd151ff64c099f1e3741d506feb6",
              "IPY_MODEL_e3d3414fbc314b56afc20b94a4cc8c12",
              "IPY_MODEL_321addc5277c40598a4554d24ce69fd9"
            ],
            "layout": "IPY_MODEL_33416161a051451cb50d0fceb78b1c67"
          }
        },
        "10f9dd151ff64c099f1e3741d506feb6": {
          "model_module": "@jupyter-widgets/controls",
          "model_name": "HTMLModel",
          "model_module_version": "1.5.0",
          "state": {
            "_dom_classes": [],
            "_model_module": "@jupyter-widgets/controls",
            "_model_module_version": "1.5.0",
            "_model_name": "HTMLModel",
            "_view_count": null,
            "_view_module": "@jupyter-widgets/controls",
            "_view_module_version": "1.5.0",
            "_view_name": "HTMLView",
            "description": "",
            "description_tooltip": null,
            "layout": "IPY_MODEL_5eed9292c3d14e50a6c7bd84e8629b3f",
            "placeholder": "​",
            "style": "IPY_MODEL_ef31f557cba74caea15e8e239da340b1",
            "value": "model.safetensors: 100%"
          }
        },
        "e3d3414fbc314b56afc20b94a4cc8c12": {
          "model_module": "@jupyter-widgets/controls",
          "model_name": "FloatProgressModel",
          "model_module_version": "1.5.0",
          "state": {
            "_dom_classes": [],
            "_model_module": "@jupyter-widgets/controls",
            "_model_module_version": "1.5.0",
            "_model_name": "FloatProgressModel",
            "_view_count": null,
            "_view_module": "@jupyter-widgets/controls",
            "_view_module_version": "1.5.0",
            "_view_name": "ProgressView",
            "bar_style": "success",
            "description": "",
            "description_tooltip": null,
            "layout": "IPY_MODEL_7d84acc84ecd45bca68542a14ec94bef",
            "max": 90868376,
            "min": 0,
            "orientation": "horizontal",
            "style": "IPY_MODEL_601e7122b8cc42c4abb6c1b3e70d05b8",
            "value": 90868376
          }
        },
        "321addc5277c40598a4554d24ce69fd9": {
          "model_module": "@jupyter-widgets/controls",
          "model_name": "HTMLModel",
          "model_module_version": "1.5.0",
          "state": {
            "_dom_classes": [],
            "_model_module": "@jupyter-widgets/controls",
            "_model_module_version": "1.5.0",
            "_model_name": "HTMLModel",
            "_view_count": null,
            "_view_module": "@jupyter-widgets/controls",
            "_view_module_version": "1.5.0",
            "_view_name": "HTMLView",
            "description": "",
            "description_tooltip": null,
            "layout": "IPY_MODEL_ed60886beafb4da8918b6bccfd2d959d",
            "placeholder": "​",
            "style": "IPY_MODEL_574d4f9d2ec24e8abe275dbfd1a07a70",
            "value": " 90.9M/90.9M [00:00&lt;00:00, 397MB/s]"
          }
        },
        "33416161a051451cb50d0fceb78b1c67": {
          "model_module": "@jupyter-widgets/base",
          "model_name": "LayoutModel",
          "model_module_version": "1.2.0",
          "state": {
            "_model_module": "@jupyter-widgets/base",
            "_model_module_version": "1.2.0",
            "_model_name": "LayoutModel",
            "_view_count": null,
            "_view_module": "@jupyter-widgets/base",
            "_view_module_version": "1.2.0",
            "_view_name": "LayoutView",
            "align_content": null,
            "align_items": null,
            "align_self": null,
            "border": null,
            "bottom": null,
            "display": null,
            "flex": null,
            "flex_flow": null,
            "grid_area": null,
            "grid_auto_columns": null,
            "grid_auto_flow": null,
            "grid_auto_rows": null,
            "grid_column": null,
            "grid_gap": null,
            "grid_row": null,
            "grid_template_areas": null,
            "grid_template_columns": null,
            "grid_template_rows": null,
            "height": null,
            "justify_content": null,
            "justify_items": null,
            "left": null,
            "margin": null,
            "max_height": null,
            "max_width": null,
            "min_height": null,
            "min_width": null,
            "object_fit": null,
            "object_position": null,
            "order": null,
            "overflow": null,
            "overflow_x": null,
            "overflow_y": null,
            "padding": null,
            "right": null,
            "top": null,
            "visibility": null,
            "width": null
          }
        },
        "5eed9292c3d14e50a6c7bd84e8629b3f": {
          "model_module": "@jupyter-widgets/base",
          "model_name": "LayoutModel",
          "model_module_version": "1.2.0",
          "state": {
            "_model_module": "@jupyter-widgets/base",
            "_model_module_version": "1.2.0",
            "_model_name": "LayoutModel",
            "_view_count": null,
            "_view_module": "@jupyter-widgets/base",
            "_view_module_version": "1.2.0",
            "_view_name": "LayoutView",
            "align_content": null,
            "align_items": null,
            "align_self": null,
            "border": null,
            "bottom": null,
            "display": null,
            "flex": null,
            "flex_flow": null,
            "grid_area": null,
            "grid_auto_columns": null,
            "grid_auto_flow": null,
            "grid_auto_rows": null,
            "grid_column": null,
            "grid_gap": null,
            "grid_row": null,
            "grid_template_areas": null,
            "grid_template_columns": null,
            "grid_template_rows": null,
            "height": null,
            "justify_content": null,
            "justify_items": null,
            "left": null,
            "margin": null,
            "max_height": null,
            "max_width": null,
            "min_height": null,
            "min_width": null,
            "object_fit": null,
            "object_position": null,
            "order": null,
            "overflow": null,
            "overflow_x": null,
            "overflow_y": null,
            "padding": null,
            "right": null,
            "top": null,
            "visibility": null,
            "width": null
          }
        },
        "ef31f557cba74caea15e8e239da340b1": {
          "model_module": "@jupyter-widgets/controls",
          "model_name": "DescriptionStyleModel",
          "model_module_version": "1.5.0",
          "state": {
            "_model_module": "@jupyter-widgets/controls",
            "_model_module_version": "1.5.0",
            "_model_name": "DescriptionStyleModel",
            "_view_count": null,
            "_view_module": "@jupyter-widgets/base",
            "_view_module_version": "1.2.0",
            "_view_name": "StyleView",
            "description_width": ""
          }
        },
        "7d84acc84ecd45bca68542a14ec94bef": {
          "model_module": "@jupyter-widgets/base",
          "model_name": "LayoutModel",
          "model_module_version": "1.2.0",
          "state": {
            "_model_module": "@jupyter-widgets/base",
            "_model_module_version": "1.2.0",
            "_model_name": "LayoutModel",
            "_view_count": null,
            "_view_module": "@jupyter-widgets/base",
            "_view_module_version": "1.2.0",
            "_view_name": "LayoutView",
            "align_content": null,
            "align_items": null,
            "align_self": null,
            "border": null,
            "bottom": null,
            "display": null,
            "flex": null,
            "flex_flow": null,
            "grid_area": null,
            "grid_auto_columns": null,
            "grid_auto_flow": null,
            "grid_auto_rows": null,
            "grid_column": null,
            "grid_gap": null,
            "grid_row": null,
            "grid_template_areas": null,
            "grid_template_columns": null,
            "grid_template_rows": null,
            "height": null,
            "justify_content": null,
            "justify_items": null,
            "left": null,
            "margin": null,
            "max_height": null,
            "max_width": null,
            "min_height": null,
            "min_width": null,
            "object_fit": null,
            "object_position": null,
            "order": null,
            "overflow": null,
            "overflow_x": null,
            "overflow_y": null,
            "padding": null,
            "right": null,
            "top": null,
            "visibility": null,
            "width": null
          }
        },
        "601e7122b8cc42c4abb6c1b3e70d05b8": {
          "model_module": "@jupyter-widgets/controls",
          "model_name": "ProgressStyleModel",
          "model_module_version": "1.5.0",
          "state": {
            "_model_module": "@jupyter-widgets/controls",
            "_model_module_version": "1.5.0",
            "_model_name": "ProgressStyleModel",
            "_view_count": null,
            "_view_module": "@jupyter-widgets/base",
            "_view_module_version": "1.2.0",
            "_view_name": "StyleView",
            "bar_color": null,
            "description_width": ""
          }
        },
        "ed60886beafb4da8918b6bccfd2d959d": {
          "model_module": "@jupyter-widgets/base",
          "model_name": "LayoutModel",
          "model_module_version": "1.2.0",
          "state": {
            "_model_module": "@jupyter-widgets/base",
            "_model_module_version": "1.2.0",
            "_model_name": "LayoutModel",
            "_view_count": null,
            "_view_module": "@jupyter-widgets/base",
            "_view_module_version": "1.2.0",
            "_view_name": "LayoutView",
            "align_content": null,
            "align_items": null,
            "align_self": null,
            "border": null,
            "bottom": null,
            "display": null,
            "flex": null,
            "flex_flow": null,
            "grid_area": null,
            "grid_auto_columns": null,
            "grid_auto_flow": null,
            "grid_auto_rows": null,
            "grid_column": null,
            "grid_gap": null,
            "grid_row": null,
            "grid_template_areas": null,
            "grid_template_columns": null,
            "grid_template_rows": null,
            "height": null,
            "justify_content": null,
            "justify_items": null,
            "left": null,
            "margin": null,
            "max_height": null,
            "max_width": null,
            "min_height": null,
            "min_width": null,
            "object_fit": null,
            "object_position": null,
            "order": null,
            "overflow": null,
            "overflow_x": null,
            "overflow_y": null,
            "padding": null,
            "right": null,
            "top": null,
            "visibility": null,
            "width": null
          }
        },
        "574d4f9d2ec24e8abe275dbfd1a07a70": {
          "model_module": "@jupyter-widgets/controls",
          "model_name": "DescriptionStyleModel",
          "model_module_version": "1.5.0",
          "state": {
            "_model_module": "@jupyter-widgets/controls",
            "_model_module_version": "1.5.0",
            "_model_name": "DescriptionStyleModel",
            "_view_count": null,
            "_view_module": "@jupyter-widgets/base",
            "_view_module_version": "1.2.0",
            "_view_name": "StyleView",
            "description_width": ""
          }
        },
        "5622ca8c02c04ee99582c1a36310bd75": {
          "model_module": "@jupyter-widgets/controls",
          "model_name": "HBoxModel",
          "model_module_version": "1.5.0",
          "state": {
            "_dom_classes": [],
            "_model_module": "@jupyter-widgets/controls",
            "_model_module_version": "1.5.0",
            "_model_name": "HBoxModel",
            "_view_count": null,
            "_view_module": "@jupyter-widgets/controls",
            "_view_module_version": "1.5.0",
            "_view_name": "HBoxView",
            "box_style": "",
            "children": [
              "IPY_MODEL_5ef166afe307481c940d80ba185db0f6",
              "IPY_MODEL_bd1cb756a07b4744bcdc9c3584b03c9f",
              "IPY_MODEL_d7d4906ada66496099765ab5ac1f15b8"
            ],
            "layout": "IPY_MODEL_bebac66122fb4a79b9b2f65050d6aaf0"
          }
        },
        "5ef166afe307481c940d80ba185db0f6": {
          "model_module": "@jupyter-widgets/controls",
          "model_name": "HTMLModel",
          "model_module_version": "1.5.0",
          "state": {
            "_dom_classes": [],
            "_model_module": "@jupyter-widgets/controls",
            "_model_module_version": "1.5.0",
            "_model_name": "HTMLModel",
            "_view_count": null,
            "_view_module": "@jupyter-widgets/controls",
            "_view_module_version": "1.5.0",
            "_view_name": "HTMLView",
            "description": "",
            "description_tooltip": null,
            "layout": "IPY_MODEL_db1a1b4d37e641b984197e0ece21d52b",
            "placeholder": "​",
            "style": "IPY_MODEL_84babb8496c34466bc310e74fad3d0cf",
            "value": "tokenizer_config.json: 100%"
          }
        },
        "bd1cb756a07b4744bcdc9c3584b03c9f": {
          "model_module": "@jupyter-widgets/controls",
          "model_name": "FloatProgressModel",
          "model_module_version": "1.5.0",
          "state": {
            "_dom_classes": [],
            "_model_module": "@jupyter-widgets/controls",
            "_model_module_version": "1.5.0",
            "_model_name": "FloatProgressModel",
            "_view_count": null,
            "_view_module": "@jupyter-widgets/controls",
            "_view_module_version": "1.5.0",
            "_view_name": "ProgressView",
            "bar_style": "success",
            "description": "",
            "description_tooltip": null,
            "layout": "IPY_MODEL_5973a9f8a8ab48aeb23ada0996e5705f",
            "max": 350,
            "min": 0,
            "orientation": "horizontal",
            "style": "IPY_MODEL_dae159a3d94d442e9af53a2f04942658",
            "value": 350
          }
        },
        "d7d4906ada66496099765ab5ac1f15b8": {
          "model_module": "@jupyter-widgets/controls",
          "model_name": "HTMLModel",
          "model_module_version": "1.5.0",
          "state": {
            "_dom_classes": [],
            "_model_module": "@jupyter-widgets/controls",
            "_model_module_version": "1.5.0",
            "_model_name": "HTMLModel",
            "_view_count": null,
            "_view_module": "@jupyter-widgets/controls",
            "_view_module_version": "1.5.0",
            "_view_name": "HTMLView",
            "description": "",
            "description_tooltip": null,
            "layout": "IPY_MODEL_69cd92a50c0940d9ab3aae846502c7eb",
            "placeholder": "​",
            "style": "IPY_MODEL_d133cfd2110b48f48eeb0713cf957702",
            "value": " 350/350 [00:00&lt;00:00, 47.0kB/s]"
          }
        },
        "bebac66122fb4a79b9b2f65050d6aaf0": {
          "model_module": "@jupyter-widgets/base",
          "model_name": "LayoutModel",
          "model_module_version": "1.2.0",
          "state": {
            "_model_module": "@jupyter-widgets/base",
            "_model_module_version": "1.2.0",
            "_model_name": "LayoutModel",
            "_view_count": null,
            "_view_module": "@jupyter-widgets/base",
            "_view_module_version": "1.2.0",
            "_view_name": "LayoutView",
            "align_content": null,
            "align_items": null,
            "align_self": null,
            "border": null,
            "bottom": null,
            "display": null,
            "flex": null,
            "flex_flow": null,
            "grid_area": null,
            "grid_auto_columns": null,
            "grid_auto_flow": null,
            "grid_auto_rows": null,
            "grid_column": null,
            "grid_gap": null,
            "grid_row": null,
            "grid_template_areas": null,
            "grid_template_columns": null,
            "grid_template_rows": null,
            "height": null,
            "justify_content": null,
            "justify_items": null,
            "left": null,
            "margin": null,
            "max_height": null,
            "max_width": null,
            "min_height": null,
            "min_width": null,
            "object_fit": null,
            "object_position": null,
            "order": null,
            "overflow": null,
            "overflow_x": null,
            "overflow_y": null,
            "padding": null,
            "right": null,
            "top": null,
            "visibility": null,
            "width": null
          }
        },
        "db1a1b4d37e641b984197e0ece21d52b": {
          "model_module": "@jupyter-widgets/base",
          "model_name": "LayoutModel",
          "model_module_version": "1.2.0",
          "state": {
            "_model_module": "@jupyter-widgets/base",
            "_model_module_version": "1.2.0",
            "_model_name": "LayoutModel",
            "_view_count": null,
            "_view_module": "@jupyter-widgets/base",
            "_view_module_version": "1.2.0",
            "_view_name": "LayoutView",
            "align_content": null,
            "align_items": null,
            "align_self": null,
            "border": null,
            "bottom": null,
            "display": null,
            "flex": null,
            "flex_flow": null,
            "grid_area": null,
            "grid_auto_columns": null,
            "grid_auto_flow": null,
            "grid_auto_rows": null,
            "grid_column": null,
            "grid_gap": null,
            "grid_row": null,
            "grid_template_areas": null,
            "grid_template_columns": null,
            "grid_template_rows": null,
            "height": null,
            "justify_content": null,
            "justify_items": null,
            "left": null,
            "margin": null,
            "max_height": null,
            "max_width": null,
            "min_height": null,
            "min_width": null,
            "object_fit": null,
            "object_position": null,
            "order": null,
            "overflow": null,
            "overflow_x": null,
            "overflow_y": null,
            "padding": null,
            "right": null,
            "top": null,
            "visibility": null,
            "width": null
          }
        },
        "84babb8496c34466bc310e74fad3d0cf": {
          "model_module": "@jupyter-widgets/controls",
          "model_name": "DescriptionStyleModel",
          "model_module_version": "1.5.0",
          "state": {
            "_model_module": "@jupyter-widgets/controls",
            "_model_module_version": "1.5.0",
            "_model_name": "DescriptionStyleModel",
            "_view_count": null,
            "_view_module": "@jupyter-widgets/base",
            "_view_module_version": "1.2.0",
            "_view_name": "StyleView",
            "description_width": ""
          }
        },
        "5973a9f8a8ab48aeb23ada0996e5705f": {
          "model_module": "@jupyter-widgets/base",
          "model_name": "LayoutModel",
          "model_module_version": "1.2.0",
          "state": {
            "_model_module": "@jupyter-widgets/base",
            "_model_module_version": "1.2.0",
            "_model_name": "LayoutModel",
            "_view_count": null,
            "_view_module": "@jupyter-widgets/base",
            "_view_module_version": "1.2.0",
            "_view_name": "LayoutView",
            "align_content": null,
            "align_items": null,
            "align_self": null,
            "border": null,
            "bottom": null,
            "display": null,
            "flex": null,
            "flex_flow": null,
            "grid_area": null,
            "grid_auto_columns": null,
            "grid_auto_flow": null,
            "grid_auto_rows": null,
            "grid_column": null,
            "grid_gap": null,
            "grid_row": null,
            "grid_template_areas": null,
            "grid_template_columns": null,
            "grid_template_rows": null,
            "height": null,
            "justify_content": null,
            "justify_items": null,
            "left": null,
            "margin": null,
            "max_height": null,
            "max_width": null,
            "min_height": null,
            "min_width": null,
            "object_fit": null,
            "object_position": null,
            "order": null,
            "overflow": null,
            "overflow_x": null,
            "overflow_y": null,
            "padding": null,
            "right": null,
            "top": null,
            "visibility": null,
            "width": null
          }
        },
        "dae159a3d94d442e9af53a2f04942658": {
          "model_module": "@jupyter-widgets/controls",
          "model_name": "ProgressStyleModel",
          "model_module_version": "1.5.0",
          "state": {
            "_model_module": "@jupyter-widgets/controls",
            "_model_module_version": "1.5.0",
            "_model_name": "ProgressStyleModel",
            "_view_count": null,
            "_view_module": "@jupyter-widgets/base",
            "_view_module_version": "1.2.0",
            "_view_name": "StyleView",
            "bar_color": null,
            "description_width": ""
          }
        },
        "69cd92a50c0940d9ab3aae846502c7eb": {
          "model_module": "@jupyter-widgets/base",
          "model_name": "LayoutModel",
          "model_module_version": "1.2.0",
          "state": {
            "_model_module": "@jupyter-widgets/base",
            "_model_module_version": "1.2.0",
            "_model_name": "LayoutModel",
            "_view_count": null,
            "_view_module": "@jupyter-widgets/base",
            "_view_module_version": "1.2.0",
            "_view_name": "LayoutView",
            "align_content": null,
            "align_items": null,
            "align_self": null,
            "border": null,
            "bottom": null,
            "display": null,
            "flex": null,
            "flex_flow": null,
            "grid_area": null,
            "grid_auto_columns": null,
            "grid_auto_flow": null,
            "grid_auto_rows": null,
            "grid_column": null,
            "grid_gap": null,
            "grid_row": null,
            "grid_template_areas": null,
            "grid_template_columns": null,
            "grid_template_rows": null,
            "height": null,
            "justify_content": null,
            "justify_items": null,
            "left": null,
            "margin": null,
            "max_height": null,
            "max_width": null,
            "min_height": null,
            "min_width": null,
            "object_fit": null,
            "object_position": null,
            "order": null,
            "overflow": null,
            "overflow_x": null,
            "overflow_y": null,
            "padding": null,
            "right": null,
            "top": null,
            "visibility": null,
            "width": null
          }
        },
        "d133cfd2110b48f48eeb0713cf957702": {
          "model_module": "@jupyter-widgets/controls",
          "model_name": "DescriptionStyleModel",
          "model_module_version": "1.5.0",
          "state": {
            "_model_module": "@jupyter-widgets/controls",
            "_model_module_version": "1.5.0",
            "_model_name": "DescriptionStyleModel",
            "_view_count": null,
            "_view_module": "@jupyter-widgets/base",
            "_view_module_version": "1.2.0",
            "_view_name": "StyleView",
            "description_width": ""
          }
        },
        "6468a27db61043a5844b26769b6f3fa7": {
          "model_module": "@jupyter-widgets/controls",
          "model_name": "HBoxModel",
          "model_module_version": "1.5.0",
          "state": {
            "_dom_classes": [],
            "_model_module": "@jupyter-widgets/controls",
            "_model_module_version": "1.5.0",
            "_model_name": "HBoxModel",
            "_view_count": null,
            "_view_module": "@jupyter-widgets/controls",
            "_view_module_version": "1.5.0",
            "_view_name": "HBoxView",
            "box_style": "",
            "children": [
              "IPY_MODEL_e6ccc0fed68c40649494fdb4afb1aa0e",
              "IPY_MODEL_9fbaa8e5f83c4dc290f06c08c71caf95",
              "IPY_MODEL_dc7ea5409f5c45e186b49e676860e972"
            ],
            "layout": "IPY_MODEL_81ce84c1cf4745bb879d6ab3abc7dff2"
          }
        },
        "e6ccc0fed68c40649494fdb4afb1aa0e": {
          "model_module": "@jupyter-widgets/controls",
          "model_name": "HTMLModel",
          "model_module_version": "1.5.0",
          "state": {
            "_dom_classes": [],
            "_model_module": "@jupyter-widgets/controls",
            "_model_module_version": "1.5.0",
            "_model_name": "HTMLModel",
            "_view_count": null,
            "_view_module": "@jupyter-widgets/controls",
            "_view_module_version": "1.5.0",
            "_view_name": "HTMLView",
            "description": "",
            "description_tooltip": null,
            "layout": "IPY_MODEL_bfe91f48540646d5b4f7cc0bc6d038e0",
            "placeholder": "​",
            "style": "IPY_MODEL_8fcc9873fb4a4730ab7608602da90802",
            "value": "vocab.txt: 100%"
          }
        },
        "9fbaa8e5f83c4dc290f06c08c71caf95": {
          "model_module": "@jupyter-widgets/controls",
          "model_name": "FloatProgressModel",
          "model_module_version": "1.5.0",
          "state": {
            "_dom_classes": [],
            "_model_module": "@jupyter-widgets/controls",
            "_model_module_version": "1.5.0",
            "_model_name": "FloatProgressModel",
            "_view_count": null,
            "_view_module": "@jupyter-widgets/controls",
            "_view_module_version": "1.5.0",
            "_view_name": "ProgressView",
            "bar_style": "success",
            "description": "",
            "description_tooltip": null,
            "layout": "IPY_MODEL_3af7e5629e4a497c8b016d32a1c93155",
            "max": 231508,
            "min": 0,
            "orientation": "horizontal",
            "style": "IPY_MODEL_9ed58c7f9c2d4758854f59ea0a7c60f6",
            "value": 231508
          }
        },
        "dc7ea5409f5c45e186b49e676860e972": {
          "model_module": "@jupyter-widgets/controls",
          "model_name": "HTMLModel",
          "model_module_version": "1.5.0",
          "state": {
            "_dom_classes": [],
            "_model_module": "@jupyter-widgets/controls",
            "_model_module_version": "1.5.0",
            "_model_name": "HTMLModel",
            "_view_count": null,
            "_view_module": "@jupyter-widgets/controls",
            "_view_module_version": "1.5.0",
            "_view_name": "HTMLView",
            "description": "",
            "description_tooltip": null,
            "layout": "IPY_MODEL_ae2b6add11374035b015822500624855",
            "placeholder": "​",
            "style": "IPY_MODEL_dbf6a25feb43440889f8831f24e74c8f",
            "value": " 232k/232k [00:00&lt;00:00, 14.0MB/s]"
          }
        },
        "81ce84c1cf4745bb879d6ab3abc7dff2": {
          "model_module": "@jupyter-widgets/base",
          "model_name": "LayoutModel",
          "model_module_version": "1.2.0",
          "state": {
            "_model_module": "@jupyter-widgets/base",
            "_model_module_version": "1.2.0",
            "_model_name": "LayoutModel",
            "_view_count": null,
            "_view_module": "@jupyter-widgets/base",
            "_view_module_version": "1.2.0",
            "_view_name": "LayoutView",
            "align_content": null,
            "align_items": null,
            "align_self": null,
            "border": null,
            "bottom": null,
            "display": null,
            "flex": null,
            "flex_flow": null,
            "grid_area": null,
            "grid_auto_columns": null,
            "grid_auto_flow": null,
            "grid_auto_rows": null,
            "grid_column": null,
            "grid_gap": null,
            "grid_row": null,
            "grid_template_areas": null,
            "grid_template_columns": null,
            "grid_template_rows": null,
            "height": null,
            "justify_content": null,
            "justify_items": null,
            "left": null,
            "margin": null,
            "max_height": null,
            "max_width": null,
            "min_height": null,
            "min_width": null,
            "object_fit": null,
            "object_position": null,
            "order": null,
            "overflow": null,
            "overflow_x": null,
            "overflow_y": null,
            "padding": null,
            "right": null,
            "top": null,
            "visibility": null,
            "width": null
          }
        },
        "bfe91f48540646d5b4f7cc0bc6d038e0": {
          "model_module": "@jupyter-widgets/base",
          "model_name": "LayoutModel",
          "model_module_version": "1.2.0",
          "state": {
            "_model_module": "@jupyter-widgets/base",
            "_model_module_version": "1.2.0",
            "_model_name": "LayoutModel",
            "_view_count": null,
            "_view_module": "@jupyter-widgets/base",
            "_view_module_version": "1.2.0",
            "_view_name": "LayoutView",
            "align_content": null,
            "align_items": null,
            "align_self": null,
            "border": null,
            "bottom": null,
            "display": null,
            "flex": null,
            "flex_flow": null,
            "grid_area": null,
            "grid_auto_columns": null,
            "grid_auto_flow": null,
            "grid_auto_rows": null,
            "grid_column": null,
            "grid_gap": null,
            "grid_row": null,
            "grid_template_areas": null,
            "grid_template_columns": null,
            "grid_template_rows": null,
            "height": null,
            "justify_content": null,
            "justify_items": null,
            "left": null,
            "margin": null,
            "max_height": null,
            "max_width": null,
            "min_height": null,
            "min_width": null,
            "object_fit": null,
            "object_position": null,
            "order": null,
            "overflow": null,
            "overflow_x": null,
            "overflow_y": null,
            "padding": null,
            "right": null,
            "top": null,
            "visibility": null,
            "width": null
          }
        },
        "8fcc9873fb4a4730ab7608602da90802": {
          "model_module": "@jupyter-widgets/controls",
          "model_name": "DescriptionStyleModel",
          "model_module_version": "1.5.0",
          "state": {
            "_model_module": "@jupyter-widgets/controls",
            "_model_module_version": "1.5.0",
            "_model_name": "DescriptionStyleModel",
            "_view_count": null,
            "_view_module": "@jupyter-widgets/base",
            "_view_module_version": "1.2.0",
            "_view_name": "StyleView",
            "description_width": ""
          }
        },
        "3af7e5629e4a497c8b016d32a1c93155": {
          "model_module": "@jupyter-widgets/base",
          "model_name": "LayoutModel",
          "model_module_version": "1.2.0",
          "state": {
            "_model_module": "@jupyter-widgets/base",
            "_model_module_version": "1.2.0",
            "_model_name": "LayoutModel",
            "_view_count": null,
            "_view_module": "@jupyter-widgets/base",
            "_view_module_version": "1.2.0",
            "_view_name": "LayoutView",
            "align_content": null,
            "align_items": null,
            "align_self": null,
            "border": null,
            "bottom": null,
            "display": null,
            "flex": null,
            "flex_flow": null,
            "grid_area": null,
            "grid_auto_columns": null,
            "grid_auto_flow": null,
            "grid_auto_rows": null,
            "grid_column": null,
            "grid_gap": null,
            "grid_row": null,
            "grid_template_areas": null,
            "grid_template_columns": null,
            "grid_template_rows": null,
            "height": null,
            "justify_content": null,
            "justify_items": null,
            "left": null,
            "margin": null,
            "max_height": null,
            "max_width": null,
            "min_height": null,
            "min_width": null,
            "object_fit": null,
            "object_position": null,
            "order": null,
            "overflow": null,
            "overflow_x": null,
            "overflow_y": null,
            "padding": null,
            "right": null,
            "top": null,
            "visibility": null,
            "width": null
          }
        },
        "9ed58c7f9c2d4758854f59ea0a7c60f6": {
          "model_module": "@jupyter-widgets/controls",
          "model_name": "ProgressStyleModel",
          "model_module_version": "1.5.0",
          "state": {
            "_model_module": "@jupyter-widgets/controls",
            "_model_module_version": "1.5.0",
            "_model_name": "ProgressStyleModel",
            "_view_count": null,
            "_view_module": "@jupyter-widgets/base",
            "_view_module_version": "1.2.0",
            "_view_name": "StyleView",
            "bar_color": null,
            "description_width": ""
          }
        },
        "ae2b6add11374035b015822500624855": {
          "model_module": "@jupyter-widgets/base",
          "model_name": "LayoutModel",
          "model_module_version": "1.2.0",
          "state": {
            "_model_module": "@jupyter-widgets/base",
            "_model_module_version": "1.2.0",
            "_model_name": "LayoutModel",
            "_view_count": null,
            "_view_module": "@jupyter-widgets/base",
            "_view_module_version": "1.2.0",
            "_view_name": "LayoutView",
            "align_content": null,
            "align_items": null,
            "align_self": null,
            "border": null,
            "bottom": null,
            "display": null,
            "flex": null,
            "flex_flow": null,
            "grid_area": null,
            "grid_auto_columns": null,
            "grid_auto_flow": null,
            "grid_auto_rows": null,
            "grid_column": null,
            "grid_gap": null,
            "grid_row": null,
            "grid_template_areas": null,
            "grid_template_columns": null,
            "grid_template_rows": null,
            "height": null,
            "justify_content": null,
            "justify_items": null,
            "left": null,
            "margin": null,
            "max_height": null,
            "max_width": null,
            "min_height": null,
            "min_width": null,
            "object_fit": null,
            "object_position": null,
            "order": null,
            "overflow": null,
            "overflow_x": null,
            "overflow_y": null,
            "padding": null,
            "right": null,
            "top": null,
            "visibility": null,
            "width": null
          }
        },
        "dbf6a25feb43440889f8831f24e74c8f": {
          "model_module": "@jupyter-widgets/controls",
          "model_name": "DescriptionStyleModel",
          "model_module_version": "1.5.0",
          "state": {
            "_model_module": "@jupyter-widgets/controls",
            "_model_module_version": "1.5.0",
            "_model_name": "DescriptionStyleModel",
            "_view_count": null,
            "_view_module": "@jupyter-widgets/base",
            "_view_module_version": "1.2.0",
            "_view_name": "StyleView",
            "description_width": ""
          }
        },
        "dcfb91786deb40a6be3771032592efa1": {
          "model_module": "@jupyter-widgets/controls",
          "model_name": "HBoxModel",
          "model_module_version": "1.5.0",
          "state": {
            "_dom_classes": [],
            "_model_module": "@jupyter-widgets/controls",
            "_model_module_version": "1.5.0",
            "_model_name": "HBoxModel",
            "_view_count": null,
            "_view_module": "@jupyter-widgets/controls",
            "_view_module_version": "1.5.0",
            "_view_name": "HBoxView",
            "box_style": "",
            "children": [
              "IPY_MODEL_5237cbe1f04642cebdb23b9c781d15ac",
              "IPY_MODEL_dcc17d2dd7da493196f53edd387223c1",
              "IPY_MODEL_56293e92d9654718bcc172d1198e6d6a"
            ],
            "layout": "IPY_MODEL_7d1ca65838b741fc93e34f5f1f52882d"
          }
        },
        "5237cbe1f04642cebdb23b9c781d15ac": {
          "model_module": "@jupyter-widgets/controls",
          "model_name": "HTMLModel",
          "model_module_version": "1.5.0",
          "state": {
            "_dom_classes": [],
            "_model_module": "@jupyter-widgets/controls",
            "_model_module_version": "1.5.0",
            "_model_name": "HTMLModel",
            "_view_count": null,
            "_view_module": "@jupyter-widgets/controls",
            "_view_module_version": "1.5.0",
            "_view_name": "HTMLView",
            "description": "",
            "description_tooltip": null,
            "layout": "IPY_MODEL_ca6c7f45e3a244438978416fba739eed",
            "placeholder": "​",
            "style": "IPY_MODEL_6ff61f6a5e64442dab8ce26aa1f5d658",
            "value": "tokenizer.json: 100%"
          }
        },
        "dcc17d2dd7da493196f53edd387223c1": {
          "model_module": "@jupyter-widgets/controls",
          "model_name": "FloatProgressModel",
          "model_module_version": "1.5.0",
          "state": {
            "_dom_classes": [],
            "_model_module": "@jupyter-widgets/controls",
            "_model_module_version": "1.5.0",
            "_model_name": "FloatProgressModel",
            "_view_count": null,
            "_view_module": "@jupyter-widgets/controls",
            "_view_module_version": "1.5.0",
            "_view_name": "ProgressView",
            "bar_style": "success",
            "description": "",
            "description_tooltip": null,
            "layout": "IPY_MODEL_6d856a2d24434cd7a0b0ad993c5da0c1",
            "max": 466247,
            "min": 0,
            "orientation": "horizontal",
            "style": "IPY_MODEL_d5e8cb6daad04068bcb2f328111dbf55",
            "value": 466247
          }
        },
        "56293e92d9654718bcc172d1198e6d6a": {
          "model_module": "@jupyter-widgets/controls",
          "model_name": "HTMLModel",
          "model_module_version": "1.5.0",
          "state": {
            "_dom_classes": [],
            "_model_module": "@jupyter-widgets/controls",
            "_model_module_version": "1.5.0",
            "_model_name": "HTMLModel",
            "_view_count": null,
            "_view_module": "@jupyter-widgets/controls",
            "_view_module_version": "1.5.0",
            "_view_name": "HTMLView",
            "description": "",
            "description_tooltip": null,
            "layout": "IPY_MODEL_862dd8cb7560484dad70f837ca6d5357",
            "placeholder": "​",
            "style": "IPY_MODEL_6d38c5d1fcf0447fa446bad5707b7faa",
            "value": " 466k/466k [00:00&lt;00:00, 948kB/s]"
          }
        },
        "7d1ca65838b741fc93e34f5f1f52882d": {
          "model_module": "@jupyter-widgets/base",
          "model_name": "LayoutModel",
          "model_module_version": "1.2.0",
          "state": {
            "_model_module": "@jupyter-widgets/base",
            "_model_module_version": "1.2.0",
            "_model_name": "LayoutModel",
            "_view_count": null,
            "_view_module": "@jupyter-widgets/base",
            "_view_module_version": "1.2.0",
            "_view_name": "LayoutView",
            "align_content": null,
            "align_items": null,
            "align_self": null,
            "border": null,
            "bottom": null,
            "display": null,
            "flex": null,
            "flex_flow": null,
            "grid_area": null,
            "grid_auto_columns": null,
            "grid_auto_flow": null,
            "grid_auto_rows": null,
            "grid_column": null,
            "grid_gap": null,
            "grid_row": null,
            "grid_template_areas": null,
            "grid_template_columns": null,
            "grid_template_rows": null,
            "height": null,
            "justify_content": null,
            "justify_items": null,
            "left": null,
            "margin": null,
            "max_height": null,
            "max_width": null,
            "min_height": null,
            "min_width": null,
            "object_fit": null,
            "object_position": null,
            "order": null,
            "overflow": null,
            "overflow_x": null,
            "overflow_y": null,
            "padding": null,
            "right": null,
            "top": null,
            "visibility": null,
            "width": null
          }
        },
        "ca6c7f45e3a244438978416fba739eed": {
          "model_module": "@jupyter-widgets/base",
          "model_name": "LayoutModel",
          "model_module_version": "1.2.0",
          "state": {
            "_model_module": "@jupyter-widgets/base",
            "_model_module_version": "1.2.0",
            "_model_name": "LayoutModel",
            "_view_count": null,
            "_view_module": "@jupyter-widgets/base",
            "_view_module_version": "1.2.0",
            "_view_name": "LayoutView",
            "align_content": null,
            "align_items": null,
            "align_self": null,
            "border": null,
            "bottom": null,
            "display": null,
            "flex": null,
            "flex_flow": null,
            "grid_area": null,
            "grid_auto_columns": null,
            "grid_auto_flow": null,
            "grid_auto_rows": null,
            "grid_column": null,
            "grid_gap": null,
            "grid_row": null,
            "grid_template_areas": null,
            "grid_template_columns": null,
            "grid_template_rows": null,
            "height": null,
            "justify_content": null,
            "justify_items": null,
            "left": null,
            "margin": null,
            "max_height": null,
            "max_width": null,
            "min_height": null,
            "min_width": null,
            "object_fit": null,
            "object_position": null,
            "order": null,
            "overflow": null,
            "overflow_x": null,
            "overflow_y": null,
            "padding": null,
            "right": null,
            "top": null,
            "visibility": null,
            "width": null
          }
        },
        "6ff61f6a5e64442dab8ce26aa1f5d658": {
          "model_module": "@jupyter-widgets/controls",
          "model_name": "DescriptionStyleModel",
          "model_module_version": "1.5.0",
          "state": {
            "_model_module": "@jupyter-widgets/controls",
            "_model_module_version": "1.5.0",
            "_model_name": "DescriptionStyleModel",
            "_view_count": null,
            "_view_module": "@jupyter-widgets/base",
            "_view_module_version": "1.2.0",
            "_view_name": "StyleView",
            "description_width": ""
          }
        },
        "6d856a2d24434cd7a0b0ad993c5da0c1": {
          "model_module": "@jupyter-widgets/base",
          "model_name": "LayoutModel",
          "model_module_version": "1.2.0",
          "state": {
            "_model_module": "@jupyter-widgets/base",
            "_model_module_version": "1.2.0",
            "_model_name": "LayoutModel",
            "_view_count": null,
            "_view_module": "@jupyter-widgets/base",
            "_view_module_version": "1.2.0",
            "_view_name": "LayoutView",
            "align_content": null,
            "align_items": null,
            "align_self": null,
            "border": null,
            "bottom": null,
            "display": null,
            "flex": null,
            "flex_flow": null,
            "grid_area": null,
            "grid_auto_columns": null,
            "grid_auto_flow": null,
            "grid_auto_rows": null,
            "grid_column": null,
            "grid_gap": null,
            "grid_row": null,
            "grid_template_areas": null,
            "grid_template_columns": null,
            "grid_template_rows": null,
            "height": null,
            "justify_content": null,
            "justify_items": null,
            "left": null,
            "margin": null,
            "max_height": null,
            "max_width": null,
            "min_height": null,
            "min_width": null,
            "object_fit": null,
            "object_position": null,
            "order": null,
            "overflow": null,
            "overflow_x": null,
            "overflow_y": null,
            "padding": null,
            "right": null,
            "top": null,
            "visibility": null,
            "width": null
          }
        },
        "d5e8cb6daad04068bcb2f328111dbf55": {
          "model_module": "@jupyter-widgets/controls",
          "model_name": "ProgressStyleModel",
          "model_module_version": "1.5.0",
          "state": {
            "_model_module": "@jupyter-widgets/controls",
            "_model_module_version": "1.5.0",
            "_model_name": "ProgressStyleModel",
            "_view_count": null,
            "_view_module": "@jupyter-widgets/base",
            "_view_module_version": "1.2.0",
            "_view_name": "StyleView",
            "bar_color": null,
            "description_width": ""
          }
        },
        "862dd8cb7560484dad70f837ca6d5357": {
          "model_module": "@jupyter-widgets/base",
          "model_name": "LayoutModel",
          "model_module_version": "1.2.0",
          "state": {
            "_model_module": "@jupyter-widgets/base",
            "_model_module_version": "1.2.0",
            "_model_name": "LayoutModel",
            "_view_count": null,
            "_view_module": "@jupyter-widgets/base",
            "_view_module_version": "1.2.0",
            "_view_name": "LayoutView",
            "align_content": null,
            "align_items": null,
            "align_self": null,
            "border": null,
            "bottom": null,
            "display": null,
            "flex": null,
            "flex_flow": null,
            "grid_area": null,
            "grid_auto_columns": null,
            "grid_auto_flow": null,
            "grid_auto_rows": null,
            "grid_column": null,
            "grid_gap": null,
            "grid_row": null,
            "grid_template_areas": null,
            "grid_template_columns": null,
            "grid_template_rows": null,
            "height": null,
            "justify_content": null,
            "justify_items": null,
            "left": null,
            "margin": null,
            "max_height": null,
            "max_width": null,
            "min_height": null,
            "min_width": null,
            "object_fit": null,
            "object_position": null,
            "order": null,
            "overflow": null,
            "overflow_x": null,
            "overflow_y": null,
            "padding": null,
            "right": null,
            "top": null,
            "visibility": null,
            "width": null
          }
        },
        "6d38c5d1fcf0447fa446bad5707b7faa": {
          "model_module": "@jupyter-widgets/controls",
          "model_name": "DescriptionStyleModel",
          "model_module_version": "1.5.0",
          "state": {
            "_model_module": "@jupyter-widgets/controls",
            "_model_module_version": "1.5.0",
            "_model_name": "DescriptionStyleModel",
            "_view_count": null,
            "_view_module": "@jupyter-widgets/base",
            "_view_module_version": "1.2.0",
            "_view_name": "StyleView",
            "description_width": ""
          }
        },
        "791a112b40e945f0a628f1802fb0fc87": {
          "model_module": "@jupyter-widgets/controls",
          "model_name": "HBoxModel",
          "model_module_version": "1.5.0",
          "state": {
            "_dom_classes": [],
            "_model_module": "@jupyter-widgets/controls",
            "_model_module_version": "1.5.0",
            "_model_name": "HBoxModel",
            "_view_count": null,
            "_view_module": "@jupyter-widgets/controls",
            "_view_module_version": "1.5.0",
            "_view_name": "HBoxView",
            "box_style": "",
            "children": [
              "IPY_MODEL_8757f9c02e6246fb9cfd4c84877aa115",
              "IPY_MODEL_566076eeeb4f457490e469e89f95c5b3",
              "IPY_MODEL_896f8a9bbc95477da6cfbcfb014b28cf"
            ],
            "layout": "IPY_MODEL_ffe6a299858a48c292915953fce1c73e"
          }
        },
        "8757f9c02e6246fb9cfd4c84877aa115": {
          "model_module": "@jupyter-widgets/controls",
          "model_name": "HTMLModel",
          "model_module_version": "1.5.0",
          "state": {
            "_dom_classes": [],
            "_model_module": "@jupyter-widgets/controls",
            "_model_module_version": "1.5.0",
            "_model_name": "HTMLModel",
            "_view_count": null,
            "_view_module": "@jupyter-widgets/controls",
            "_view_module_version": "1.5.0",
            "_view_name": "HTMLView",
            "description": "",
            "description_tooltip": null,
            "layout": "IPY_MODEL_ce17e26af3c848c0a7fec0e2bca8ff73",
            "placeholder": "​",
            "style": "IPY_MODEL_64792026f9c54f99ad1be01dd9e836a3",
            "value": "special_tokens_map.json: 100%"
          }
        },
        "566076eeeb4f457490e469e89f95c5b3": {
          "model_module": "@jupyter-widgets/controls",
          "model_name": "FloatProgressModel",
          "model_module_version": "1.5.0",
          "state": {
            "_dom_classes": [],
            "_model_module": "@jupyter-widgets/controls",
            "_model_module_version": "1.5.0",
            "_model_name": "FloatProgressModel",
            "_view_count": null,
            "_view_module": "@jupyter-widgets/controls",
            "_view_module_version": "1.5.0",
            "_view_name": "ProgressView",
            "bar_style": "success",
            "description": "",
            "description_tooltip": null,
            "layout": "IPY_MODEL_d1ffe54350c34762bdd80a599a75a968",
            "max": 112,
            "min": 0,
            "orientation": "horizontal",
            "style": "IPY_MODEL_949702fd8a28468e81cdeb3ffdcccfeb",
            "value": 112
          }
        },
        "896f8a9bbc95477da6cfbcfb014b28cf": {
          "model_module": "@jupyter-widgets/controls",
          "model_name": "HTMLModel",
          "model_module_version": "1.5.0",
          "state": {
            "_dom_classes": [],
            "_model_module": "@jupyter-widgets/controls",
            "_model_module_version": "1.5.0",
            "_model_name": "HTMLModel",
            "_view_count": null,
            "_view_module": "@jupyter-widgets/controls",
            "_view_module_version": "1.5.0",
            "_view_name": "HTMLView",
            "description": "",
            "description_tooltip": null,
            "layout": "IPY_MODEL_6c2bbc04d2ba4460b913937dd02a00cd",
            "placeholder": "​",
            "style": "IPY_MODEL_b7b355aa55ba452e9dbf888879f859c0",
            "value": " 112/112 [00:00&lt;00:00, 13.9kB/s]"
          }
        },
        "ffe6a299858a48c292915953fce1c73e": {
          "model_module": "@jupyter-widgets/base",
          "model_name": "LayoutModel",
          "model_module_version": "1.2.0",
          "state": {
            "_model_module": "@jupyter-widgets/base",
            "_model_module_version": "1.2.0",
            "_model_name": "LayoutModel",
            "_view_count": null,
            "_view_module": "@jupyter-widgets/base",
            "_view_module_version": "1.2.0",
            "_view_name": "LayoutView",
            "align_content": null,
            "align_items": null,
            "align_self": null,
            "border": null,
            "bottom": null,
            "display": null,
            "flex": null,
            "flex_flow": null,
            "grid_area": null,
            "grid_auto_columns": null,
            "grid_auto_flow": null,
            "grid_auto_rows": null,
            "grid_column": null,
            "grid_gap": null,
            "grid_row": null,
            "grid_template_areas": null,
            "grid_template_columns": null,
            "grid_template_rows": null,
            "height": null,
            "justify_content": null,
            "justify_items": null,
            "left": null,
            "margin": null,
            "max_height": null,
            "max_width": null,
            "min_height": null,
            "min_width": null,
            "object_fit": null,
            "object_position": null,
            "order": null,
            "overflow": null,
            "overflow_x": null,
            "overflow_y": null,
            "padding": null,
            "right": null,
            "top": null,
            "visibility": null,
            "width": null
          }
        },
        "ce17e26af3c848c0a7fec0e2bca8ff73": {
          "model_module": "@jupyter-widgets/base",
          "model_name": "LayoutModel",
          "model_module_version": "1.2.0",
          "state": {
            "_model_module": "@jupyter-widgets/base",
            "_model_module_version": "1.2.0",
            "_model_name": "LayoutModel",
            "_view_count": null,
            "_view_module": "@jupyter-widgets/base",
            "_view_module_version": "1.2.0",
            "_view_name": "LayoutView",
            "align_content": null,
            "align_items": null,
            "align_self": null,
            "border": null,
            "bottom": null,
            "display": null,
            "flex": null,
            "flex_flow": null,
            "grid_area": null,
            "grid_auto_columns": null,
            "grid_auto_flow": null,
            "grid_auto_rows": null,
            "grid_column": null,
            "grid_gap": null,
            "grid_row": null,
            "grid_template_areas": null,
            "grid_template_columns": null,
            "grid_template_rows": null,
            "height": null,
            "justify_content": null,
            "justify_items": null,
            "left": null,
            "margin": null,
            "max_height": null,
            "max_width": null,
            "min_height": null,
            "min_width": null,
            "object_fit": null,
            "object_position": null,
            "order": null,
            "overflow": null,
            "overflow_x": null,
            "overflow_y": null,
            "padding": null,
            "right": null,
            "top": null,
            "visibility": null,
            "width": null
          }
        },
        "64792026f9c54f99ad1be01dd9e836a3": {
          "model_module": "@jupyter-widgets/controls",
          "model_name": "DescriptionStyleModel",
          "model_module_version": "1.5.0",
          "state": {
            "_model_module": "@jupyter-widgets/controls",
            "_model_module_version": "1.5.0",
            "_model_name": "DescriptionStyleModel",
            "_view_count": null,
            "_view_module": "@jupyter-widgets/base",
            "_view_module_version": "1.2.0",
            "_view_name": "StyleView",
            "description_width": ""
          }
        },
        "d1ffe54350c34762bdd80a599a75a968": {
          "model_module": "@jupyter-widgets/base",
          "model_name": "LayoutModel",
          "model_module_version": "1.2.0",
          "state": {
            "_model_module": "@jupyter-widgets/base",
            "_model_module_version": "1.2.0",
            "_model_name": "LayoutModel",
            "_view_count": null,
            "_view_module": "@jupyter-widgets/base",
            "_view_module_version": "1.2.0",
            "_view_name": "LayoutView",
            "align_content": null,
            "align_items": null,
            "align_self": null,
            "border": null,
            "bottom": null,
            "display": null,
            "flex": null,
            "flex_flow": null,
            "grid_area": null,
            "grid_auto_columns": null,
            "grid_auto_flow": null,
            "grid_auto_rows": null,
            "grid_column": null,
            "grid_gap": null,
            "grid_row": null,
            "grid_template_areas": null,
            "grid_template_columns": null,
            "grid_template_rows": null,
            "height": null,
            "justify_content": null,
            "justify_items": null,
            "left": null,
            "margin": null,
            "max_height": null,
            "max_width": null,
            "min_height": null,
            "min_width": null,
            "object_fit": null,
            "object_position": null,
            "order": null,
            "overflow": null,
            "overflow_x": null,
            "overflow_y": null,
            "padding": null,
            "right": null,
            "top": null,
            "visibility": null,
            "width": null
          }
        },
        "949702fd8a28468e81cdeb3ffdcccfeb": {
          "model_module": "@jupyter-widgets/controls",
          "model_name": "ProgressStyleModel",
          "model_module_version": "1.5.0",
          "state": {
            "_model_module": "@jupyter-widgets/controls",
            "_model_module_version": "1.5.0",
            "_model_name": "ProgressStyleModel",
            "_view_count": null,
            "_view_module": "@jupyter-widgets/base",
            "_view_module_version": "1.2.0",
            "_view_name": "StyleView",
            "bar_color": null,
            "description_width": ""
          }
        },
        "6c2bbc04d2ba4460b913937dd02a00cd": {
          "model_module": "@jupyter-widgets/base",
          "model_name": "LayoutModel",
          "model_module_version": "1.2.0",
          "state": {
            "_model_module": "@jupyter-widgets/base",
            "_model_module_version": "1.2.0",
            "_model_name": "LayoutModel",
            "_view_count": null,
            "_view_module": "@jupyter-widgets/base",
            "_view_module_version": "1.2.0",
            "_view_name": "LayoutView",
            "align_content": null,
            "align_items": null,
            "align_self": null,
            "border": null,
            "bottom": null,
            "display": null,
            "flex": null,
            "flex_flow": null,
            "grid_area": null,
            "grid_auto_columns": null,
            "grid_auto_flow": null,
            "grid_auto_rows": null,
            "grid_column": null,
            "grid_gap": null,
            "grid_row": null,
            "grid_template_areas": null,
            "grid_template_columns": null,
            "grid_template_rows": null,
            "height": null,
            "justify_content": null,
            "justify_items": null,
            "left": null,
            "margin": null,
            "max_height": null,
            "max_width": null,
            "min_height": null,
            "min_width": null,
            "object_fit": null,
            "object_position": null,
            "order": null,
            "overflow": null,
            "overflow_x": null,
            "overflow_y": null,
            "padding": null,
            "right": null,
            "top": null,
            "visibility": null,
            "width": null
          }
        },
        "b7b355aa55ba452e9dbf888879f859c0": {
          "model_module": "@jupyter-widgets/controls",
          "model_name": "DescriptionStyleModel",
          "model_module_version": "1.5.0",
          "state": {
            "_model_module": "@jupyter-widgets/controls",
            "_model_module_version": "1.5.0",
            "_model_name": "DescriptionStyleModel",
            "_view_count": null,
            "_view_module": "@jupyter-widgets/base",
            "_view_module_version": "1.2.0",
            "_view_name": "StyleView",
            "description_width": ""
          }
        },
        "b1314925f4fa4bfdaa35102e024974b3": {
          "model_module": "@jupyter-widgets/controls",
          "model_name": "HBoxModel",
          "model_module_version": "1.5.0",
          "state": {
            "_dom_classes": [],
            "_model_module": "@jupyter-widgets/controls",
            "_model_module_version": "1.5.0",
            "_model_name": "HBoxModel",
            "_view_count": null,
            "_view_module": "@jupyter-widgets/controls",
            "_view_module_version": "1.5.0",
            "_view_name": "HBoxView",
            "box_style": "",
            "children": [
              "IPY_MODEL_3791d2d238894744a0f76cf51a249e64",
              "IPY_MODEL_45b1c6c5f50c4817a38abe3e985ceb47",
              "IPY_MODEL_e5d0c93ff6cf4a4d924eb2f1b4f873df"
            ],
            "layout": "IPY_MODEL_2ec2f0db4abd4ed985f1489cae0cd528"
          }
        },
        "3791d2d238894744a0f76cf51a249e64": {
          "model_module": "@jupyter-widgets/controls",
          "model_name": "HTMLModel",
          "model_module_version": "1.5.0",
          "state": {
            "_dom_classes": [],
            "_model_module": "@jupyter-widgets/controls",
            "_model_module_version": "1.5.0",
            "_model_name": "HTMLModel",
            "_view_count": null,
            "_view_module": "@jupyter-widgets/controls",
            "_view_module_version": "1.5.0",
            "_view_name": "HTMLView",
            "description": "",
            "description_tooltip": null,
            "layout": "IPY_MODEL_57cd773b523e4fafac5e091aaa80c71a",
            "placeholder": "​",
            "style": "IPY_MODEL_5efd7fcd9c774e659a2aa4feb75e7484",
            "value": "config.json: 100%"
          }
        },
        "45b1c6c5f50c4817a38abe3e985ceb47": {
          "model_module": "@jupyter-widgets/controls",
          "model_name": "FloatProgressModel",
          "model_module_version": "1.5.0",
          "state": {
            "_dom_classes": [],
            "_model_module": "@jupyter-widgets/controls",
            "_model_module_version": "1.5.0",
            "_model_name": "FloatProgressModel",
            "_view_count": null,
            "_view_module": "@jupyter-widgets/controls",
            "_view_module_version": "1.5.0",
            "_view_name": "ProgressView",
            "bar_style": "success",
            "description": "",
            "description_tooltip": null,
            "layout": "IPY_MODEL_a33f71e91776499dbd60d123ff8a39dd",
            "max": 190,
            "min": 0,
            "orientation": "horizontal",
            "style": "IPY_MODEL_0473b74f411944029da43a9d39525cd5",
            "value": 190
          }
        },
        "e5d0c93ff6cf4a4d924eb2f1b4f873df": {
          "model_module": "@jupyter-widgets/controls",
          "model_name": "HTMLModel",
          "model_module_version": "1.5.0",
          "state": {
            "_dom_classes": [],
            "_model_module": "@jupyter-widgets/controls",
            "_model_module_version": "1.5.0",
            "_model_name": "HTMLModel",
            "_view_count": null,
            "_view_module": "@jupyter-widgets/controls",
            "_view_module_version": "1.5.0",
            "_view_name": "HTMLView",
            "description": "",
            "description_tooltip": null,
            "layout": "IPY_MODEL_bebadb8850a74a96b9bb659eaa2358ee",
            "placeholder": "​",
            "style": "IPY_MODEL_3dc01440b98a428da85ab82f06cce3a3",
            "value": " 190/190 [00:00&lt;00:00, 20.8kB/s]"
          }
        },
        "2ec2f0db4abd4ed985f1489cae0cd528": {
          "model_module": "@jupyter-widgets/base",
          "model_name": "LayoutModel",
          "model_module_version": "1.2.0",
          "state": {
            "_model_module": "@jupyter-widgets/base",
            "_model_module_version": "1.2.0",
            "_model_name": "LayoutModel",
            "_view_count": null,
            "_view_module": "@jupyter-widgets/base",
            "_view_module_version": "1.2.0",
            "_view_name": "LayoutView",
            "align_content": null,
            "align_items": null,
            "align_self": null,
            "border": null,
            "bottom": null,
            "display": null,
            "flex": null,
            "flex_flow": null,
            "grid_area": null,
            "grid_auto_columns": null,
            "grid_auto_flow": null,
            "grid_auto_rows": null,
            "grid_column": null,
            "grid_gap": null,
            "grid_row": null,
            "grid_template_areas": null,
            "grid_template_columns": null,
            "grid_template_rows": null,
            "height": null,
            "justify_content": null,
            "justify_items": null,
            "left": null,
            "margin": null,
            "max_height": null,
            "max_width": null,
            "min_height": null,
            "min_width": null,
            "object_fit": null,
            "object_position": null,
            "order": null,
            "overflow": null,
            "overflow_x": null,
            "overflow_y": null,
            "padding": null,
            "right": null,
            "top": null,
            "visibility": null,
            "width": null
          }
        },
        "57cd773b523e4fafac5e091aaa80c71a": {
          "model_module": "@jupyter-widgets/base",
          "model_name": "LayoutModel",
          "model_module_version": "1.2.0",
          "state": {
            "_model_module": "@jupyter-widgets/base",
            "_model_module_version": "1.2.0",
            "_model_name": "LayoutModel",
            "_view_count": null,
            "_view_module": "@jupyter-widgets/base",
            "_view_module_version": "1.2.0",
            "_view_name": "LayoutView",
            "align_content": null,
            "align_items": null,
            "align_self": null,
            "border": null,
            "bottom": null,
            "display": null,
            "flex": null,
            "flex_flow": null,
            "grid_area": null,
            "grid_auto_columns": null,
            "grid_auto_flow": null,
            "grid_auto_rows": null,
            "grid_column": null,
            "grid_gap": null,
            "grid_row": null,
            "grid_template_areas": null,
            "grid_template_columns": null,
            "grid_template_rows": null,
            "height": null,
            "justify_content": null,
            "justify_items": null,
            "left": null,
            "margin": null,
            "max_height": null,
            "max_width": null,
            "min_height": null,
            "min_width": null,
            "object_fit": null,
            "object_position": null,
            "order": null,
            "overflow": null,
            "overflow_x": null,
            "overflow_y": null,
            "padding": null,
            "right": null,
            "top": null,
            "visibility": null,
            "width": null
          }
        },
        "5efd7fcd9c774e659a2aa4feb75e7484": {
          "model_module": "@jupyter-widgets/controls",
          "model_name": "DescriptionStyleModel",
          "model_module_version": "1.5.0",
          "state": {
            "_model_module": "@jupyter-widgets/controls",
            "_model_module_version": "1.5.0",
            "_model_name": "DescriptionStyleModel",
            "_view_count": null,
            "_view_module": "@jupyter-widgets/base",
            "_view_module_version": "1.2.0",
            "_view_name": "StyleView",
            "description_width": ""
          }
        },
        "a33f71e91776499dbd60d123ff8a39dd": {
          "model_module": "@jupyter-widgets/base",
          "model_name": "LayoutModel",
          "model_module_version": "1.2.0",
          "state": {
            "_model_module": "@jupyter-widgets/base",
            "_model_module_version": "1.2.0",
            "_model_name": "LayoutModel",
            "_view_count": null,
            "_view_module": "@jupyter-widgets/base",
            "_view_module_version": "1.2.0",
            "_view_name": "LayoutView",
            "align_content": null,
            "align_items": null,
            "align_self": null,
            "border": null,
            "bottom": null,
            "display": null,
            "flex": null,
            "flex_flow": null,
            "grid_area": null,
            "grid_auto_columns": null,
            "grid_auto_flow": null,
            "grid_auto_rows": null,
            "grid_column": null,
            "grid_gap": null,
            "grid_row": null,
            "grid_template_areas": null,
            "grid_template_columns": null,
            "grid_template_rows": null,
            "height": null,
            "justify_content": null,
            "justify_items": null,
            "left": null,
            "margin": null,
            "max_height": null,
            "max_width": null,
            "min_height": null,
            "min_width": null,
            "object_fit": null,
            "object_position": null,
            "order": null,
            "overflow": null,
            "overflow_x": null,
            "overflow_y": null,
            "padding": null,
            "right": null,
            "top": null,
            "visibility": null,
            "width": null
          }
        },
        "0473b74f411944029da43a9d39525cd5": {
          "model_module": "@jupyter-widgets/controls",
          "model_name": "ProgressStyleModel",
          "model_module_version": "1.5.0",
          "state": {
            "_model_module": "@jupyter-widgets/controls",
            "_model_module_version": "1.5.0",
            "_model_name": "ProgressStyleModel",
            "_view_count": null,
            "_view_module": "@jupyter-widgets/base",
            "_view_module_version": "1.2.0",
            "_view_name": "StyleView",
            "bar_color": null,
            "description_width": ""
          }
        },
        "bebadb8850a74a96b9bb659eaa2358ee": {
          "model_module": "@jupyter-widgets/base",
          "model_name": "LayoutModel",
          "model_module_version": "1.2.0",
          "state": {
            "_model_module": "@jupyter-widgets/base",
            "_model_module_version": "1.2.0",
            "_model_name": "LayoutModel",
            "_view_count": null,
            "_view_module": "@jupyter-widgets/base",
            "_view_module_version": "1.2.0",
            "_view_name": "LayoutView",
            "align_content": null,
            "align_items": null,
            "align_self": null,
            "border": null,
            "bottom": null,
            "display": null,
            "flex": null,
            "flex_flow": null,
            "grid_area": null,
            "grid_auto_columns": null,
            "grid_auto_flow": null,
            "grid_auto_rows": null,
            "grid_column": null,
            "grid_gap": null,
            "grid_row": null,
            "grid_template_areas": null,
            "grid_template_columns": null,
            "grid_template_rows": null,
            "height": null,
            "justify_content": null,
            "justify_items": null,
            "left": null,
            "margin": null,
            "max_height": null,
            "max_width": null,
            "min_height": null,
            "min_width": null,
            "object_fit": null,
            "object_position": null,
            "order": null,
            "overflow": null,
            "overflow_x": null,
            "overflow_y": null,
            "padding": null,
            "right": null,
            "top": null,
            "visibility": null,
            "width": null
          }
        },
        "3dc01440b98a428da85ab82f06cce3a3": {
          "model_module": "@jupyter-widgets/controls",
          "model_name": "DescriptionStyleModel",
          "model_module_version": "1.5.0",
          "state": {
            "_model_module": "@jupyter-widgets/controls",
            "_model_module_version": "1.5.0",
            "_model_name": "DescriptionStyleModel",
            "_view_count": null,
            "_view_module": "@jupyter-widgets/base",
            "_view_module_version": "1.2.0",
            "_view_name": "StyleView",
            "description_width": ""
          }
        }
      }
    }
  },
  "nbformat": 4,
  "nbformat_minor": 0
}